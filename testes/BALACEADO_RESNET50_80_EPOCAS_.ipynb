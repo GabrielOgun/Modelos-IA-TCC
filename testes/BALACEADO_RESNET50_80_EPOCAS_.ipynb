{
  "nbformat": 4,
  "nbformat_minor": 0,
  "metadata": {
    "colab": {
      "provenance": [],
      "machine_shape": "hm",
      "gpuType": "T4"
    },
    "kernelspec": {
      "name": "python3",
      "display_name": "Python 3"
    },
    "language_info": {
      "name": "python"
    },
    "accelerator": "GPU"
  },
  "cells": [
    {
      "cell_type": "markdown",
      "source": [
        "importando drive"
      ],
      "metadata": {
        "id": "sS7yrDxFHVbn"
      }
    },
    {
      "cell_type": "code",
      "source": [
        "from pydrive2.auth import GoogleAuth\n",
        "from pydrive2.drive import GoogleDrive\n",
        "from google.colab import auth\n",
        "from oauth2client.client import GoogleCredentials\n",
        "from google.colab import drive\n",
        "drive.mount('/content/drive')"
      ],
      "metadata": {
        "colab": {
          "base_uri": "https://localhost:8080/"
        },
        "id": "UZ6snv1SdWAq",
        "outputId": "3c37778a-3089-404c-a012-4b435d059e6f"
      },
      "execution_count": 1,
      "outputs": [
        {
          "output_type": "stream",
          "name": "stdout",
          "text": [
            "Mounted at /content/drive\n"
          ]
        }
      ]
    },
    {
      "cell_type": "code",
      "source": [
        "auth.authenticate_user()\n",
        "gauth = GoogleAuth()\n",
        "gauth.credentials = GoogleCredentials.get_application_default()\n",
        "drive = GoogleDrive(gauth)"
      ],
      "metadata": {
        "id": "PHVWAKTSGWFu"
      },
      "execution_count": 2,
      "outputs": []
    },
    {
      "cell_type": "code",
      "source": [
        "import matplotlib.pyplot as plt\n",
        "import numpy as np\n",
        "import os\n",
        "import PIL\n",
        "import tensorflow as tf\n",
        "import pandas as pd\n",
        "import seaborn as sns\n",
        "import pathlib\n",
        "\n",
        "from tensorflow import keras\n",
        "from tensorflow.keras import layers\n",
        "from tensorflow.keras.models import Sequential\n",
        "from tensorflow.keras.layers import Conv2D, MaxPool2D # Updated import statements\n",
        "from tensorflow.keras.preprocessing.image import ImageDataGenerator\n",
        "from sklearn.metrics import classification_report, confusion_matrix\n",
        "from keras.callbacks import ModelCheckpoint, ReduceLROnPlateau\n",
        "from tensorflow.keras import regularizers\n",
        "from keras import metrics"
      ],
      "metadata": {
        "id": "-KLPePQyD1kJ"
      },
      "execution_count": 3,
      "outputs": []
    },
    {
      "cell_type": "code",
      "source": [
        "data_dir = pathlib.Path(\"/content/drive/MyDrive/TCC_DOCS/dataset_balanceado\")\n",
        "print(data_dir)"
      ],
      "metadata": {
        "colab": {
          "base_uri": "https://localhost:8080/"
        },
        "id": "5XqugofvIsbk",
        "outputId": "da2d650e-5442-4883-e2f1-40563b374b1c"
      },
      "execution_count": 4,
      "outputs": [
        {
          "output_type": "stream",
          "name": "stdout",
          "text": [
            "/content/drive/MyDrive/TCC_DOCS/dataset_balanceado\n"
          ]
        }
      ]
    },
    {
      "cell_type": "code",
      "source": [
        "#resnet50"
      ],
      "metadata": {
        "id": "bW_FZu_aJXss"
      },
      "execution_count": 5,
      "outputs": []
    },
    {
      "cell_type": "code",
      "source": [
        "resnet50_img_size = 100\n",
        "resnet50_batch_size = 150\n",
        "\n",
        "resnet50_train_ds = tf.keras.preprocessing.image_dataset_from_directory(\n",
        "    data_dir,\n",
        "    seed=123,\n",
        "    image_size=(resnet50_img_size, resnet50_img_size),\n",
        "    batch_size=resnet50_batch_size)\n",
        "\n",
        "resnet50_val_ds = tf.keras.preprocessing.image_dataset_from_directory(\n",
        "    data_dir,\n",
        "    validation_split=0.2,\n",
        "    subset=\"validation\",\n",
        "    seed=123,\n",
        "    image_size=(resnet50_img_size,resnet50_img_size),\n",
        "    batch_size=resnet50_batch_size)\n",
        "\n",
        "resnet50_test_ds = tf.keras.preprocessing.image_dataset_from_directory(\n",
        "    data_dir,\n",
        "    seed=123,\n",
        "    image_size=(resnet50_img_size,resnet50_img_size),\n",
        "    batch_size=resnet50_batch_size)\n",
        "\n",
        "class_names = resnet50_test_ds.class_names"
      ],
      "metadata": {
        "colab": {
          "base_uri": "https://localhost:8080/"
        },
        "id": "Lltwd-11JbRz",
        "outputId": "a092ef53-ceaf-464e-ae9d-4a6d06bbea86"
      },
      "execution_count": 6,
      "outputs": [
        {
          "output_type": "stream",
          "name": "stdout",
          "text": [
            "Found 6544 files belonging to 5 classes.\n",
            "Found 6544 files belonging to 5 classes.\n",
            "Using 1308 files for validation.\n",
            "Found 6544 files belonging to 5 classes.\n"
          ]
        }
      ]
    },
    {
      "cell_type": "code",
      "source": [
        "for image_batch, labels_batch in resnet50_train_ds:\n",
        "  resnet50_train_img = image_batch\n",
        "  resnet50_train_labels = labels_batch\n",
        "  break\n",
        "for image_batch, labels_batch in resnet50_val_ds:\n",
        "  resnet50_val_img = image_batch\n",
        "  resnet50_val_labels = labels_batch\n",
        "  break\n",
        "for image_batch, labels_batch in resnet50_test_ds:\n",
        "  resnet50_test_img = image_batch\n",
        "  resnet50_test_labels = labels_batch\n",
        "  break"
      ],
      "metadata": {
        "id": "hg9bVF4mLnLY"
      },
      "execution_count": 7,
      "outputs": []
    },
    {
      "cell_type": "code",
      "source": [
        "AUTOTUNE = tf.data.AUTOTUNE\n",
        "\n",
        "resnet50_train_ds = resnet50_train_ds.cache().shuffle(1000).prefetch(buffer_size=AUTOTUNE)\n",
        "resnet50_val_ds = resnet50_val_ds.cache().prefetch(buffer_size=AUTOTUNE)\n",
        "resnet50_test_ds = resnet50_test_ds.cache().prefetch(buffer_size=AUTOTUNE)"
      ],
      "metadata": {
        "id": "3ERpblfqMsiC"
      },
      "execution_count": 8,
      "outputs": []
    },
    {
      "cell_type": "code",
      "source": [
        "data_augmentation = tf.keras.Sequential(\n",
        "    [\n",
        "        layers.RandomFlip(\"horizontal\", input_shape=(resnet50_img_size, resnet50_img_size, 3)),\n",
        "        layers.RandomRotation(0.2),\n",
        "        layers.RandomZoom(0.2),\n",
        "    ]\n",
        ")"
      ],
      "metadata": {
        "id": "ohdIoAOeM1_M",
        "colab": {
          "base_uri": "https://localhost:8080/"
        },
        "outputId": "fdf1e9d2-7915-490f-99d3-09a8c0a824d8"
      },
      "execution_count": 9,
      "outputs": [
        {
          "output_type": "stream",
          "name": "stderr",
          "text": [
            "/usr/local/lib/python3.10/dist-packages/keras/src/layers/preprocessing/tf_data_layer.py:19: UserWarning: Do not pass an `input_shape`/`input_dim` argument to a layer. When using Sequential models, prefer using an `Input(shape)` object as the first layer in the model instead.\n",
            "  super().__init__(**kwargs)\n"
          ]
        }
      ]
    },
    {
      "cell_type": "code",
      "source": [
        "#Restnet50\n",
        "img_shape = (resnet50_img_size,resnet50_img_size,3)\n",
        "Resnet50_model = tf.keras.applications.ResNet50(\n",
        "    include_top=False,\n",
        "    weights=\"imagenet\",\n",
        "    input_shape=img_shape,\n",
        "    pooling='avg',\n",
        "    classes=5,\n",
        ")\n",
        "prediction_layer = tf.keras.layers.Dense(5,activation='relu',bias_regularizer=regularizers.l2(1e-4))"
      ],
      "metadata": {
        "colab": {
          "base_uri": "https://localhost:8080/"
        },
        "id": "zbCa5GuEM5FQ",
        "outputId": "b7f86e57-b926-402e-bb94-56e95db82710"
      },
      "execution_count": 10,
      "outputs": [
        {
          "output_type": "stream",
          "name": "stdout",
          "text": [
            "Downloading data from https://storage.googleapis.com/tensorflow/keras-applications/resnet/resnet50_weights_tf_dim_ordering_tf_kernels_notop.h5\n",
            "\u001b[1m94765736/94765736\u001b[0m \u001b[32m━━━━━━━━━━━━━━━━━━━━\u001b[0m\u001b[37m\u001b[0m \u001b[1m3s\u001b[0m 0us/step\n"
          ]
        }
      ]
    },
    {
      "cell_type": "code",
      "source": [
        "num_classes = 5\n",
        "resnet50_model = Sequential([\n",
        "    data_augmentation,\n",
        "    Resnet50_model,\n",
        "    prediction_layer,\n",
        "    layers.Flatten(),\n",
        "    layers.BatchNormalization(),\n",
        "    layers.Activation('softmax'),\n",
        "])"
      ],
      "metadata": {
        "id": "wpEUrOHTM-dz"
      },
      "execution_count": 11,
      "outputs": []
    },
    {
      "cell_type": "code",
      "source": [
        "resnet50_model.compile(optimizer='adam',loss=tf.keras.losses.SparseCategoricalCrossentropy(from_logits=True),metrics=['accuracy'])"
      ],
      "metadata": {
        "id": "kEH0skElNBEY"
      },
      "execution_count": 12,
      "outputs": []
    },
    {
      "cell_type": "code",
      "source": [
        "epochs = 80\n",
        "history = resnet50_model.fit(\n",
        "  resnet50_train_ds,\n",
        "  validation_data=resnet50_val_ds,\n",
        "  epochs=epochs\n",
        ")"
      ],
      "metadata": {
        "colab": {
          "base_uri": "https://localhost:8080/"
        },
        "id": "IzIbFTbpNDfg",
        "outputId": "82dcf107-b97b-42c4-aee0-dd689291779b"
      },
      "execution_count": 13,
      "outputs": [
        {
          "output_type": "stream",
          "name": "stdout",
          "text": [
            "Epoch 1/80\n"
          ]
        },
        {
          "output_type": "stream",
          "name": "stderr",
          "text": [
            "/usr/local/lib/python3.10/dist-packages/keras/src/backend/tensorflow/nn.py:609: UserWarning: \"`sparse_categorical_crossentropy` received `from_logits=True`, but the `output` argument was produced by a Softmax activation and thus does not represent logits. Was this intended?\n",
            "  output, from_logits = _get_logits(\n"
          ]
        },
        {
          "output_type": "stream",
          "name": "stdout",
          "text": [
            "\u001b[1m44/44\u001b[0m \u001b[32m━━━━━━━━━━━━━━━━━━━━\u001b[0m\u001b[37m\u001b[0m \u001b[1m413s\u001b[0m 849ms/step - accuracy: 0.5106 - loss: 1.2974 - val_accuracy: 0.2783 - val_loss: 4.4876\n",
            "Epoch 2/80\n",
            "\u001b[1m44/44\u001b[0m \u001b[32m━━━━━━━━━━━━━━━━━━━━\u001b[0m\u001b[37m\u001b[0m \u001b[1m26s\u001b[0m 590ms/step - accuracy: 0.6926 - loss: 0.8469 - val_accuracy: 0.3815 - val_loss: 2.8147\n",
            "Epoch 3/80\n",
            "\u001b[1m44/44\u001b[0m \u001b[32m━━━━━━━━━━━━━━━━━━━━\u001b[0m\u001b[37m\u001b[0m \u001b[1m26s\u001b[0m 586ms/step - accuracy: 0.7422 - loss: 0.7602 - val_accuracy: 0.3609 - val_loss: 1.6178\n",
            "Epoch 4/80\n",
            "\u001b[1m44/44\u001b[0m \u001b[32m━━━━━━━━━━━━━━━━━━━━\u001b[0m\u001b[37m\u001b[0m \u001b[1m26s\u001b[0m 581ms/step - accuracy: 0.7553 - loss: 0.7175 - val_accuracy: 0.4839 - val_loss: 1.4710\n",
            "Epoch 5/80\n",
            "\u001b[1m44/44\u001b[0m \u001b[32m━━━━━━━━━━━━━━━━━━━━\u001b[0m\u001b[37m\u001b[0m \u001b[1m26s\u001b[0m 585ms/step - accuracy: 0.7725 - loss: 0.6850 - val_accuracy: 0.5956 - val_loss: 1.1412\n",
            "Epoch 6/80\n",
            "\u001b[1m44/44\u001b[0m \u001b[32m━━━━━━━━━━━━━━━━━━━━\u001b[0m\u001b[37m\u001b[0m \u001b[1m26s\u001b[0m 587ms/step - accuracy: 0.7965 - loss: 0.6319 - val_accuracy: 0.3800 - val_loss: 1.7655\n",
            "Epoch 7/80\n",
            "\u001b[1m44/44\u001b[0m \u001b[32m━━━━━━━━━━━━━━━━━━━━\u001b[0m\u001b[37m\u001b[0m \u001b[1m26s\u001b[0m 583ms/step - accuracy: 0.8033 - loss: 0.6025 - val_accuracy: 0.5719 - val_loss: 1.1530\n",
            "Epoch 8/80\n",
            "\u001b[1m44/44\u001b[0m \u001b[32m━━━━━━━━━━━━━━━━━━━━\u001b[0m\u001b[37m\u001b[0m \u001b[1m26s\u001b[0m 583ms/step - accuracy: 0.8064 - loss: 0.5827 - val_accuracy: 0.5864 - val_loss: 1.1571\n",
            "Epoch 9/80\n",
            "\u001b[1m44/44\u001b[0m \u001b[32m━━━━━━━━━━━━━━━━━━━━\u001b[0m\u001b[37m\u001b[0m \u001b[1m26s\u001b[0m 585ms/step - accuracy: 0.8154 - loss: 0.5706 - val_accuracy: 0.4495 - val_loss: 1.3855\n",
            "Epoch 10/80\n",
            "\u001b[1m44/44\u001b[0m \u001b[32m━━━━━━━━━━━━━━━━━━━━\u001b[0m\u001b[37m\u001b[0m \u001b[1m26s\u001b[0m 584ms/step - accuracy: 0.8235 - loss: 0.5403 - val_accuracy: 0.5734 - val_loss: 1.2847\n",
            "Epoch 11/80\n",
            "\u001b[1m44/44\u001b[0m \u001b[32m━━━━━━━━━━━━━━━━━━━━\u001b[0m\u001b[37m\u001b[0m \u001b[1m26s\u001b[0m 584ms/step - accuracy: 0.8402 - loss: 0.5099 - val_accuracy: 0.6216 - val_loss: 1.0927\n",
            "Epoch 12/80\n",
            "\u001b[1m44/44\u001b[0m \u001b[32m━━━━━━━━━━━━━━━━━━━━\u001b[0m\u001b[37m\u001b[0m \u001b[1m26s\u001b[0m 584ms/step - accuracy: 0.8353 - loss: 0.5025 - val_accuracy: 0.7064 - val_loss: 0.8226\n",
            "Epoch 13/80\n",
            "\u001b[1m44/44\u001b[0m \u001b[32m━━━━━━━━━━━━━━━━━━━━\u001b[0m\u001b[37m\u001b[0m \u001b[1m26s\u001b[0m 584ms/step - accuracy: 0.8509 - loss: 0.4652 - val_accuracy: 0.4794 - val_loss: 1.5996\n",
            "Epoch 14/80\n",
            "\u001b[1m44/44\u001b[0m \u001b[32m━━━━━━━━━━━━━━━━━━━━\u001b[0m\u001b[37m\u001b[0m \u001b[1m26s\u001b[0m 584ms/step - accuracy: 0.8552 - loss: 0.4523 - val_accuracy: 0.7890 - val_loss: 0.6445\n",
            "Epoch 15/80\n",
            "\u001b[1m44/44\u001b[0m \u001b[32m━━━━━━━━━━━━━━━━━━━━\u001b[0m\u001b[37m\u001b[0m \u001b[1m26s\u001b[0m 583ms/step - accuracy: 0.8688 - loss: 0.4202 - val_accuracy: 0.7576 - val_loss: 0.7058\n",
            "Epoch 16/80\n",
            "\u001b[1m44/44\u001b[0m \u001b[32m━━━━━━━━━━━━━━━━━━━━\u001b[0m\u001b[37m\u001b[0m \u001b[1m41s\u001b[0m 585ms/step - accuracy: 0.8739 - loss: 0.4088 - val_accuracy: 0.6858 - val_loss: 0.8459\n",
            "Epoch 17/80\n",
            "\u001b[1m44/44\u001b[0m \u001b[32m━━━━━━━━━━━━━━━━━━━━\u001b[0m\u001b[37m\u001b[0m \u001b[1m26s\u001b[0m 591ms/step - accuracy: 0.8793 - loss: 0.3850 - val_accuracy: 0.6407 - val_loss: 1.0060\n",
            "Epoch 18/80\n",
            "\u001b[1m44/44\u001b[0m \u001b[32m━━━━━━━━━━━━━━━━━━━━\u001b[0m\u001b[37m\u001b[0m \u001b[1m26s\u001b[0m 582ms/step - accuracy: 0.8750 - loss: 0.3853 - val_accuracy: 0.6544 - val_loss: 1.0141\n",
            "Epoch 19/80\n",
            "\u001b[1m44/44\u001b[0m \u001b[32m━━━━━━━━━━━━━━━━━━━━\u001b[0m\u001b[37m\u001b[0m \u001b[1m26s\u001b[0m 582ms/step - accuracy: 0.8844 - loss: 0.3671 - val_accuracy: 0.7209 - val_loss: 0.8571\n",
            "Epoch 20/80\n",
            "\u001b[1m44/44\u001b[0m \u001b[32m━━━━━━━━━━━━━━━━━━━━\u001b[0m\u001b[37m\u001b[0m \u001b[1m26s\u001b[0m 585ms/step - accuracy: 0.8899 - loss: 0.3473 - val_accuracy: 0.5986 - val_loss: 1.0403\n",
            "Epoch 21/80\n",
            "\u001b[1m44/44\u001b[0m \u001b[32m━━━━━━━━━━━━━━━━━━━━\u001b[0m\u001b[37m\u001b[0m \u001b[1m26s\u001b[0m 584ms/step - accuracy: 0.8947 - loss: 0.3488 - val_accuracy: 0.5138 - val_loss: 1.5146\n",
            "Epoch 22/80\n",
            "\u001b[1m44/44\u001b[0m \u001b[32m━━━━━━━━━━━━━━━━━━━━\u001b[0m\u001b[37m\u001b[0m \u001b[1m26s\u001b[0m 583ms/step - accuracy: 0.9015 - loss: 0.3155 - val_accuracy: 0.7255 - val_loss: 0.8065\n",
            "Epoch 23/80\n",
            "\u001b[1m44/44\u001b[0m \u001b[32m━━━━━━━━━━━━━━━━━━━━\u001b[0m\u001b[37m\u001b[0m \u001b[1m26s\u001b[0m 583ms/step - accuracy: 0.9074 - loss: 0.2960 - val_accuracy: 0.7676 - val_loss: 0.6978\n",
            "Epoch 24/80\n",
            "\u001b[1m44/44\u001b[0m \u001b[32m━━━━━━━━━━━━━━━━━━━━\u001b[0m\u001b[37m\u001b[0m \u001b[1m26s\u001b[0m 583ms/step - accuracy: 0.9106 - loss: 0.2911 - val_accuracy: 0.6361 - val_loss: 1.0552\n",
            "Epoch 25/80\n",
            "\u001b[1m44/44\u001b[0m \u001b[32m━━━━━━━━━━━━━━━━━━━━\u001b[0m\u001b[37m\u001b[0m \u001b[1m26s\u001b[0m 584ms/step - accuracy: 0.9128 - loss: 0.2875 - val_accuracy: 0.6927 - val_loss: 0.9282\n",
            "Epoch 26/80\n",
            "\u001b[1m44/44\u001b[0m \u001b[32m━━━━━━━━━━━━━━━━━━━━\u001b[0m\u001b[37m\u001b[0m \u001b[1m26s\u001b[0m 584ms/step - accuracy: 0.9196 - loss: 0.2608 - val_accuracy: 0.5826 - val_loss: 1.3018\n",
            "Epoch 27/80\n",
            "\u001b[1m44/44\u001b[0m \u001b[32m━━━━━━━━━━━━━━━━━━━━\u001b[0m\u001b[37m\u001b[0m \u001b[1m26s\u001b[0m 585ms/step - accuracy: 0.9221 - loss: 0.2600 - val_accuracy: 0.7378 - val_loss: 0.7426\n",
            "Epoch 28/80\n",
            "\u001b[1m44/44\u001b[0m \u001b[32m━━━━━━━━━━━━━━━━━━━━\u001b[0m\u001b[37m\u001b[0m \u001b[1m26s\u001b[0m 584ms/step - accuracy: 0.9190 - loss: 0.2510 - val_accuracy: 0.6827 - val_loss: 1.0169\n",
            "Epoch 29/80\n",
            "\u001b[1m44/44\u001b[0m \u001b[32m━━━━━━━━━━━━━━━━━━━━\u001b[0m\u001b[37m\u001b[0m \u001b[1m26s\u001b[0m 584ms/step - accuracy: 0.9289 - loss: 0.2271 - val_accuracy: 0.7829 - val_loss: 0.6937\n",
            "Epoch 30/80\n",
            "\u001b[1m44/44\u001b[0m \u001b[32m━━━━━━━━━━━━━━━━━━━━\u001b[0m\u001b[37m\u001b[0m \u001b[1m26s\u001b[0m 585ms/step - accuracy: 0.9352 - loss: 0.2281 - val_accuracy: 0.8448 - val_loss: 0.4362\n",
            "Epoch 31/80\n",
            "\u001b[1m44/44\u001b[0m \u001b[32m━━━━━━━━━━━━━━━━━━━━\u001b[0m\u001b[37m\u001b[0m \u001b[1m26s\u001b[0m 584ms/step - accuracy: 0.9303 - loss: 0.2309 - val_accuracy: 0.6690 - val_loss: 1.0193\n",
            "Epoch 32/80\n",
            "\u001b[1m44/44\u001b[0m \u001b[32m━━━━━━━━━━━━━━━━━━━━\u001b[0m\u001b[37m\u001b[0m \u001b[1m26s\u001b[0m 583ms/step - accuracy: 0.9382 - loss: 0.2097 - val_accuracy: 0.8272 - val_loss: 0.5313\n",
            "Epoch 33/80\n",
            "\u001b[1m44/44\u001b[0m \u001b[32m━━━━━━━━━━━━━━━━━━━━\u001b[0m\u001b[37m\u001b[0m \u001b[1m26s\u001b[0m 584ms/step - accuracy: 0.9422 - loss: 0.2022 - val_accuracy: 0.7278 - val_loss: 0.7773\n",
            "Epoch 34/80\n",
            "\u001b[1m44/44\u001b[0m \u001b[32m━━━━━━━━━━━━━━━━━━━━\u001b[0m\u001b[37m\u001b[0m \u001b[1m26s\u001b[0m 584ms/step - accuracy: 0.9510 - loss: 0.1736 - val_accuracy: 0.6330 - val_loss: 1.1814\n",
            "Epoch 35/80\n",
            "\u001b[1m44/44\u001b[0m \u001b[32m━━━━━━━━━━━━━━━━━━━━\u001b[0m\u001b[37m\u001b[0m \u001b[1m26s\u001b[0m 583ms/step - accuracy: 0.9426 - loss: 0.1966 - val_accuracy: 0.8784 - val_loss: 0.3668\n",
            "Epoch 36/80\n",
            "\u001b[1m44/44\u001b[0m \u001b[32m━━━━━━━━━━━━━━━━━━━━\u001b[0m\u001b[37m\u001b[0m \u001b[1m26s\u001b[0m 583ms/step - accuracy: 0.9475 - loss: 0.1805 - val_accuracy: 0.6575 - val_loss: 1.1261\n",
            "Epoch 37/80\n",
            "\u001b[1m44/44\u001b[0m \u001b[32m━━━━━━━━━━━━━━━━━━━━\u001b[0m\u001b[37m\u001b[0m \u001b[1m26s\u001b[0m 583ms/step - accuracy: 0.9553 - loss: 0.1604 - val_accuracy: 0.8043 - val_loss: 0.6070\n",
            "Epoch 38/80\n",
            "\u001b[1m44/44\u001b[0m \u001b[32m━━━━━━━━━━━━━━━━━━━━\u001b[0m\u001b[37m\u001b[0m \u001b[1m26s\u001b[0m 585ms/step - accuracy: 0.9526 - loss: 0.1629 - val_accuracy: 0.5283 - val_loss: 1.4900\n",
            "Epoch 39/80\n",
            "\u001b[1m44/44\u001b[0m \u001b[32m━━━━━━━━━━━━━━━━━━━━\u001b[0m\u001b[37m\u001b[0m \u001b[1m26s\u001b[0m 584ms/step - accuracy: 0.9523 - loss: 0.1665 - val_accuracy: 0.8456 - val_loss: 0.4742\n",
            "Epoch 40/80\n",
            "\u001b[1m44/44\u001b[0m \u001b[32m━━━━━━━━━━━━━━━━━━━━\u001b[0m\u001b[37m\u001b[0m \u001b[1m26s\u001b[0m 584ms/step - accuracy: 0.9606 - loss: 0.1380 - val_accuracy: 0.6980 - val_loss: 1.0594\n",
            "Epoch 41/80\n",
            "\u001b[1m44/44\u001b[0m \u001b[32m━━━━━━━━━━━━━━━━━━━━\u001b[0m\u001b[37m\u001b[0m \u001b[1m26s\u001b[0m 583ms/step - accuracy: 0.9587 - loss: 0.1416 - val_accuracy: 0.5054 - val_loss: 2.5139\n",
            "Epoch 42/80\n",
            "\u001b[1m44/44\u001b[0m \u001b[32m━━━━━━━━━━━━━━━━━━━━\u001b[0m\u001b[37m\u001b[0m \u001b[1m26s\u001b[0m 583ms/step - accuracy: 0.9523 - loss: 0.1622 - val_accuracy: 0.7875 - val_loss: 0.6991\n",
            "Epoch 43/80\n",
            "\u001b[1m44/44\u001b[0m \u001b[32m━━━━━━━━━━━━━━━━━━━━\u001b[0m\u001b[37m\u001b[0m \u001b[1m26s\u001b[0m 584ms/step - accuracy: 0.9534 - loss: 0.1531 - val_accuracy: 0.8838 - val_loss: 0.3709\n",
            "Epoch 44/80\n",
            "\u001b[1m44/44\u001b[0m \u001b[32m━━━━━━━━━━━━━━━━━━━━\u001b[0m\u001b[37m\u001b[0m \u001b[1m26s\u001b[0m 584ms/step - accuracy: 0.9588 - loss: 0.1450 - val_accuracy: 0.7882 - val_loss: 0.7132\n",
            "Epoch 45/80\n",
            "\u001b[1m44/44\u001b[0m \u001b[32m━━━━━━━━━━━━━━━━━━━━\u001b[0m\u001b[37m\u001b[0m \u001b[1m26s\u001b[0m 585ms/step - accuracy: 0.9603 - loss: 0.1344 - val_accuracy: 0.8486 - val_loss: 0.4644\n",
            "Epoch 46/80\n",
            "\u001b[1m44/44\u001b[0m \u001b[32m━━━━━━━━━━━━━━━━━━━━\u001b[0m\u001b[37m\u001b[0m \u001b[1m26s\u001b[0m 584ms/step - accuracy: 0.9682 - loss: 0.1183 - val_accuracy: 0.7661 - val_loss: 0.6722\n",
            "Epoch 47/80\n",
            "\u001b[1m44/44\u001b[0m \u001b[32m━━━━━━━━━━━━━━━━━━━━\u001b[0m\u001b[37m\u001b[0m \u001b[1m26s\u001b[0m 583ms/step - accuracy: 0.9614 - loss: 0.1252 - val_accuracy: 0.7760 - val_loss: 0.7896\n",
            "Epoch 48/80\n",
            "\u001b[1m44/44\u001b[0m \u001b[32m━━━━━━━━━━━━━━━━━━━━\u001b[0m\u001b[37m\u001b[0m \u001b[1m26s\u001b[0m 584ms/step - accuracy: 0.9713 - loss: 0.1042 - val_accuracy: 0.7791 - val_loss: 0.7814\n",
            "Epoch 49/80\n",
            "\u001b[1m44/44\u001b[0m \u001b[32m━━━━━━━━━━━━━━━━━━━━\u001b[0m\u001b[37m\u001b[0m \u001b[1m26s\u001b[0m 584ms/step - accuracy: 0.9692 - loss: 0.1059 - val_accuracy: 0.8609 - val_loss: 0.4502\n",
            "Epoch 50/80\n",
            "\u001b[1m44/44\u001b[0m \u001b[32m━━━━━━━━━━━━━━━━━━━━\u001b[0m\u001b[37m\u001b[0m \u001b[1m26s\u001b[0m 582ms/step - accuracy: 0.9622 - loss: 0.1220 - val_accuracy: 0.6636 - val_loss: 1.1581\n",
            "Epoch 51/80\n",
            "\u001b[1m44/44\u001b[0m \u001b[32m━━━━━━━━━━━━━━━━━━━━\u001b[0m\u001b[37m\u001b[0m \u001b[1m26s\u001b[0m 584ms/step - accuracy: 0.9715 - loss: 0.1005 - val_accuracy: 0.7829 - val_loss: 0.7148\n",
            "Epoch 52/80\n",
            "\u001b[1m44/44\u001b[0m \u001b[32m━━━━━━━━━━━━━━━━━━━━\u001b[0m\u001b[37m\u001b[0m \u001b[1m26s\u001b[0m 584ms/step - accuracy: 0.9641 - loss: 0.1064 - val_accuracy: 0.6116 - val_loss: 1.3316\n",
            "Epoch 53/80\n",
            "\u001b[1m44/44\u001b[0m \u001b[32m━━━━━━━━━━━━━━━━━━━━\u001b[0m\u001b[37m\u001b[0m \u001b[1m26s\u001b[0m 584ms/step - accuracy: 0.9657 - loss: 0.1135 - val_accuracy: 0.8257 - val_loss: 0.5630\n",
            "Epoch 54/80\n",
            "\u001b[1m44/44\u001b[0m \u001b[32m━━━━━━━━━━━━━━━━━━━━\u001b[0m\u001b[37m\u001b[0m \u001b[1m26s\u001b[0m 584ms/step - accuracy: 0.9697 - loss: 0.1060 - val_accuracy: 0.7966 - val_loss: 0.6633\n",
            "Epoch 55/80\n",
            "\u001b[1m44/44\u001b[0m \u001b[32m━━━━━━━━━━━━━━━━━━━━\u001b[0m\u001b[37m\u001b[0m \u001b[1m26s\u001b[0m 583ms/step - accuracy: 0.9655 - loss: 0.1137 - val_accuracy: 0.4472 - val_loss: 2.4173\n",
            "Epoch 56/80\n",
            "\u001b[1m44/44\u001b[0m \u001b[32m━━━━━━━━━━━━━━━━━━━━\u001b[0m\u001b[37m\u001b[0m \u001b[1m26s\u001b[0m 582ms/step - accuracy: 0.9712 - loss: 0.1021 - val_accuracy: 0.7515 - val_loss: 0.8707\n",
            "Epoch 57/80\n",
            "\u001b[1m44/44\u001b[0m \u001b[32m━━━━━━━━━━━━━━━━━━━━\u001b[0m\u001b[37m\u001b[0m \u001b[1m26s\u001b[0m 583ms/step - accuracy: 0.9710 - loss: 0.0992 - val_accuracy: 0.8471 - val_loss: 0.5030\n",
            "Epoch 58/80\n",
            "\u001b[1m44/44\u001b[0m \u001b[32m━━━━━━━━━━━━━━━━━━━━\u001b[0m\u001b[37m\u001b[0m \u001b[1m26s\u001b[0m 582ms/step - accuracy: 0.9714 - loss: 0.0945 - val_accuracy: 0.7607 - val_loss: 0.7825\n",
            "Epoch 59/80\n",
            "\u001b[1m44/44\u001b[0m \u001b[32m━━━━━━━━━━━━━━━━━━━━\u001b[0m\u001b[37m\u001b[0m \u001b[1m26s\u001b[0m 583ms/step - accuracy: 0.9793 - loss: 0.0766 - val_accuracy: 0.8899 - val_loss: 0.3771\n",
            "Epoch 60/80\n",
            "\u001b[1m44/44\u001b[0m \u001b[32m━━━━━━━━━━━━━━━━━━━━\u001b[0m\u001b[37m\u001b[0m \u001b[1m26s\u001b[0m 584ms/step - accuracy: 0.9781 - loss: 0.0844 - val_accuracy: 0.8219 - val_loss: 0.5763\n",
            "Epoch 61/80\n",
            "\u001b[1m44/44\u001b[0m \u001b[32m━━━━━━━━━━━━━━━━━━━━\u001b[0m\u001b[37m\u001b[0m \u001b[1m26s\u001b[0m 584ms/step - accuracy: 0.9737 - loss: 0.0898 - val_accuracy: 0.8364 - val_loss: 0.5149\n",
            "Epoch 62/80\n",
            "\u001b[1m44/44\u001b[0m \u001b[32m━━━━━━━━━━━━━━━━━━━━\u001b[0m\u001b[37m\u001b[0m \u001b[1m26s\u001b[0m 582ms/step - accuracy: 0.9725 - loss: 0.0925 - val_accuracy: 0.7561 - val_loss: 0.9196\n",
            "Epoch 63/80\n",
            "\u001b[1m44/44\u001b[0m \u001b[32m━━━━━━━━━━━━━━━━━━━━\u001b[0m\u001b[37m\u001b[0m \u001b[1m26s\u001b[0m 583ms/step - accuracy: 0.9793 - loss: 0.0800 - val_accuracy: 0.7485 - val_loss: 0.7910\n",
            "Epoch 64/80\n",
            "\u001b[1m44/44\u001b[0m \u001b[32m━━━━━━━━━━━━━━━━━━━━\u001b[0m\u001b[37m\u001b[0m \u001b[1m26s\u001b[0m 584ms/step - accuracy: 0.9760 - loss: 0.0878 - val_accuracy: 0.7943 - val_loss: 0.7040\n",
            "Epoch 65/80\n",
            "\u001b[1m44/44\u001b[0m \u001b[32m━━━━━━━━━━━━━━━━━━━━\u001b[0m\u001b[37m\u001b[0m \u001b[1m26s\u001b[0m 584ms/step - accuracy: 0.9780 - loss: 0.0748 - val_accuracy: 0.8157 - val_loss: 0.6000\n",
            "Epoch 66/80\n",
            "\u001b[1m44/44\u001b[0m \u001b[32m━━━━━━━━━━━━━━━━━━━━\u001b[0m\u001b[37m\u001b[0m \u001b[1m26s\u001b[0m 582ms/step - accuracy: 0.9806 - loss: 0.0699 - val_accuracy: 0.9052 - val_loss: 0.3083\n",
            "Epoch 67/80\n",
            "\u001b[1m44/44\u001b[0m \u001b[32m━━━━━━━━━━━━━━━━━━━━\u001b[0m\u001b[37m\u001b[0m \u001b[1m26s\u001b[0m 584ms/step - accuracy: 0.9771 - loss: 0.0816 - val_accuracy: 0.8203 - val_loss: 0.5867\n",
            "Epoch 68/80\n",
            "\u001b[1m44/44\u001b[0m \u001b[32m━━━━━━━━━━━━━━━━━━━━\u001b[0m\u001b[37m\u001b[0m \u001b[1m26s\u001b[0m 584ms/step - accuracy: 0.9771 - loss: 0.0795 - val_accuracy: 0.6552 - val_loss: 1.2738\n",
            "Epoch 69/80\n",
            "\u001b[1m44/44\u001b[0m \u001b[32m━━━━━━━━━━━━━━━━━━━━\u001b[0m\u001b[37m\u001b[0m \u001b[1m26s\u001b[0m 584ms/step - accuracy: 0.9798 - loss: 0.0756 - val_accuracy: 0.8150 - val_loss: 0.6520\n",
            "Epoch 70/80\n",
            "\u001b[1m44/44\u001b[0m \u001b[32m━━━━━━━━━━━━━━━━━━━━\u001b[0m\u001b[37m\u001b[0m \u001b[1m26s\u001b[0m 584ms/step - accuracy: 0.9795 - loss: 0.0688 - val_accuracy: 0.8693 - val_loss: 0.4439\n",
            "Epoch 71/80\n",
            "\u001b[1m44/44\u001b[0m \u001b[32m━━━━━━━━━━━━━━━━━━━━\u001b[0m\u001b[37m\u001b[0m \u001b[1m26s\u001b[0m 584ms/step - accuracy: 0.9831 - loss: 0.0649 - val_accuracy: 0.7041 - val_loss: 1.1518\n",
            "Epoch 72/80\n",
            "\u001b[1m44/44\u001b[0m \u001b[32m━━━━━━━━━━━━━━━━━━━━\u001b[0m\u001b[37m\u001b[0m \u001b[1m26s\u001b[0m 584ms/step - accuracy: 0.9775 - loss: 0.0782 - val_accuracy: 0.8471 - val_loss: 0.5722\n",
            "Epoch 73/80\n",
            "\u001b[1m44/44\u001b[0m \u001b[32m━━━━━━━━━━━━━━━━━━━━\u001b[0m\u001b[37m\u001b[0m \u001b[1m26s\u001b[0m 584ms/step - accuracy: 0.9782 - loss: 0.0768 - val_accuracy: 0.7668 - val_loss: 0.8674\n",
            "Epoch 74/80\n",
            "\u001b[1m44/44\u001b[0m \u001b[32m━━━━━━━━━━━━━━━━━━━━\u001b[0m\u001b[37m\u001b[0m \u001b[1m26s\u001b[0m 583ms/step - accuracy: 0.9741 - loss: 0.0806 - val_accuracy: 0.8433 - val_loss: 0.5016\n",
            "Epoch 75/80\n",
            "\u001b[1m44/44\u001b[0m \u001b[32m━━━━━━━━━━━━━━━━━━━━\u001b[0m\u001b[37m\u001b[0m \u001b[1m26s\u001b[0m 583ms/step - accuracy: 0.9858 - loss: 0.0564 - val_accuracy: 0.7439 - val_loss: 0.8625\n",
            "Epoch 76/80\n",
            "\u001b[1m44/44\u001b[0m \u001b[32m━━━━━━━━━━━━━━━━━━━━\u001b[0m\u001b[37m\u001b[0m \u001b[1m26s\u001b[0m 584ms/step - accuracy: 0.9755 - loss: 0.0813 - val_accuracy: 0.8119 - val_loss: 0.6439\n",
            "Epoch 77/80\n",
            "\u001b[1m44/44\u001b[0m \u001b[32m━━━━━━━━━━━━━━━━━━━━\u001b[0m\u001b[37m\u001b[0m \u001b[1m26s\u001b[0m 584ms/step - accuracy: 0.9778 - loss: 0.0702 - val_accuracy: 0.7882 - val_loss: 0.8168\n",
            "Epoch 78/80\n",
            "\u001b[1m44/44\u001b[0m \u001b[32m━━━━━━━━━━━━━━━━━━━━\u001b[0m\u001b[37m\u001b[0m \u001b[1m26s\u001b[0m 583ms/step - accuracy: 0.9854 - loss: 0.0549 - val_accuracy: 0.8058 - val_loss: 0.7045\n",
            "Epoch 79/80\n",
            "\u001b[1m44/44\u001b[0m \u001b[32m━━━━━━━━━━━━━━━━━━━━\u001b[0m\u001b[37m\u001b[0m \u001b[1m26s\u001b[0m 584ms/step - accuracy: 0.9886 - loss: 0.0444 - val_accuracy: 0.8280 - val_loss: 0.5706\n",
            "Epoch 80/80\n",
            "\u001b[1m44/44\u001b[0m \u001b[32m━━━━━━━━━━━━━━━━━━━━\u001b[0m\u001b[37m\u001b[0m \u001b[1m26s\u001b[0m 584ms/step - accuracy: 0.9850 - loss: 0.0512 - val_accuracy: 0.7615 - val_loss: 0.9540\n"
          ]
        }
      ]
    },
    {
      "cell_type": "code",
      "source": [
        "#Learning Rate Annealer Alexnet\n",
        "from keras.callbacks import ReduceLROnPlateau\n",
        "lrr= ReduceLROnPlateau(   monitor='val_accuracy',   factor=.01,   patience=3,  min_lr=1e-5)\n",
        "\n",
        "history = resnet50_model.fit(\n",
        "  resnet50_train_ds,\n",
        "  validation_data=resnet50_val_ds,\n",
        "  epochs=epochs,\n",
        "  callbacks=[lrr],\n",
        "  verbose=1,\n",
        ")"
      ],
      "metadata": {
        "id": "0QhkF1cHtPAZ",
        "colab": {
          "base_uri": "https://localhost:8080/"
        },
        "outputId": "a634cbd8-30d6-448c-96ea-34a2e3b35c1b"
      },
      "execution_count": 14,
      "outputs": [
        {
          "output_type": "stream",
          "name": "stdout",
          "text": [
            "Epoch 1/80\n",
            "\u001b[1m44/44\u001b[0m \u001b[32m━━━━━━━━━━━━━━━━━━━━\u001b[0m\u001b[37m\u001b[0m \u001b[1m26s\u001b[0m 584ms/step - accuracy: 0.9771 - loss: 0.0774 - val_accuracy: 0.7446 - val_loss: 0.9528 - learning_rate: 0.0010\n",
            "Epoch 2/80\n",
            "\u001b[1m44/44\u001b[0m \u001b[32m━━━━━━━━━━━━━━━━━━━━\u001b[0m\u001b[37m\u001b[0m \u001b[1m26s\u001b[0m 584ms/step - accuracy: 0.9803 - loss: 0.0701 - val_accuracy: 0.6521 - val_loss: 1.1686 - learning_rate: 0.0010\n",
            "Epoch 3/80\n",
            "\u001b[1m44/44\u001b[0m \u001b[32m━━━━━━━━━━━━━━━━━━━━\u001b[0m\u001b[37m\u001b[0m \u001b[1m26s\u001b[0m 584ms/step - accuracy: 0.9784 - loss: 0.0747 - val_accuracy: 0.7982 - val_loss: 0.7228 - learning_rate: 0.0010\n",
            "Epoch 4/80\n",
            "\u001b[1m44/44\u001b[0m \u001b[32m━━━━━━━━━━━━━━━━━━━━\u001b[0m\u001b[37m\u001b[0m \u001b[1m26s\u001b[0m 584ms/step - accuracy: 0.9795 - loss: 0.0668 - val_accuracy: 0.8479 - val_loss: 0.5343 - learning_rate: 0.0010\n",
            "Epoch 5/80\n",
            "\u001b[1m44/44\u001b[0m \u001b[32m━━━━━━━━━━━━━━━━━━━━\u001b[0m\u001b[37m\u001b[0m \u001b[1m26s\u001b[0m 583ms/step - accuracy: 0.9870 - loss: 0.0480 - val_accuracy: 0.9595 - val_loss: 0.1219 - learning_rate: 0.0010\n",
            "Epoch 6/80\n",
            "\u001b[1m44/44\u001b[0m \u001b[32m━━━━━━━━━━━━━━━━━━━━\u001b[0m\u001b[37m\u001b[0m \u001b[1m26s\u001b[0m 583ms/step - accuracy: 0.9883 - loss: 0.0435 - val_accuracy: 0.9258 - val_loss: 0.2278 - learning_rate: 0.0010\n",
            "Epoch 7/80\n",
            "\u001b[1m44/44\u001b[0m \u001b[32m━━━━━━━━━━━━━━━━━━━━\u001b[0m\u001b[37m\u001b[0m \u001b[1m26s\u001b[0m 583ms/step - accuracy: 0.9862 - loss: 0.0475 - val_accuracy: 0.9365 - val_loss: 0.2085 - learning_rate: 0.0010\n",
            "Epoch 8/80\n",
            "\u001b[1m44/44\u001b[0m \u001b[32m━━━━━━━━━━━━━━━━━━━━\u001b[0m\u001b[37m\u001b[0m \u001b[1m26s\u001b[0m 584ms/step - accuracy: 0.9909 - loss: 0.0386 - val_accuracy: 0.7898 - val_loss: 0.7937 - learning_rate: 0.0010\n",
            "Epoch 9/80\n",
            "\u001b[1m44/44\u001b[0m \u001b[32m━━━━━━━━━━━━━━━━━━━━\u001b[0m\u001b[37m\u001b[0m \u001b[1m26s\u001b[0m 584ms/step - accuracy: 0.9906 - loss: 0.0383 - val_accuracy: 0.9197 - val_loss: 0.2755 - learning_rate: 1.0000e-05\n",
            "Epoch 10/80\n",
            "\u001b[1m44/44\u001b[0m \u001b[32m━━━━━━━━━━━━━━━━━━━━\u001b[0m\u001b[37m\u001b[0m \u001b[1m26s\u001b[0m 584ms/step - accuracy: 0.9903 - loss: 0.0398 - val_accuracy: 0.9755 - val_loss: 0.0843 - learning_rate: 1.0000e-05\n",
            "Epoch 11/80\n",
            "\u001b[1m44/44\u001b[0m \u001b[32m━━━━━━━━━━━━━━━━━━━━\u001b[0m\u001b[37m\u001b[0m \u001b[1m26s\u001b[0m 583ms/step - accuracy: 0.9910 - loss: 0.0293 - val_accuracy: 0.9862 - val_loss: 0.0482 - learning_rate: 1.0000e-05\n",
            "Epoch 12/80\n",
            "\u001b[1m44/44\u001b[0m \u001b[32m━━━━━━━━━━━━━━━━━━━━\u001b[0m\u001b[37m\u001b[0m \u001b[1m26s\u001b[0m 582ms/step - accuracy: 0.9934 - loss: 0.0253 - val_accuracy: 0.9878 - val_loss: 0.0451 - learning_rate: 1.0000e-05\n",
            "Epoch 13/80\n",
            "\u001b[1m44/44\u001b[0m \u001b[32m━━━━━━━━━━━━━━━━━━━━\u001b[0m\u001b[37m\u001b[0m \u001b[1m26s\u001b[0m 583ms/step - accuracy: 0.9942 - loss: 0.0247 - val_accuracy: 0.9870 - val_loss: 0.0489 - learning_rate: 1.0000e-05\n",
            "Epoch 14/80\n",
            "\u001b[1m44/44\u001b[0m \u001b[32m━━━━━━━━━━━━━━━━━━━━\u001b[0m\u001b[37m\u001b[0m \u001b[1m26s\u001b[0m 584ms/step - accuracy: 0.9934 - loss: 0.0281 - val_accuracy: 0.9847 - val_loss: 0.0546 - learning_rate: 1.0000e-05\n",
            "Epoch 15/80\n",
            "\u001b[1m44/44\u001b[0m \u001b[32m━━━━━━━━━━━━━━━━━━━━\u001b[0m\u001b[37m\u001b[0m \u001b[1m26s\u001b[0m 584ms/step - accuracy: 0.9961 - loss: 0.0219 - val_accuracy: 0.9794 - val_loss: 0.0630 - learning_rate: 1.0000e-05\n",
            "Epoch 16/80\n",
            "\u001b[1m44/44\u001b[0m \u001b[32m━━━━━━━━━━━━━━━━━━━━\u001b[0m\u001b[37m\u001b[0m \u001b[1m26s\u001b[0m 584ms/step - accuracy: 0.9925 - loss: 0.0274 - val_accuracy: 0.9771 - val_loss: 0.0674 - learning_rate: 1.0000e-05\n",
            "Epoch 17/80\n",
            "\u001b[1m44/44\u001b[0m \u001b[32m━━━━━━━━━━━━━━━━━━━━\u001b[0m\u001b[37m\u001b[0m \u001b[1m26s\u001b[0m 583ms/step - accuracy: 0.9947 - loss: 0.0242 - val_accuracy: 0.9771 - val_loss: 0.0715 - learning_rate: 1.0000e-05\n",
            "Epoch 18/80\n",
            "\u001b[1m44/44\u001b[0m \u001b[32m━━━━━━━━━━━━━━━━━━━━\u001b[0m\u001b[37m\u001b[0m \u001b[1m26s\u001b[0m 583ms/step - accuracy: 0.9938 - loss: 0.0252 - val_accuracy: 0.9771 - val_loss: 0.0758 - learning_rate: 1.0000e-05\n",
            "Epoch 19/80\n",
            "\u001b[1m44/44\u001b[0m \u001b[32m━━━━━━━━━━━━━━━━━━━━\u001b[0m\u001b[37m\u001b[0m \u001b[1m26s\u001b[0m 583ms/step - accuracy: 0.9956 - loss: 0.0223 - val_accuracy: 0.9771 - val_loss: 0.0740 - learning_rate: 1.0000e-05\n",
            "Epoch 20/80\n",
            "\u001b[1m44/44\u001b[0m \u001b[32m━━━━━━━━━━━━━━━━━━━━\u001b[0m\u001b[37m\u001b[0m \u001b[1m26s\u001b[0m 584ms/step - accuracy: 0.9975 - loss: 0.0166 - val_accuracy: 0.9786 - val_loss: 0.0691 - learning_rate: 1.0000e-05\n",
            "Epoch 21/80\n",
            "\u001b[1m44/44\u001b[0m \u001b[32m━━━━━━━━━━━━━━━━━━━━\u001b[0m\u001b[37m\u001b[0m \u001b[1m26s\u001b[0m 583ms/step - accuracy: 0.9965 - loss: 0.0200 - val_accuracy: 0.9771 - val_loss: 0.0698 - learning_rate: 1.0000e-05\n",
            "Epoch 22/80\n",
            "\u001b[1m44/44\u001b[0m \u001b[32m━━━━━━━━━━━━━━━━━━━━\u001b[0m\u001b[37m\u001b[0m \u001b[1m26s\u001b[0m 583ms/step - accuracy: 0.9962 - loss: 0.0201 - val_accuracy: 0.9771 - val_loss: 0.0721 - learning_rate: 1.0000e-05\n",
            "Epoch 23/80\n",
            "\u001b[1m44/44\u001b[0m \u001b[32m━━━━━━━━━━━━━━━━━━━━\u001b[0m\u001b[37m\u001b[0m \u001b[1m26s\u001b[0m 584ms/step - accuracy: 0.9963 - loss: 0.0188 - val_accuracy: 0.9771 - val_loss: 0.0691 - learning_rate: 1.0000e-05\n",
            "Epoch 24/80\n",
            "\u001b[1m44/44\u001b[0m \u001b[32m━━━━━━━━━━━━━━━━━━━━\u001b[0m\u001b[37m\u001b[0m \u001b[1m26s\u001b[0m 584ms/step - accuracy: 0.9971 - loss: 0.0188 - val_accuracy: 0.9778 - val_loss: 0.0667 - learning_rate: 1.0000e-05\n",
            "Epoch 25/80\n",
            "\u001b[1m44/44\u001b[0m \u001b[32m━━━━━━━━━━━━━━━━━━━━\u001b[0m\u001b[37m\u001b[0m \u001b[1m26s\u001b[0m 584ms/step - accuracy: 0.9974 - loss: 0.0154 - val_accuracy: 0.9794 - val_loss: 0.0647 - learning_rate: 1.0000e-05\n",
            "Epoch 26/80\n",
            "\u001b[1m44/44\u001b[0m \u001b[32m━━━━━━━━━━━━━━━━━━━━\u001b[0m\u001b[37m\u001b[0m \u001b[1m26s\u001b[0m 584ms/step - accuracy: 0.9979 - loss: 0.0159 - val_accuracy: 0.9794 - val_loss: 0.0633 - learning_rate: 1.0000e-05\n",
            "Epoch 27/80\n",
            "\u001b[1m44/44\u001b[0m \u001b[32m━━━━━━━━━━━━━━━━━━━━\u001b[0m\u001b[37m\u001b[0m \u001b[1m26s\u001b[0m 583ms/step - accuracy: 0.9978 - loss: 0.0161 - val_accuracy: 0.9794 - val_loss: 0.0642 - learning_rate: 1.0000e-05\n",
            "Epoch 28/80\n",
            "\u001b[1m44/44\u001b[0m \u001b[32m━━━━━━━━━━━━━━━━━━━━\u001b[0m\u001b[37m\u001b[0m \u001b[1m26s\u001b[0m 583ms/step - accuracy: 0.9964 - loss: 0.0191 - val_accuracy: 0.9801 - val_loss: 0.0610 - learning_rate: 1.0000e-05\n",
            "Epoch 29/80\n",
            "\u001b[1m44/44\u001b[0m \u001b[32m━━━━━━━━━━━━━━━━━━━━\u001b[0m\u001b[37m\u001b[0m \u001b[1m26s\u001b[0m 583ms/step - accuracy: 0.9967 - loss: 0.0177 - val_accuracy: 0.9817 - val_loss: 0.0591 - learning_rate: 1.0000e-05\n",
            "Epoch 30/80\n",
            "\u001b[1m44/44\u001b[0m \u001b[32m━━━━━━━━━━━━━━━━━━━━\u001b[0m\u001b[37m\u001b[0m \u001b[1m26s\u001b[0m 584ms/step - accuracy: 0.9969 - loss: 0.0181 - val_accuracy: 0.9817 - val_loss: 0.0591 - learning_rate: 1.0000e-05\n",
            "Epoch 31/80\n",
            "\u001b[1m44/44\u001b[0m \u001b[32m━━━━━━━━━━━━━━━━━━━━\u001b[0m\u001b[37m\u001b[0m \u001b[1m26s\u001b[0m 584ms/step - accuracy: 0.9977 - loss: 0.0158 - val_accuracy: 0.9809 - val_loss: 0.0609 - learning_rate: 1.0000e-05\n",
            "Epoch 32/80\n",
            "\u001b[1m44/44\u001b[0m \u001b[32m━━━━━━━━━━━━━━━━━━━━\u001b[0m\u001b[37m\u001b[0m \u001b[1m26s\u001b[0m 584ms/step - accuracy: 0.9965 - loss: 0.0188 - val_accuracy: 0.9809 - val_loss: 0.0607 - learning_rate: 1.0000e-05\n",
            "Epoch 33/80\n",
            "\u001b[1m44/44\u001b[0m \u001b[32m━━━━━━━━━━━━━━━━━━━━\u001b[0m\u001b[37m\u001b[0m \u001b[1m26s\u001b[0m 583ms/step - accuracy: 0.9964 - loss: 0.0175 - val_accuracy: 0.9801 - val_loss: 0.0604 - learning_rate: 1.0000e-05\n",
            "Epoch 34/80\n",
            "\u001b[1m44/44\u001b[0m \u001b[32m━━━━━━━━━━━━━━━━━━━━\u001b[0m\u001b[37m\u001b[0m \u001b[1m26s\u001b[0m 583ms/step - accuracy: 0.9984 - loss: 0.0134 - val_accuracy: 0.9801 - val_loss: 0.0624 - learning_rate: 1.0000e-05\n",
            "Epoch 35/80\n",
            "\u001b[1m44/44\u001b[0m \u001b[32m━━━━━━━━━━━━━━━━━━━━\u001b[0m\u001b[37m\u001b[0m \u001b[1m26s\u001b[0m 584ms/step - accuracy: 0.9986 - loss: 0.0135 - val_accuracy: 0.9794 - val_loss: 0.0625 - learning_rate: 1.0000e-05\n",
            "Epoch 36/80\n",
            "\u001b[1m44/44\u001b[0m \u001b[32m━━━━━━━━━━━━━━━━━━━━\u001b[0m\u001b[37m\u001b[0m \u001b[1m26s\u001b[0m 584ms/step - accuracy: 0.9979 - loss: 0.0142 - val_accuracy: 0.9824 - val_loss: 0.0594 - learning_rate: 1.0000e-05\n",
            "Epoch 37/80\n",
            "\u001b[1m44/44\u001b[0m \u001b[32m━━━━━━━━━━━━━━━━━━━━\u001b[0m\u001b[37m\u001b[0m \u001b[1m26s\u001b[0m 584ms/step - accuracy: 0.9976 - loss: 0.0148 - val_accuracy: 0.9832 - val_loss: 0.0560 - learning_rate: 1.0000e-05\n",
            "Epoch 38/80\n",
            "\u001b[1m44/44\u001b[0m \u001b[32m━━━━━━━━━━━━━━━━━━━━\u001b[0m\u001b[37m\u001b[0m \u001b[1m26s\u001b[0m 584ms/step - accuracy: 0.9972 - loss: 0.0166 - val_accuracy: 0.9832 - val_loss: 0.0566 - learning_rate: 1.0000e-05\n",
            "Epoch 39/80\n",
            "\u001b[1m44/44\u001b[0m \u001b[32m━━━━━━━━━━━━━━━━━━━━\u001b[0m\u001b[37m\u001b[0m \u001b[1m26s\u001b[0m 583ms/step - accuracy: 0.9972 - loss: 0.0159 - val_accuracy: 0.9839 - val_loss: 0.0588 - learning_rate: 1.0000e-05\n",
            "Epoch 40/80\n",
            "\u001b[1m44/44\u001b[0m \u001b[32m━━━━━━━━━━━━━━━━━━━━\u001b[0m\u001b[37m\u001b[0m \u001b[1m26s\u001b[0m 583ms/step - accuracy: 0.9996 - loss: 0.0121 - val_accuracy: 0.9839 - val_loss: 0.0588 - learning_rate: 1.0000e-05\n",
            "Epoch 41/80\n",
            "\u001b[1m44/44\u001b[0m \u001b[32m━━━━━━━━━━━━━━━━━━━━\u001b[0m\u001b[37m\u001b[0m \u001b[1m26s\u001b[0m 583ms/step - accuracy: 0.9966 - loss: 0.0155 - val_accuracy: 0.9824 - val_loss: 0.0551 - learning_rate: 1.0000e-05\n",
            "Epoch 42/80\n",
            "\u001b[1m44/44\u001b[0m \u001b[32m━━━━━━━━━━━━━━━━━━━━\u001b[0m\u001b[37m\u001b[0m \u001b[1m26s\u001b[0m 582ms/step - accuracy: 0.9978 - loss: 0.0160 - val_accuracy: 0.9824 - val_loss: 0.0564 - learning_rate: 1.0000e-05\n",
            "Epoch 43/80\n",
            "\u001b[1m44/44\u001b[0m \u001b[32m━━━━━━━━━━━━━━━━━━━━\u001b[0m\u001b[37m\u001b[0m \u001b[1m26s\u001b[0m 583ms/step - accuracy: 0.9987 - loss: 0.0141 - val_accuracy: 0.9824 - val_loss: 0.0555 - learning_rate: 1.0000e-05\n",
            "Epoch 44/80\n",
            "\u001b[1m44/44\u001b[0m \u001b[32m━━━━━━━━━━━━━━━━━━━━\u001b[0m\u001b[37m\u001b[0m \u001b[1m26s\u001b[0m 584ms/step - accuracy: 0.9976 - loss: 0.0157 - val_accuracy: 0.9809 - val_loss: 0.0611 - learning_rate: 1.0000e-05\n",
            "Epoch 45/80\n",
            "\u001b[1m44/44\u001b[0m \u001b[32m━━━━━━━━━━━━━━━━━━━━\u001b[0m\u001b[37m\u001b[0m \u001b[1m26s\u001b[0m 584ms/step - accuracy: 0.9982 - loss: 0.0142 - val_accuracy: 0.9801 - val_loss: 0.0613 - learning_rate: 1.0000e-05\n",
            "Epoch 46/80\n",
            "\u001b[1m44/44\u001b[0m \u001b[32m━━━━━━━━━━━━━━━━━━━━\u001b[0m\u001b[37m\u001b[0m \u001b[1m26s\u001b[0m 584ms/step - accuracy: 0.9973 - loss: 0.0148 - val_accuracy: 0.9817 - val_loss: 0.0605 - learning_rate: 1.0000e-05\n",
            "Epoch 47/80\n",
            "\u001b[1m44/44\u001b[0m \u001b[32m━━━━━━━━━━━━━━━━━━━━\u001b[0m\u001b[37m\u001b[0m \u001b[1m26s\u001b[0m 583ms/step - accuracy: 0.9978 - loss: 0.0135 - val_accuracy: 0.9817 - val_loss: 0.0589 - learning_rate: 1.0000e-05\n",
            "Epoch 48/80\n",
            "\u001b[1m44/44\u001b[0m \u001b[32m━━━━━━━━━━━━━━━━━━━━\u001b[0m\u001b[37m\u001b[0m \u001b[1m26s\u001b[0m 583ms/step - accuracy: 0.9985 - loss: 0.0130 - val_accuracy: 0.9809 - val_loss: 0.0583 - learning_rate: 1.0000e-05\n",
            "Epoch 49/80\n",
            "\u001b[1m44/44\u001b[0m \u001b[32m━━━━━━━━━━━━━━━━━━━━\u001b[0m\u001b[37m\u001b[0m \u001b[1m26s\u001b[0m 582ms/step - accuracy: 0.9990 - loss: 0.0126 - val_accuracy: 0.9839 - val_loss: 0.0571 - learning_rate: 1.0000e-05\n",
            "Epoch 50/80\n",
            "\u001b[1m44/44\u001b[0m \u001b[32m━━━━━━━━━━━━━━━━━━━━\u001b[0m\u001b[37m\u001b[0m \u001b[1m26s\u001b[0m 583ms/step - accuracy: 0.9981 - loss: 0.0140 - val_accuracy: 0.9839 - val_loss: 0.0567 - learning_rate: 1.0000e-05\n",
            "Epoch 51/80\n",
            "\u001b[1m44/44\u001b[0m \u001b[32m━━━━━━━━━━━━━━━━━━━━\u001b[0m\u001b[37m\u001b[0m \u001b[1m26s\u001b[0m 584ms/step - accuracy: 0.9977 - loss: 0.0159 - val_accuracy: 0.9824 - val_loss: 0.0580 - learning_rate: 1.0000e-05\n",
            "Epoch 52/80\n",
            "\u001b[1m44/44\u001b[0m \u001b[32m━━━━━━━━━━━━━━━━━━━━\u001b[0m\u001b[37m\u001b[0m \u001b[1m26s\u001b[0m 584ms/step - accuracy: 0.9986 - loss: 0.0126 - val_accuracy: 0.9824 - val_loss: 0.0577 - learning_rate: 1.0000e-05\n",
            "Epoch 53/80\n",
            "\u001b[1m44/44\u001b[0m \u001b[32m━━━━━━━━━━━━━━━━━━━━\u001b[0m\u001b[37m\u001b[0m \u001b[1m26s\u001b[0m 583ms/step - accuracy: 0.9984 - loss: 0.0128 - val_accuracy: 0.9824 - val_loss: 0.0569 - learning_rate: 1.0000e-05\n",
            "Epoch 54/80\n",
            "\u001b[1m44/44\u001b[0m \u001b[32m━━━━━━━━━━━━━━━━━━━━\u001b[0m\u001b[37m\u001b[0m \u001b[1m26s\u001b[0m 584ms/step - accuracy: 0.9980 - loss: 0.0142 - val_accuracy: 0.9847 - val_loss: 0.0553 - learning_rate: 1.0000e-05\n",
            "Epoch 55/80\n",
            "\u001b[1m44/44\u001b[0m \u001b[32m━━━━━━━━━━━━━━━━━━━━\u001b[0m\u001b[37m\u001b[0m \u001b[1m26s\u001b[0m 584ms/step - accuracy: 0.9993 - loss: 0.0115 - val_accuracy: 0.9855 - val_loss: 0.0563 - learning_rate: 1.0000e-05\n",
            "Epoch 56/80\n",
            "\u001b[1m44/44\u001b[0m \u001b[32m━━━━━━━━━━━━━━━━━━━━\u001b[0m\u001b[37m\u001b[0m \u001b[1m26s\u001b[0m 583ms/step - accuracy: 0.9974 - loss: 0.0150 - val_accuracy: 0.9824 - val_loss: 0.0555 - learning_rate: 1.0000e-05\n",
            "Epoch 57/80\n",
            "\u001b[1m44/44\u001b[0m \u001b[32m━━━━━━━━━━━━━━━━━━━━\u001b[0m\u001b[37m\u001b[0m \u001b[1m26s\u001b[0m 582ms/step - accuracy: 0.9980 - loss: 0.0133 - val_accuracy: 0.9847 - val_loss: 0.0528 - learning_rate: 1.0000e-05\n",
            "Epoch 58/80\n",
            "\u001b[1m44/44\u001b[0m \u001b[32m━━━━━━━━━━━━━━━━━━━━\u001b[0m\u001b[37m\u001b[0m \u001b[1m26s\u001b[0m 583ms/step - accuracy: 0.9991 - loss: 0.0118 - val_accuracy: 0.9847 - val_loss: 0.0513 - learning_rate: 1.0000e-05\n",
            "Epoch 59/80\n",
            "\u001b[1m44/44\u001b[0m \u001b[32m━━━━━━━━━━━━━━━━━━━━\u001b[0m\u001b[37m\u001b[0m \u001b[1m26s\u001b[0m 584ms/step - accuracy: 0.9984 - loss: 0.0136 - val_accuracy: 0.9847 - val_loss: 0.0517 - learning_rate: 1.0000e-05\n",
            "Epoch 60/80\n",
            "\u001b[1m44/44\u001b[0m \u001b[32m━━━━━━━━━━━━━━━━━━━━\u001b[0m\u001b[37m\u001b[0m \u001b[1m26s\u001b[0m 584ms/step - accuracy: 0.9988 - loss: 0.0124 - val_accuracy: 0.9839 - val_loss: 0.0527 - learning_rate: 1.0000e-05\n",
            "Epoch 61/80\n",
            "\u001b[1m44/44\u001b[0m \u001b[32m━━━━━━━━━━━━━━━━━━━━\u001b[0m\u001b[37m\u001b[0m \u001b[1m26s\u001b[0m 584ms/step - accuracy: 0.9984 - loss: 0.0129 - val_accuracy: 0.9839 - val_loss: 0.0538 - learning_rate: 1.0000e-05\n",
            "Epoch 62/80\n",
            "\u001b[1m44/44\u001b[0m \u001b[32m━━━━━━━━━━━━━━━━━━━━\u001b[0m\u001b[37m\u001b[0m \u001b[1m26s\u001b[0m 583ms/step - accuracy: 0.9993 - loss: 0.0115 - val_accuracy: 0.9839 - val_loss: 0.0549 - learning_rate: 1.0000e-05\n",
            "Epoch 63/80\n",
            "\u001b[1m44/44\u001b[0m \u001b[32m━━━━━━━━━━━━━━━━━━━━\u001b[0m\u001b[37m\u001b[0m \u001b[1m26s\u001b[0m 583ms/step - accuracy: 0.9976 - loss: 0.0139 - val_accuracy: 0.9847 - val_loss: 0.0549 - learning_rate: 1.0000e-05\n",
            "Epoch 64/80\n",
            "\u001b[1m44/44\u001b[0m \u001b[32m━━━━━━━━━━━━━━━━━━━━\u001b[0m\u001b[37m\u001b[0m \u001b[1m26s\u001b[0m 583ms/step - accuracy: 0.9987 - loss: 0.0121 - val_accuracy: 0.9847 - val_loss: 0.0550 - learning_rate: 1.0000e-05\n",
            "Epoch 65/80\n",
            "\u001b[1m44/44\u001b[0m \u001b[32m━━━━━━━━━━━━━━━━━━━━\u001b[0m\u001b[37m\u001b[0m \u001b[1m26s\u001b[0m 584ms/step - accuracy: 0.9985 - loss: 0.0130 - val_accuracy: 0.9855 - val_loss: 0.0549 - learning_rate: 1.0000e-05\n",
            "Epoch 66/80\n",
            "\u001b[1m44/44\u001b[0m \u001b[32m━━━━━━━━━━━━━━━━━━━━\u001b[0m\u001b[37m\u001b[0m \u001b[1m26s\u001b[0m 584ms/step - accuracy: 0.9995 - loss: 0.0112 - val_accuracy: 0.9855 - val_loss: 0.0536 - learning_rate: 1.0000e-05\n",
            "Epoch 67/80\n",
            "\u001b[1m44/44\u001b[0m \u001b[32m━━━━━━━━━━━━━━━━━━━━\u001b[0m\u001b[37m\u001b[0m \u001b[1m26s\u001b[0m 584ms/step - accuracy: 0.9985 - loss: 0.0119 - val_accuracy: 0.9824 - val_loss: 0.0555 - learning_rate: 1.0000e-05\n",
            "Epoch 68/80\n",
            "\u001b[1m44/44\u001b[0m \u001b[32m━━━━━━━━━━━━━━━━━━━━\u001b[0m\u001b[37m\u001b[0m \u001b[1m26s\u001b[0m 584ms/step - accuracy: 0.9988 - loss: 0.0116 - val_accuracy: 0.9824 - val_loss: 0.0543 - learning_rate: 1.0000e-05\n",
            "Epoch 69/80\n",
            "\u001b[1m44/44\u001b[0m \u001b[32m━━━━━━━━━━━━━━━━━━━━\u001b[0m\u001b[37m\u001b[0m \u001b[1m26s\u001b[0m 583ms/step - accuracy: 0.9988 - loss: 0.0122 - val_accuracy: 0.9824 - val_loss: 0.0574 - learning_rate: 1.0000e-05\n",
            "Epoch 70/80\n",
            "\u001b[1m44/44\u001b[0m \u001b[32m━━━━━━━━━━━━━━━━━━━━\u001b[0m\u001b[37m\u001b[0m \u001b[1m26s\u001b[0m 582ms/step - accuracy: 0.9984 - loss: 0.0123 - val_accuracy: 0.9809 - val_loss: 0.0577 - learning_rate: 1.0000e-05\n",
            "Epoch 71/80\n",
            "\u001b[1m44/44\u001b[0m \u001b[32m━━━━━━━━━━━━━━━━━━━━\u001b[0m\u001b[37m\u001b[0m \u001b[1m26s\u001b[0m 583ms/step - accuracy: 0.9984 - loss: 0.0120 - val_accuracy: 0.9824 - val_loss: 0.0570 - learning_rate: 1.0000e-05\n",
            "Epoch 72/80\n",
            "\u001b[1m44/44\u001b[0m \u001b[32m━━━━━━━━━━━━━━━━━━━━\u001b[0m\u001b[37m\u001b[0m \u001b[1m26s\u001b[0m 583ms/step - accuracy: 0.9986 - loss: 0.0117 - val_accuracy: 0.9839 - val_loss: 0.0524 - learning_rate: 1.0000e-05\n",
            "Epoch 73/80\n",
            "\u001b[1m44/44\u001b[0m \u001b[32m━━━━━━━━━━━━━━━━━━━━\u001b[0m\u001b[37m\u001b[0m \u001b[1m26s\u001b[0m 584ms/step - accuracy: 0.9992 - loss: 0.0104 - val_accuracy: 0.9862 - val_loss: 0.0497 - learning_rate: 1.0000e-05\n",
            "Epoch 74/80\n",
            "\u001b[1m44/44\u001b[0m \u001b[32m━━━━━━━━━━━━━━━━━━━━\u001b[0m\u001b[37m\u001b[0m \u001b[1m26s\u001b[0m 584ms/step - accuracy: 0.9980 - loss: 0.0127 - val_accuracy: 0.9855 - val_loss: 0.0500 - learning_rate: 1.0000e-05\n",
            "Epoch 75/80\n",
            "\u001b[1m44/44\u001b[0m \u001b[32m━━━━━━━━━━━━━━━━━━━━\u001b[0m\u001b[37m\u001b[0m \u001b[1m26s\u001b[0m 584ms/step - accuracy: 0.9996 - loss: 0.0107 - val_accuracy: 0.9862 - val_loss: 0.0496 - learning_rate: 1.0000e-05\n",
            "Epoch 76/80\n",
            "\u001b[1m44/44\u001b[0m \u001b[32m━━━━━━━━━━━━━━━━━━━━\u001b[0m\u001b[37m\u001b[0m \u001b[1m26s\u001b[0m 583ms/step - accuracy: 0.9993 - loss: 0.0105 - val_accuracy: 0.9847 - val_loss: 0.0504 - learning_rate: 1.0000e-05\n",
            "Epoch 77/80\n",
            "\u001b[1m44/44\u001b[0m \u001b[32m━━━━━━━━━━━━━━━━━━━━\u001b[0m\u001b[37m\u001b[0m \u001b[1m26s\u001b[0m 582ms/step - accuracy: 0.9988 - loss: 0.0116 - val_accuracy: 0.9855 - val_loss: 0.0470 - learning_rate: 1.0000e-05\n",
            "Epoch 78/80\n",
            "\u001b[1m44/44\u001b[0m \u001b[32m━━━━━━━━━━━━━━━━━━━━\u001b[0m\u001b[37m\u001b[0m \u001b[1m26s\u001b[0m 583ms/step - accuracy: 0.9992 - loss: 0.0106 - val_accuracy: 0.9855 - val_loss: 0.0468 - learning_rate: 1.0000e-05\n",
            "Epoch 79/80\n",
            "\u001b[1m44/44\u001b[0m \u001b[32m━━━━━━━━━━━━━━━━━━━━\u001b[0m\u001b[37m\u001b[0m \u001b[1m26s\u001b[0m 583ms/step - accuracy: 0.9990 - loss: 0.0114 - val_accuracy: 0.9870 - val_loss: 0.0472 - learning_rate: 1.0000e-05\n",
            "Epoch 80/80\n",
            "\u001b[1m44/44\u001b[0m \u001b[32m━━━━━━━━━━━━━━━━━━━━\u001b[0m\u001b[37m\u001b[0m \u001b[1m26s\u001b[0m 584ms/step - accuracy: 0.9987 - loss: 0.0115 - val_accuracy: 0.9847 - val_loss: 0.0488 - learning_rate: 1.0000e-05\n"
          ]
        }
      ]
    },
    {
      "cell_type": "code",
      "source": [
        "resnet50_loss, resnet50_acc = resnet50_model.evaluate(resnet50_test_ds)"
      ],
      "metadata": {
        "id": "rYlWdmwt6fnq",
        "colab": {
          "base_uri": "https://localhost:8080/"
        },
        "outputId": "de93d86f-909d-4caf-ab4f-4c1525265a15"
      },
      "execution_count": 15,
      "outputs": [
        {
          "output_type": "stream",
          "name": "stdout",
          "text": [
            "\u001b[1m44/44\u001b[0m \u001b[32m━━━━━━━━━━━━━━━━━━━━\u001b[0m\u001b[37m\u001b[0m \u001b[1m32s\u001b[0m 720ms/step - accuracy: 0.9841 - loss: 0.0562\n"
          ]
        }
      ]
    },
    {
      "cell_type": "code",
      "source": [
        "resnet50_y_pred=np.argmax(resnet50_model.predict(resnet50_test_img), axis=-1)\n",
        "resnet50_con_mat = tf.math.confusion_matrix(labels=resnet50_test_labels, predictions=resnet50_y_pred).numpy()\n",
        "\n",
        "resnet50_con_mat_norm = np.around(resnet50_con_mat.astype('float') / resnet50_con_mat.sum(axis=1)[:, np.newaxis], decimals=2)\n",
        "\n",
        "resnet50_con_mat_df = pd.DataFrame(resnet50_con_mat_norm,\n",
        "                     index = class_names,\n",
        "                     columns = class_names)\n",
        "\n",
        "figure = plt.figure(figsize=(10, 10))\n",
        "sns.heatmap(resnet50_con_mat_df, annot=True,cmap=plt.cm.Blues)\n",
        "plt.tight_layout()\n",
        "plt.ylabel('True label')\n",
        "plt.xlabel('Predicted label')\n",
        "plt.show()"
      ],
      "metadata": {
        "id": "qWeAYt7D7VBY",
        "colab": {
          "base_uri": "https://localhost:8080/",
          "height": 1000
        },
        "outputId": "b8b02d3d-31c5-461c-cd2d-fe1c766d7cb6"
      },
      "execution_count": 16,
      "outputs": [
        {
          "output_type": "stream",
          "name": "stdout",
          "text": [
            "\u001b[1m5/5\u001b[0m \u001b[32m━━━━━━━━━━━━━━━━━━━━\u001b[0m\u001b[37m\u001b[0m \u001b[1m5s\u001b[0m 571ms/step\n"
          ]
        },
        {
          "output_type": "display_data",
          "data": {
            "text/plain": [
              "<Figure size 1000x1000 with 2 Axes>"
            ],
            "image/png": "[encoded data removed]"
          },
          "metadata": {}
        }
      ]
    },
    {
      "cell_type": "code",
      "source": [
        "resnet50_y_pred = resnet50_model.predict(resnet50_test_ds)\n",
        "resnet50_predicted_categories = np.argmax(resnet50_y_pred, axis = 1)\n",
        "\n",
        "resnet50_true_categories = tf.concat([y for x, y in resnet50_test_ds], axis = 0).numpy() # convert to np array\n",
        "\n",
        "print(classification_report(resnet50_true_categories, resnet50_predicted_categories))"
      ],
      "metadata": {
        "id": "AtZXucx57cXJ",
        "colab": {
          "base_uri": "https://localhost:8080/"
        },
        "outputId": "764dd111-550a-4be0-9eb3-78f69c989e5a"
      },
      "execution_count": 17,
      "outputs": [
        {
          "output_type": "stream",
          "name": "stdout",
          "text": [
            "\u001b[1m44/44\u001b[0m \u001b[32m━━━━━━━━━━━━━━━━━━━━\u001b[0m\u001b[37m\u001b[0m \u001b[1m9s\u001b[0m 167ms/step\n",
            "              precision    recall  f1-score   support\n",
            "\n",
            "           0       0.99      0.99      0.99      1298\n",
            "           1       0.99      0.98      0.99      1315\n",
            "           2       0.97      1.00      0.99      1325\n",
            "           3       0.99      0.98      0.99      1305\n",
            "           4       0.99      0.98      0.98      1301\n",
            "\n",
            "    accuracy                           0.99      6544\n",
            "   macro avg       0.99      0.99      0.99      6544\n",
            "weighted avg       0.99      0.99      0.99      6544\n",
            "\n"
          ]
        }
      ]
    }
  ]
}