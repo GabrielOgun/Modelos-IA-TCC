{
  "nbformat": 4,
  "nbformat_minor": 0,
  "metadata": {
    "colab": {
      "provenance": [],
      "machine_shape": "hm",
      "gpuType": "L4"
    },
    "kernelspec": {
      "name": "python3",
      "display_name": "Python 3"
    },
    "language_info": {
      "name": "python"
    },
    "accelerator": "GPU"
  },
  "cells": [
    {
      "cell_type": "code",
      "execution_count": 1,
      "metadata": {
        "colab": {
          "base_uri": "https://localhost:8080/"
        },
        "id": "_A1vpGrrsW1m",
        "outputId": "bed60dd8-936c-4859-e708-ff3d17de95db"
      },
      "outputs": [
        {
          "output_type": "stream",
          "name": "stdout",
          "text": [
            "Mounted at /content/drive\n"
          ]
        }
      ],
      "source": [
        "#importando drive com imagens\n",
        "from pydrive2.auth import GoogleAuth\n",
        "from pydrive2.drive import GoogleDrive\n",
        "from google.colab import auth\n",
        "from oauth2client.client import GoogleCredentials\n",
        "from google.colab import drive\n",
        "drive.mount('/content/drive')"
      ]
    },
    {
      "cell_type": "code",
      "source": [
        "auth.authenticate_user()\n",
        "gauth = GoogleAuth()\n",
        "gauth.credentials = GoogleCredentials.get_application_default()\n",
        "drive = GoogleDrive(gauth)"
      ],
      "metadata": {
        "id": "PoLWTwvaskfc"
      },
      "execution_count": 2,
      "outputs": []
    },
    {
      "cell_type": "code",
      "source": [
        "import matplotlib.pyplot as plt\n",
        "import numpy as np\n",
        "import os\n",
        "import PIL\n",
        "import tensorflow as tf\n",
        "import pandas as pd\n",
        "import seaborn as sns\n",
        "import pathlib\n",
        "\n",
        "\n",
        "from tensorflow import keras\n",
        "from tensorflow.keras import layers\n",
        "from tensorflow.keras.models import Sequential\n",
        "from tensorflow.keras.layers import Conv2D, MaxPool2D # Updated import statements\n",
        "from keras.preprocessing.image import ImageDataGenerator\n",
        "from sklearn.metrics import classification_report, confusion_matrix\n",
        "from keras.callbacks import ModelCheckpoint, ReduceLROnPlateau\n",
        "from tensorflow.keras import regularizers\n",
        "from keras import metrics"
      ],
      "metadata": {
        "id": "vyJ8WTkntzCP"
      },
      "execution_count": 3,
      "outputs": []
    },
    {
      "cell_type": "code",
      "source": [
        "data_dir = pathlib.Path(\"/content/drive/MyDrive/TCC_DOCS/images\")\n",
        "print(data_dir)"
      ],
      "metadata": {
        "colab": {
          "base_uri": "https://localhost:8080/"
        },
        "id": "RjplTL5qt9gz",
        "outputId": "9979f4f1-5c03-444f-b505-f58bdf32bffe"
      },
      "execution_count": 4,
      "outputs": [
        {
          "output_type": "stream",
          "name": "stdout",
          "text": [
            "/content/drive/MyDrive/TCC_DOCS/images\n"
          ]
        }
      ]
    },
    {
      "cell_type": "code",
      "source": [
        "#tamanho de imagem\n",
        "vgg16_img_size = 100\n",
        "#número de exemplos que serão processados juntos em uma única iteração do modelo durante o treinamento\n",
        "vgg16_batch_size = 150\n",
        "\n",
        "vgg16_train_ds = tf.keras.preprocessing.image_dataset_from_directory(\n",
        "    data_dir,\n",
        "    seed=123,\n",
        "    image_size=(vgg16_img_size, vgg16_img_size),\n",
        "    batch_size=vgg16_batch_size)\n",
        "\n",
        "vgg16_val_ds = tf.keras.preprocessing.image_dataset_from_directory(\n",
        "    data_dir,\n",
        "    validation_split=0.2,\n",
        "    subset=\"validation\",\n",
        "    seed=123,\n",
        "    image_size=(vgg16_img_size,vgg16_img_size),\n",
        "    batch_size=vgg16_batch_size)\n",
        "\n",
        "vgg16_test_ds = tf.keras.preprocessing.image_dataset_from_directory(\n",
        "    data_dir,\n",
        "    seed=123,\n",
        "    image_size=(vgg16_img_size,vgg16_img_size),\n",
        "    batch_size=vgg16_batch_size)\n",
        "\n",
        "class_names = vgg16_test_ds.class_names"
      ],
      "metadata": {
        "id": "94tfHvhMuhKH",
        "colab": {
          "base_uri": "https://localhost:8080/"
        },
        "outputId": "8d5443c6-6c2f-42e9-f502-7b7297ab921f"
      },
      "execution_count": 6,
      "outputs": [
        {
          "output_type": "stream",
          "name": "stdout",
          "text": [
            "Found 47813 files belonging to 5 classes.\n",
            "Found 47813 files belonging to 5 classes.\n",
            "Using 9562 files for validation.\n",
            "Found 47813 files belonging to 5 classes.\n"
          ]
        }
      ]
    },
    {
      "cell_type": "code",
      "source": [
        "for image_batch, labels_batch in vgg16_train_ds:\n",
        "  vgg16_train_img = image_batch\n",
        "  vgg16_train_labels = labels_batch\n",
        "  break\n",
        "for image_batch, labels_batch in vgg16_val_ds:\n",
        "  vgg16_val_img = image_batch\n",
        "  vgg16_val_labels = labels_batch\n",
        "  break\n",
        "for image_batch, labels_batch in vgg16_test_ds:\n",
        "  vgg16_test_img = image_batch\n",
        "  vgg16_test_labels = labels_batch\n",
        "  break"
      ],
      "metadata": {
        "id": "9qFlfr3UwVIh"
      },
      "execution_count": 7,
      "outputs": []
    },
    {
      "cell_type": "code",
      "source": [
        "# ajusta automaticamente o número de threads para o pré-processamento dos dados. melhorar a performance e a eficiência do pipeline de dados.\n",
        "AUTOTUNE = tf.data.experimental.AUTOTUNE\n",
        "\n",
        "vgg16_train_ds = vgg16_train_ds.cache().shuffle(1000).prefetch(buffer_size=AUTOTUNE)\n",
        "vgg16_val_ds = vgg16_val_ds.cache().prefetch(buffer_size=AUTOTUNE)\n",
        "vgg16_test_ds = vgg16_test_ds.cache().prefetch(buffer_size=AUTOTUNE)"
      ],
      "metadata": {
        "id": "_K9GNOjGwWhl"
      },
      "execution_count": 8,
      "outputs": []
    },
    {
      "cell_type": "code",
      "source": [
        "#aumentando a diversidade do conjunto de treinamento\n",
        "data_augmentation = keras.Sequential(\n",
        "  [\n",
        "    layers.experimental.preprocessing.RandomFlip(\"horizontal\",\n",
        "                                                 input_shape=(vgg16_img_size,\n",
        "                                                              vgg16_img_size,\n",
        "                                                              3)),\n",
        "    layers.experimental.preprocessing.RandomRotation(0.2),\n",
        "    layers.experimental.preprocessing.RandomZoom(0.2),\n",
        "  ]\n",
        ")"
      ],
      "metadata": {
        "id": "wMjYkUP8wZJJ"
      },
      "execution_count": 9,
      "outputs": []
    },
    {
      "cell_type": "code",
      "source": [
        "# VGG16\n",
        "img_shape = (vgg16_img_size,vgg16_img_size,3)\n",
        "VGG16_model = tf.keras.applications.VGG16(input_shape=img_shape,include_top=False,weights='imagenet')"
      ],
      "metadata": {
        "id": "aQ00eWRzwbZI",
        "colab": {
          "base_uri": "https://localhost:8080/"
        },
        "outputId": "a9615cd9-3674-4c2c-c6eb-612a0ebca548"
      },
      "execution_count": 10,
      "outputs": [
        {
          "output_type": "stream",
          "name": "stdout",
          "text": [
            "Downloading data from https://storage.googleapis.com/tensorflow/keras-applications/vgg16/vgg16_weights_tf_dim_ordering_tf_kernels_notop.h5\n",
            "58889256/58889256 [==============================] - 0s 0us/step\n"
          ]
        }
      ]
    },
    {
      "cell_type": "code",
      "source": [
        "VGG16_model.trainable=False\n",
        "global_average_layer = tf.keras.layers.GlobalAveragePooling2D()\n",
        "prediction_layer = tf.keras.layers.Dense(5,activation='relu',bias_regularizer=regularizers.l2(1e-4))"
      ],
      "metadata": {
        "id": "Ix6Q7shBwdlj"
      },
      "execution_count": 11,
      "outputs": []
    },
    {
      "cell_type": "code",
      "source": [
        "num_classes = 5\n",
        "vgg16_model = Sequential([\n",
        "    data_augmentation,\n",
        "    VGG16_model,\n",
        "    prediction_layer,\n",
        "    global_average_layer,\n",
        "    layers.Flatten(),\n",
        "    layers.BatchNormalization(),\n",
        "    layers.Activation('softmax'),\n",
        "])"
      ],
      "metadata": {
        "id": "m7sJOltIwlI7"
      },
      "execution_count": 12,
      "outputs": []
    },
    {
      "cell_type": "code",
      "source": [
        "vgg16_model.summary()"
      ],
      "metadata": {
        "id": "dSH7NCPUwmid",
        "colab": {
          "base_uri": "https://localhost:8080/"
        },
        "outputId": "4f8b5c72-535a-47ec-956b-d679dc1d0916"
      },
      "execution_count": 13,
      "outputs": [
        {
          "output_type": "stream",
          "name": "stdout",
          "text": [
            "Model: \"sequential_1\"\n",
            "_________________________________________________________________\n",
            " Layer (type)                Output Shape              Param #   \n",
            "=================================================================\n",
            " sequential (Sequential)     (None, 100, 100, 3)       0         \n",
            "                                                                 \n",
            " vgg16 (Functional)          (None, 3, 3, 512)         14714688  \n",
            "                                                                 \n",
            " dense (Dense)               (None, 3, 3, 5)           2565      \n",
            "                                                                 \n",
            " global_average_pooling2d (  (None, 5)                 0         \n",
            " GlobalAveragePooling2D)                                         \n",
            "                                                                 \n",
            " flatten (Flatten)           (None, 5)                 0         \n",
            "                                                                 \n",
            " batch_normalization (Batch  (None, 5)                 20        \n",
            " Normalization)                                                  \n",
            "                                                                 \n",
            " activation (Activation)     (None, 5)                 0         \n",
            "                                                                 \n",
            "=================================================================\n",
            "Total params: 14717273 (56.14 MB)\n",
            "Trainable params: 2575 (10.06 KB)\n",
            "Non-trainable params: 14714698 (56.13 MB)\n",
            "_________________________________________________________________\n"
          ]
        }
      ]
    },
    {
      "cell_type": "code",
      "source": [
        "vgg16_model.compile(optimizer='adam',loss=tf.keras.losses.SparseCategoricalCrossentropy(from_logits=True),metrics=['accuracy'])"
      ],
      "metadata": {
        "id": "q_i70u6ewodt"
      },
      "execution_count": 14,
      "outputs": []
    },
    {
      "cell_type": "code",
      "source": [
        "epochs = 50\n",
        "history = vgg16_model.fit(\n",
        "  vgg16_train_ds,\n",
        "  validation_data=vgg16_val_ds,\n",
        "  epochs=epochs\n",
        ")"
      ],
      "metadata": {
        "id": "ZEVgRIgQwoyf",
        "colab": {
          "base_uri": "https://localhost:8080/"
        },
        "outputId": "4164400b-d303-49a5-b353-d79073f8843b"
      },
      "execution_count": 15,
      "outputs": [
        {
          "output_type": "stream",
          "name": "stdout",
          "text": [
            "Epoch 1/50\n"
          ]
        },
        {
          "output_type": "stream",
          "name": "stderr",
          "text": [
            "/usr/local/lib/python3.10/dist-packages/keras/src/backend.py:5727: UserWarning: \"`sparse_categorical_crossentropy` received `from_logits=True`, but the `output` argument was produced by a Softmax activation and thus does not represent logits. Was this intended?\n",
            "  output, from_logits = _get_logits(\n"
          ]
        },
        {
          "output_type": "stream",
          "name": "stdout",
          "text": [
            "319/319 [==============================] - 2116s 262ms/step - loss: 1.2877 - accuracy: 0.5722 - val_loss: 0.8865 - val_accuracy: 0.7247\n",
            "Epoch 2/50\n",
            "319/319 [==============================] - 36s 113ms/step - loss: 0.9894 - accuracy: 0.7058 - val_loss: 0.8418 - val_accuracy: 0.7420\n",
            "Epoch 3/50\n",
            "319/319 [==============================] - 36s 112ms/step - loss: 0.8660 - accuracy: 0.7344 - val_loss: 0.7832 - val_accuracy: 0.7516\n",
            "Epoch 4/50\n",
            "319/319 [==============================] - 36s 112ms/step - loss: 0.7908 - accuracy: 0.7450 - val_loss: 0.7399 - val_accuracy: 0.7561\n",
            "Epoch 5/50\n",
            "319/319 [==============================] - 36s 112ms/step - loss: 0.7459 - accuracy: 0.7491 - val_loss: 0.7213 - val_accuracy: 0.7576\n",
            "Epoch 6/50\n",
            "319/319 [==============================] - 36s 112ms/step - loss: 0.7188 - accuracy: 0.7506 - val_loss: 0.6866 - val_accuracy: 0.7580\n",
            "Epoch 7/50\n",
            "319/319 [==============================] - 36s 112ms/step - loss: 0.6994 - accuracy: 0.7525 - val_loss: 0.6739 - val_accuracy: 0.7570\n",
            "Epoch 8/50\n",
            "319/319 [==============================] - 36s 112ms/step - loss: 0.6867 - accuracy: 0.7526 - val_loss: 0.6753 - val_accuracy: 0.7553\n",
            "Epoch 9/50\n",
            "319/319 [==============================] - 36s 112ms/step - loss: 0.6786 - accuracy: 0.7532 - val_loss: 0.6670 - val_accuracy: 0.7574\n",
            "Epoch 10/50\n",
            "319/319 [==============================] - 36s 112ms/step - loss: 0.6737 - accuracy: 0.7524 - val_loss: 0.6723 - val_accuracy: 0.7531\n",
            "Epoch 11/50\n",
            "319/319 [==============================] - 36s 112ms/step - loss: 0.6686 - accuracy: 0.7536 - val_loss: 0.6610 - val_accuracy: 0.7554\n",
            "Epoch 12/50\n",
            "319/319 [==============================] - 36s 112ms/step - loss: 0.6668 - accuracy: 0.7524 - val_loss: 0.6649 - val_accuracy: 0.7534\n",
            "Epoch 13/50\n",
            "319/319 [==============================] - 36s 112ms/step - loss: 0.6622 - accuracy: 0.7525 - val_loss: 0.6522 - val_accuracy: 0.7586\n",
            "Epoch 14/50\n",
            "319/319 [==============================] - 36s 112ms/step - loss: 0.6595 - accuracy: 0.7534 - val_loss: 0.6490 - val_accuracy: 0.7599\n",
            "Epoch 15/50\n",
            "319/319 [==============================] - 36s 112ms/step - loss: 0.6603 - accuracy: 0.7545 - val_loss: 0.6531 - val_accuracy: 0.7575\n",
            "Epoch 16/50\n",
            "319/319 [==============================] - 36s 112ms/step - loss: 0.6557 - accuracy: 0.7543 - val_loss: 0.6497 - val_accuracy: 0.7601\n",
            "Epoch 17/50\n",
            "319/319 [==============================] - 36s 112ms/step - loss: 0.6583 - accuracy: 0.7551 - val_loss: 0.6567 - val_accuracy: 0.7561\n",
            "Epoch 18/50\n",
            "319/319 [==============================] - 36s 112ms/step - loss: 0.6553 - accuracy: 0.7537 - val_loss: 0.6549 - val_accuracy: 0.7567\n",
            "Epoch 19/50\n",
            "319/319 [==============================] - 36s 112ms/step - loss: 0.6561 - accuracy: 0.7544 - val_loss: 0.6566 - val_accuracy: 0.7572\n",
            "Epoch 20/50\n",
            "319/319 [==============================] - 36s 112ms/step - loss: 0.6525 - accuracy: 0.7566 - val_loss: 0.6491 - val_accuracy: 0.7577\n",
            "Epoch 21/50\n",
            "319/319 [==============================] - 36s 112ms/step - loss: 0.6532 - accuracy: 0.7562 - val_loss: 0.6540 - val_accuracy: 0.7596\n",
            "Epoch 22/50\n",
            "319/319 [==============================] - 36s 112ms/step - loss: 0.6517 - accuracy: 0.7546 - val_loss: 0.6453 - val_accuracy: 0.7597\n",
            "Epoch 23/50\n",
            "319/319 [==============================] - 36s 112ms/step - loss: 0.6511 - accuracy: 0.7558 - val_loss: 0.6465 - val_accuracy: 0.7603\n",
            "Epoch 24/50\n",
            "319/319 [==============================] - 36s 112ms/step - loss: 0.6508 - accuracy: 0.7561 - val_loss: 0.6451 - val_accuracy: 0.7598\n",
            "Epoch 25/50\n",
            "319/319 [==============================] - 36s 112ms/step - loss: 0.6506 - accuracy: 0.7541 - val_loss: 0.6464 - val_accuracy: 0.7587\n",
            "Epoch 26/50\n",
            "319/319 [==============================] - 36s 112ms/step - loss: 0.6516 - accuracy: 0.7560 - val_loss: 0.6410 - val_accuracy: 0.7593\n",
            "Epoch 27/50\n",
            "319/319 [==============================] - 36s 112ms/step - loss: 0.6493 - accuracy: 0.7567 - val_loss: 0.6428 - val_accuracy: 0.7595\n",
            "Epoch 28/50\n",
            "319/319 [==============================] - 36s 112ms/step - loss: 0.6498 - accuracy: 0.7567 - val_loss: 0.6640 - val_accuracy: 0.7548\n",
            "Epoch 29/50\n",
            "319/319 [==============================] - 36s 112ms/step - loss: 0.6508 - accuracy: 0.7550 - val_loss: 0.6463 - val_accuracy: 0.7594\n",
            "Epoch 30/50\n",
            "319/319 [==============================] - 36s 112ms/step - loss: 0.6509 - accuracy: 0.7555 - val_loss: 0.6538 - val_accuracy: 0.7583\n",
            "Epoch 31/50\n",
            "319/319 [==============================] - 36s 112ms/step - loss: 0.6487 - accuracy: 0.7566 - val_loss: 0.6456 - val_accuracy: 0.7598\n",
            "Epoch 32/50\n",
            "319/319 [==============================] - 36s 112ms/step - loss: 0.6509 - accuracy: 0.7549 - val_loss: 0.6490 - val_accuracy: 0.7589\n",
            "Epoch 33/50\n",
            "319/319 [==============================] - 36s 112ms/step - loss: 0.6499 - accuracy: 0.7558 - val_loss: 0.6503 - val_accuracy: 0.7584\n",
            "Epoch 34/50\n",
            "319/319 [==============================] - 36s 112ms/step - loss: 0.6502 - accuracy: 0.7555 - val_loss: 0.6506 - val_accuracy: 0.7592\n",
            "Epoch 35/50\n",
            "319/319 [==============================] - 36s 112ms/step - loss: 0.6486 - accuracy: 0.7563 - val_loss: 0.6473 - val_accuracy: 0.7620\n",
            "Epoch 36/50\n",
            "319/319 [==============================] - 36s 112ms/step - loss: 0.6487 - accuracy: 0.7547 - val_loss: 0.6447 - val_accuracy: 0.7596\n",
            "Epoch 37/50\n",
            "319/319 [==============================] - 36s 112ms/step - loss: 0.6487 - accuracy: 0.7566 - val_loss: 0.6450 - val_accuracy: 0.7605\n",
            "Epoch 38/50\n",
            "319/319 [==============================] - 36s 112ms/step - loss: 0.6508 - accuracy: 0.7538 - val_loss: 0.6414 - val_accuracy: 0.7613\n",
            "Epoch 39/50\n",
            "319/319 [==============================] - 36s 112ms/step - loss: 0.6477 - accuracy: 0.7563 - val_loss: 0.6533 - val_accuracy: 0.7586\n",
            "Epoch 40/50\n",
            "319/319 [==============================] - 36s 112ms/step - loss: 0.6480 - accuracy: 0.7566 - val_loss: 0.6395 - val_accuracy: 0.7605\n",
            "Epoch 41/50\n",
            "319/319 [==============================] - 36s 112ms/step - loss: 0.6488 - accuracy: 0.7554 - val_loss: 0.6466 - val_accuracy: 0.7592\n",
            "Epoch 42/50\n",
            "319/319 [==============================] - 36s 112ms/step - loss: 0.6474 - accuracy: 0.7558 - val_loss: 0.6496 - val_accuracy: 0.7605\n",
            "Epoch 43/50\n",
            "319/319 [==============================] - 36s 112ms/step - loss: 0.6503 - accuracy: 0.7550 - val_loss: 0.6488 - val_accuracy: 0.7571\n",
            "Epoch 44/50\n",
            "319/319 [==============================] - 36s 112ms/step - loss: 0.6451 - accuracy: 0.7567 - val_loss: 0.6528 - val_accuracy: 0.7581\n",
            "Epoch 45/50\n",
            "319/319 [==============================] - 36s 112ms/step - loss: 0.6476 - accuracy: 0.7579 - val_loss: 0.6489 - val_accuracy: 0.7567\n",
            "Epoch 46/50\n",
            "319/319 [==============================] - 36s 112ms/step - loss: 0.6484 - accuracy: 0.7569 - val_loss: 0.6466 - val_accuracy: 0.7620\n",
            "Epoch 47/50\n",
            "319/319 [==============================] - 36s 112ms/step - loss: 0.6491 - accuracy: 0.7546 - val_loss: 0.6441 - val_accuracy: 0.7609\n",
            "Epoch 48/50\n",
            "319/319 [==============================] - 36s 112ms/step - loss: 0.6490 - accuracy: 0.7572 - val_loss: 0.6413 - val_accuracy: 0.7627\n",
            "Epoch 49/50\n",
            "319/319 [==============================] - 36s 112ms/step - loss: 0.6446 - accuracy: 0.7583 - val_loss: 0.6511 - val_accuracy: 0.7599\n",
            "Epoch 50/50\n",
            "319/319 [==============================] - 36s 112ms/step - loss: 0.6467 - accuracy: 0.7579 - val_loss: 0.6442 - val_accuracy: 0.7605\n"
          ]
        }
      ]
    },
    {
      "cell_type": "code",
      "source": [
        "vgg16_loss, vgg16_acc = vgg16_model.evaluate(vgg16_test_ds)"
      ],
      "metadata": {
        "id": "11QgDIzJwqYj",
        "colab": {
          "base_uri": "https://localhost:8080/"
        },
        "outputId": "a8bce7b7-125c-4207-9336-b7c4dff1d957"
      },
      "execution_count": 16,
      "outputs": [
        {
          "output_type": "stream",
          "name": "stdout",
          "text": [
            "319/319 [==============================] - 227s 695ms/step - loss: 0.6461 - accuracy: 0.7622\n"
          ]
        }
      ]
    },
    {
      "cell_type": "code",
      "source": [
        "vgg16_y_pred=np.argmax(vgg16_model.predict(vgg16_test_img), axis=-1)\n",
        "vgg16_con_mat = tf.math.confusion_matrix(labels=vgg16_test_labels, predictions=vgg16_y_pred).numpy()"
      ],
      "metadata": {
        "id": "wmmgyNUAw_GS",
        "colab": {
          "base_uri": "https://localhost:8080/"
        },
        "outputId": "04c7c3c5-1a6e-441d-a0e9-164469b446bc"
      },
      "execution_count": 17,
      "outputs": [
        {
          "output_type": "stream",
          "name": "stdout",
          "text": [
            "5/5 [==============================] - 2s 223ms/step\n"
          ]
        }
      ]
    },
    {
      "cell_type": "code",
      "source": [
        "vgg16_con_mat_norm = np.around(vgg16_con_mat.astype('float') / vgg16_con_mat.sum(axis=1)[:, np.newaxis], decimals=2)\n",
        "\n",
        "vgg16_con_mat_df = pd.DataFrame(vgg16_con_mat_norm,\n",
        "                     index = class_names,\n",
        "                     columns = class_names)"
      ],
      "metadata": {
        "id": "adAaWV7gxAf4"
      },
      "execution_count": 18,
      "outputs": []
    },
    {
      "cell_type": "code",
      "source": [
        "figure = plt.figure(figsize=(10, 10))\n",
        "sns.heatmap(vgg16_con_mat_df, annot=True,cmap=plt.cm.Blues)\n",
        "plt.tight_layout()\n",
        "plt.ylabel('True label')\n",
        "plt.xlabel('Predicted label')\n",
        "plt.show()"
      ],
      "metadata": {
        "id": "Zs-H8MtqxAzM",
        "colab": {
          "base_uri": "https://localhost:8080/",
          "height": 1000
        },
        "outputId": "02722e1f-ba82-47a5-f80d-a9f9f1718b3e"
      },
      "execution_count": 19,
      "outputs": [
        {
          "output_type": "display_data",
          "data": {
            "text/plain": [
              "<Figure size 1000x1000 with 2 Axes>"
            ],
            "image/png": "[encoded data removed]"
          },
          "metadata": {}
        }
      ]
    },
    {
      "cell_type": "code",
      "source": [
        "vgg16_y_pred = vgg16_model.predict(vgg16_test_ds)\n",
        "vgg16_predicted_categories = np.argmax(vgg16_y_pred, axis = 1)"
      ],
      "metadata": {
        "id": "-kdcN5HtxDB6",
        "colab": {
          "base_uri": "https://localhost:8080/"
        },
        "outputId": "66b6ecff-44c6-4d60-e798-9c8d59666756"
      },
      "execution_count": 20,
      "outputs": [
        {
          "output_type": "stream",
          "name": "stdout",
          "text": [
            "319/319 [==============================] - 29s 91ms/step\n"
          ]
        }
      ]
    },
    {
      "cell_type": "code",
      "source": [
        "vgg16_true_categories = tf.concat([y for x, y in vgg16_test_ds], axis = 0).numpy() # convert to np array"
      ],
      "metadata": {
        "id": "c881vYDaxDZv"
      },
      "execution_count": 21,
      "outputs": []
    },
    {
      "cell_type": "code",
      "source": [
        "print(classification_report(vgg16_true_categories, vgg16_predicted_categories))"
      ],
      "metadata": {
        "id": "2pz3QlzsxEiG",
        "colab": {
          "base_uri": "https://localhost:8080/"
        },
        "outputId": "0cc7a0c4-e802-4f4f-d5e9-6d2c3c61fdf5"
      },
      "execution_count": 22,
      "outputs": [
        {
          "output_type": "stream",
          "name": "stdout",
          "text": [
            "              precision    recall  f1-score   support\n",
            "\n",
            "           0       0.60      0.44      0.51      4767\n",
            "           1       0.59      0.39      0.47      7226\n",
            "           2       0.81      0.96      0.88     32614\n",
            "           3       0.37      0.09      0.14      1905\n",
            "           4       0.34      0.14      0.20      1301\n",
            "\n",
            "    accuracy                           0.76     47813\n",
            "   macro avg       0.54      0.40      0.44     47813\n",
            "weighted avg       0.72      0.76      0.73     47813\n",
            "\n"
          ]
        }
      ]
    }
  ]
}
