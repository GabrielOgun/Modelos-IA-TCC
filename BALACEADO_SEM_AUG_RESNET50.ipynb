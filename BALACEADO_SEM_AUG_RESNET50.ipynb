{
  "nbformat": 4,
  "nbformat_minor": 0,
  "metadata": {
    "colab": {
      "provenance": [],
      "machine_shape": "hm",
      "gpuType": "T4"
    },
    "kernelspec": {
      "name": "python3",
      "display_name": "Python 3"
    },
    "language_info": {
      "name": "python"
    },
    "accelerator": "GPU"
  },
  "cells": [
    {
      "cell_type": "markdown",
      "source": [
        "importando drive"
      ],
      "metadata": {
        "id": "sS7yrDxFHVbn"
      }
    },
    {
      "cell_type": "code",
      "source": [
        "from pydrive2.auth import GoogleAuth\n",
        "from pydrive2.drive import GoogleDrive\n",
        "from google.colab import auth\n",
        "from oauth2client.client import GoogleCredentials\n",
        "from google.colab import drive\n",
        "drive.mount('/content/drive')"
      ],
      "metadata": {
        "colab": {
          "base_uri": "https://localhost:8080/"
        },
        "id": "UZ6snv1SdWAq",
        "outputId": "9d71eafe-e259-4542-d8a2-50bda5ecf6ab"
      },
      "execution_count": null,
      "outputs": [
        {
          "output_type": "stream",
          "name": "stdout",
          "text": [
            "Drive already mounted at /content/drive; to attempt to forcibly remount, call drive.mount(\"/content/drive\", force_remount=True).\n"
          ]
        }
      ]
    },
    {
      "cell_type": "code",
      "source": [
        "auth.authenticate_user()\n",
        "gauth = GoogleAuth()\n",
        "gauth.credentials = GoogleCredentials.get_application_default()\n",
        "drive = GoogleDrive(gauth)"
      ],
      "metadata": {
        "id": "PHVWAKTSGWFu"
      },
      "execution_count": null,
      "outputs": []
    },
    {
      "cell_type": "code",
      "source": [
        "import matplotlib.pyplot as plt\n",
        "import numpy as np\n",
        "import os\n",
        "import PIL\n",
        "import tensorflow as tf\n",
        "import pandas as pd\n",
        "import seaborn as sns\n",
        "import pathlib\n",
        "\n",
        "from tensorflow import keras\n",
        "from tensorflow.keras import layers\n",
        "from tensorflow.keras.models import Sequential\n",
        "from tensorflow.keras.layers import Conv2D, MaxPool2D # Updated import statements\n",
        "from tensorflow.keras.preprocessing.image import ImageDataGenerator\n",
        "from sklearn.metrics import classification_report, confusion_matrix\n",
        "from keras.callbacks import ModelCheckpoint, ReduceLROnPlateau\n",
        "from tensorflow.keras import regularizers\n",
        "from keras import metrics"
      ],
      "metadata": {
        "id": "-KLPePQyD1kJ"
      },
      "execution_count": null,
      "outputs": []
    },
    {
      "cell_type": "code",
      "source": [
        "data_dir = pathlib.Path(\"/content/drive/MyDrive/TCC_DOCS/dataset_balanceado\")\n",
        "print(data_dir)"
      ],
      "metadata": {
        "colab": {
          "base_uri": "https://localhost:8080/"
        },
        "id": "5XqugofvIsbk",
        "outputId": "ffaf28e5-e29b-4a7d-a01c-5289bcf6a965"
      },
      "execution_count": null,
      "outputs": [
        {
          "output_type": "stream",
          "name": "stdout",
          "text": [
            "/content/drive/MyDrive/TCC_DOCS/dataset_balanceado\n"
          ]
        }
      ]
    },
    {
      "cell_type": "code",
      "source": [
        "#resnet50"
      ],
      "metadata": {
        "id": "bW_FZu_aJXss"
      },
      "execution_count": null,
      "outputs": []
    },
    {
      "cell_type": "code",
      "source": [
        "resnet50_img_size = 100\n",
        "resnet50_batch_size = 150\n",
        "\n",
        "resnet50_train_ds = tf.keras.preprocessing.image_dataset_from_directory(\n",
        "    data_dir,\n",
        "    seed=123,\n",
        "    image_size=(resnet50_img_size, resnet50_img_size),\n",
        "    batch_size=resnet50_batch_size)\n",
        "\n",
        "resnet50_val_ds = tf.keras.preprocessing.image_dataset_from_directory(\n",
        "    data_dir,\n",
        "    validation_split=0.2,\n",
        "    subset=\"validation\",\n",
        "    seed=123,\n",
        "    image_size=(resnet50_img_size,resnet50_img_size),\n",
        "    batch_size=resnet50_batch_size)\n",
        "\n",
        "resnet50_test_ds = tf.keras.preprocessing.image_dataset_from_directory(\n",
        "    data_dir,\n",
        "    seed=123,\n",
        "    image_size=(resnet50_img_size,resnet50_img_size),\n",
        "    batch_size=resnet50_batch_size)\n",
        "\n",
        "class_names = resnet50_test_ds.class_names"
      ],
      "metadata": {
        "colab": {
          "base_uri": "https://localhost:8080/"
        },
        "id": "Lltwd-11JbRz",
        "outputId": "a793e0b2-a54f-487c-8436-1ce816d8704c"
      },
      "execution_count": null,
      "outputs": [
        {
          "output_type": "stream",
          "name": "stdout",
          "text": [
            "Found 6544 files belonging to 5 classes.\n",
            "Found 6544 files belonging to 5 classes.\n",
            "Using 1308 files for validation.\n",
            "Found 6544 files belonging to 5 classes.\n"
          ]
        }
      ]
    },
    {
      "cell_type": "code",
      "source": [
        "for image_batch, labels_batch in resnet50_train_ds:\n",
        "  resnet50_train_img = image_batch\n",
        "  resnet50_train_labels = labels_batch\n",
        "  break\n",
        "for image_batch, labels_batch in resnet50_val_ds:\n",
        "  resnet50_val_img = image_batch\n",
        "  resnet50_val_labels = labels_batch\n",
        "  break\n",
        "for image_batch, labels_batch in resnet50_test_ds:\n",
        "  resnet50_test_img = image_batch\n",
        "  resnet50_test_labels = labels_batch\n",
        "  break"
      ],
      "metadata": {
        "id": "hg9bVF4mLnLY"
      },
      "execution_count": null,
      "outputs": []
    },
    {
      "cell_type": "code",
      "source": [
        "#Restnet50\n",
        "img_shape = (resnet50_img_size,resnet50_img_size,3)\n",
        "Resnet50_model = tf.keras.applications.ResNet50(\n",
        "    include_top=False,\n",
        "    weights=\"imagenet\",\n",
        "    input_shape=img_shape,\n",
        "    pooling='avg',\n",
        "    classes=5,\n",
        ")\n",
        "prediction_layer = tf.keras.layers.Dense(5,activation='relu',bias_regularizer=regularizers.l2(1e-4))"
      ],
      "metadata": {
        "id": "zbCa5GuEM5FQ"
      },
      "execution_count": null,
      "outputs": []
    },
    {
      "cell_type": "code",
      "source": [
        "num_classes = 5\n",
        "resnet50_model = Sequential([\n",
        "    Resnet50_model,\n",
        "    prediction_layer,\n",
        "    layers.Flatten(),\n",
        "    layers.BatchNormalization(),\n",
        "    layers.Activation('softmax'),\n",
        "])"
      ],
      "metadata": {
        "id": "wpEUrOHTM-dz"
      },
      "execution_count": null,
      "outputs": []
    },
    {
      "cell_type": "code",
      "source": [
        "resnet50_model.compile(optimizer='adam',loss=tf.keras.losses.SparseCategoricalCrossentropy(from_logits=True),metrics=['accuracy'])"
      ],
      "metadata": {
        "id": "kEH0skElNBEY"
      },
      "execution_count": null,
      "outputs": []
    },
    {
      "cell_type": "code",
      "source": [
        "epochs = 50\n",
        "history = resnet50_model.fit(\n",
        "  resnet50_train_ds,\n",
        "  validation_data=resnet50_val_ds,\n",
        "  epochs=epochs\n",
        ")"
      ],
      "metadata": {
        "colab": {
          "base_uri": "https://localhost:8080/"
        },
        "id": "IzIbFTbpNDfg",
        "outputId": "99e632fe-5aae-4dbd-810e-7699ff524802"
      },
      "execution_count": null,
      "outputs": [
        {
          "output_type": "stream",
          "name": "stdout",
          "text": [
            "Epoch 1/50\n"
          ]
        },
        {
          "output_type": "stream",
          "name": "stderr",
          "text": [
            "/usr/local/lib/python3.10/dist-packages/keras/src/backend/tensorflow/nn.py:609: UserWarning: \"`sparse_categorical_crossentropy` received `from_logits=True`, but the `output` argument was produced by a Softmax activation and thus does not represent logits. Was this intended?\n",
            "  output, from_logits = _get_logits(\n"
          ]
        },
        {
          "output_type": "stream",
          "name": "stdout",
          "text": [
            "\u001b[1m44/44\u001b[0m \u001b[32m━━━━━━━━━━━━━━━━━━━━\u001b[0m\u001b[37m\u001b[0m \u001b[1m252s\u001b[0m 4s/step - accuracy: 0.5347 - loss: 1.2381 - val_accuracy: 0.2034 - val_loss: 1.6100\n",
            "Epoch 2/50\n",
            "\u001b[1m44/44\u001b[0m \u001b[32m━━━━━━━━━━━━━━━━━━━━\u001b[0m\u001b[37m\u001b[0m \u001b[1m41s\u001b[0m 920ms/step - accuracy: 0.7308 - loss: 0.7789 - val_accuracy: 0.5390 - val_loss: 1.3072\n",
            "Epoch 3/50\n",
            "\u001b[1m44/44\u001b[0m \u001b[32m━━━━━━━━━━━━━━━━━━━━\u001b[0m\u001b[37m\u001b[0m \u001b[1m40s\u001b[0m 903ms/step - accuracy: 0.8261 - loss: 0.5994 - val_accuracy: 0.5841 - val_loss: 1.2047\n",
            "Epoch 4/50\n",
            "\u001b[1m44/44\u001b[0m \u001b[32m━━━━━━━━━━━━━━━━━━━━\u001b[0m\u001b[37m\u001b[0m \u001b[1m40s\u001b[0m 905ms/step - accuracy: 0.8732 - loss: 0.4925 - val_accuracy: 0.4778 - val_loss: 1.3586\n",
            "Epoch 5/50\n",
            "\u001b[1m44/44\u001b[0m \u001b[32m━━━━━━━━━━━━━━━━━━━━\u001b[0m\u001b[37m\u001b[0m \u001b[1m40s\u001b[0m 903ms/step - accuracy: 0.8822 - loss: 0.4589 - val_accuracy: 0.4450 - val_loss: 1.4508\n",
            "Epoch 6/50\n",
            "\u001b[1m44/44\u001b[0m \u001b[32m━━━━━━━━━━━━━━━━━━━━\u001b[0m\u001b[37m\u001b[0m \u001b[1m41s\u001b[0m 914ms/step - accuracy: 0.9103 - loss: 0.3803 - val_accuracy: 0.6812 - val_loss: 1.0119\n",
            "Epoch 7/50\n",
            "\u001b[1m44/44\u001b[0m \u001b[32m━━━━━━━━━━━━━━━━━━━━\u001b[0m\u001b[37m\u001b[0m \u001b[1m40s\u001b[0m 911ms/step - accuracy: 0.9209 - loss: 0.3514 - val_accuracy: 0.7431 - val_loss: 0.8756\n",
            "Epoch 8/50\n",
            "\u001b[1m44/44\u001b[0m \u001b[32m━━━━━━━━━━━━━━━━━━━━\u001b[0m\u001b[37m\u001b[0m \u001b[1m40s\u001b[0m 917ms/step - accuracy: 0.9507 - loss: 0.2739 - val_accuracy: 0.5069 - val_loss: 1.3971\n",
            "Epoch 9/50\n",
            "\u001b[1m44/44\u001b[0m \u001b[32m━━━━━━━━━━━━━━━━━━━━\u001b[0m\u001b[37m\u001b[0m \u001b[1m40s\u001b[0m 906ms/step - accuracy: 0.9514 - loss: 0.2576 - val_accuracy: 0.7722 - val_loss: 0.7461\n",
            "Epoch 10/50\n",
            "\u001b[1m44/44\u001b[0m \u001b[32m━━━━━━━━━━━━━━━━━━━━\u001b[0m\u001b[37m\u001b[0m \u001b[1m41s\u001b[0m 926ms/step - accuracy: 0.9560 - loss: 0.2418 - val_accuracy: 0.7401 - val_loss: 0.8175\n",
            "Epoch 11/50\n",
            "\u001b[1m44/44\u001b[0m \u001b[32m━━━━━━━━━━━━━━━━━━━━\u001b[0m\u001b[37m\u001b[0m \u001b[1m40s\u001b[0m 917ms/step - accuracy: 0.9603 - loss: 0.2202 - val_accuracy: 0.7531 - val_loss: 0.7615\n",
            "Epoch 12/50\n",
            "\u001b[1m44/44\u001b[0m \u001b[32m━━━━━━━━━━━━━━━━━━━━\u001b[0m\u001b[37m\u001b[0m \u001b[1m40s\u001b[0m 912ms/step - accuracy: 0.9765 - loss: 0.1767 - val_accuracy: 0.8456 - val_loss: 0.5544\n",
            "Epoch 13/50\n",
            "\u001b[1m44/44\u001b[0m \u001b[32m━━━━━━━━━━━━━━━━━━━━\u001b[0m\u001b[37m\u001b[0m \u001b[1m40s\u001b[0m 905ms/step - accuracy: 0.9781 - loss: 0.1633 - val_accuracy: 0.8127 - val_loss: 0.6447\n",
            "Epoch 14/50\n",
            "\u001b[1m44/44\u001b[0m \u001b[32m━━━━━━━━━━━━━━━━━━━━\u001b[0m\u001b[37m\u001b[0m \u001b[1m41s\u001b[0m 921ms/step - accuracy: 0.9751 - loss: 0.1626 - val_accuracy: 0.8800 - val_loss: 0.4359\n",
            "Epoch 15/50\n",
            "\u001b[1m44/44\u001b[0m \u001b[32m━━━━━━━━━━━━━━━━━━━━\u001b[0m\u001b[37m\u001b[0m \u001b[1m40s\u001b[0m 905ms/step - accuracy: 0.9690 - loss: 0.1654 - val_accuracy: 0.8157 - val_loss: 0.5930\n",
            "Epoch 16/50\n",
            "\u001b[1m44/44\u001b[0m \u001b[32m━━━━━━━━━━━━━━━━━━━━\u001b[0m\u001b[37m\u001b[0m \u001b[1m39s\u001b[0m 883ms/step - accuracy: 0.9787 - loss: 0.1423 - val_accuracy: 0.7951 - val_loss: 0.6130\n",
            "Epoch 17/50\n",
            "\u001b[1m44/44\u001b[0m \u001b[32m━━━━━━━━━━━━━━━━━━━━\u001b[0m\u001b[37m\u001b[0m \u001b[1m40s\u001b[0m 898ms/step - accuracy: 0.9748 - loss: 0.1508 - val_accuracy: 0.7500 - val_loss: 0.7663\n",
            "Epoch 18/50\n",
            "\u001b[1m44/44\u001b[0m \u001b[32m━━━━━━━━━━━━━━━━━━━━\u001b[0m\u001b[37m\u001b[0m \u001b[1m40s\u001b[0m 892ms/step - accuracy: 0.9735 - loss: 0.1517 - val_accuracy: 0.8035 - val_loss: 0.6613\n",
            "Epoch 19/50\n",
            "\u001b[1m44/44\u001b[0m \u001b[32m━━━━━━━━━━━━━━━━━━━━\u001b[0m\u001b[37m\u001b[0m \u001b[1m40s\u001b[0m 905ms/step - accuracy: 0.9876 - loss: 0.1095 - val_accuracy: 0.9090 - val_loss: 0.3373\n",
            "Epoch 20/50\n",
            "\u001b[1m44/44\u001b[0m \u001b[32m━━━━━━━━━━━━━━━━━━━━\u001b[0m\u001b[37m\u001b[0m \u001b[1m39s\u001b[0m 881ms/step - accuracy: 0.9776 - loss: 0.1297 - val_accuracy: 0.8035 - val_loss: 0.6039\n",
            "Epoch 21/50\n",
            "\u001b[1m44/44\u001b[0m \u001b[32m━━━━━━━━━━━━━━━━━━━━\u001b[0m\u001b[37m\u001b[0m \u001b[1m39s\u001b[0m 886ms/step - accuracy: 0.9838 - loss: 0.1086 - val_accuracy: 0.8494 - val_loss: 0.4951\n",
            "Epoch 22/50\n",
            "\u001b[1m44/44\u001b[0m \u001b[32m━━━━━━━━━━━━━━━━━━━━\u001b[0m\u001b[37m\u001b[0m \u001b[1m40s\u001b[0m 904ms/step - accuracy: 0.9836 - loss: 0.1033 - val_accuracy: 0.8517 - val_loss: 0.4762\n",
            "Epoch 23/50\n",
            "\u001b[1m44/44\u001b[0m \u001b[32m━━━━━━━━━━━━━━━━━━━━\u001b[0m\u001b[37m\u001b[0m \u001b[1m41s\u001b[0m 932ms/step - accuracy: 0.9833 - loss: 0.1008 - val_accuracy: 0.5482 - val_loss: 1.5007\n",
            "Epoch 24/50\n",
            "\u001b[1m44/44\u001b[0m \u001b[32m━━━━━━━━━━━━━━━━━━━━\u001b[0m\u001b[37m\u001b[0m \u001b[1m40s\u001b[0m 912ms/step - accuracy: 0.9822 - loss: 0.1045 - val_accuracy: 0.7125 - val_loss: 0.9113\n",
            "Epoch 25/50\n",
            "\u001b[1m44/44\u001b[0m \u001b[32m━━━━━━━━━━━━━━━━━━━━\u001b[0m\u001b[37m\u001b[0m \u001b[1m40s\u001b[0m 907ms/step - accuracy: 0.9803 - loss: 0.1034 - val_accuracy: 0.7500 - val_loss: 0.7802\n",
            "Epoch 26/50\n",
            "\u001b[1m44/44\u001b[0m \u001b[32m━━━━━━━━━━━━━━━━━━━━\u001b[0m\u001b[37m\u001b[0m \u001b[1m40s\u001b[0m 896ms/step - accuracy: 0.9807 - loss: 0.0980 - val_accuracy: 0.8991 - val_loss: 0.3395\n",
            "Epoch 27/50\n",
            "\u001b[1m44/44\u001b[0m \u001b[32m━━━━━━━━━━━━━━━━━━━━\u001b[0m\u001b[37m\u001b[0m \u001b[1m40s\u001b[0m 894ms/step - accuracy: 0.9865 - loss: 0.0903 - val_accuracy: 0.9251 - val_loss: 0.2704\n",
            "Epoch 28/50\n",
            "\u001b[1m44/44\u001b[0m \u001b[32m━━━━━━━━━━━━━━━━━━━━\u001b[0m\u001b[37m\u001b[0m \u001b[1m40s\u001b[0m 899ms/step - accuracy: 0.9934 - loss: 0.0659 - val_accuracy: 0.9266 - val_loss: 0.2763\n",
            "Epoch 29/50\n",
            "\u001b[1m44/44\u001b[0m \u001b[32m━━━━━━━━━━━━━━━━━━━━\u001b[0m\u001b[37m\u001b[0m \u001b[1m40s\u001b[0m 904ms/step - accuracy: 0.9912 - loss: 0.0664 - val_accuracy: 0.8953 - val_loss: 0.3682\n",
            "Epoch 30/50\n",
            "\u001b[1m44/44\u001b[0m \u001b[32m━━━━━━━━━━━━━━━━━━━━\u001b[0m\u001b[37m\u001b[0m \u001b[1m40s\u001b[0m 914ms/step - accuracy: 0.9911 - loss: 0.0706 - val_accuracy: 0.7974 - val_loss: 0.6413\n",
            "Epoch 31/50\n",
            "\u001b[1m44/44\u001b[0m \u001b[32m━━━━━━━━━━━━━━━━━━━━\u001b[0m\u001b[37m\u001b[0m \u001b[1m40s\u001b[0m 908ms/step - accuracy: 0.9855 - loss: 0.0821 - val_accuracy: 0.7454 - val_loss: 0.9124\n",
            "Epoch 32/50\n",
            "\u001b[1m44/44\u001b[0m \u001b[32m━━━━━━━━━━━━━━━━━━━━\u001b[0m\u001b[37m\u001b[0m \u001b[1m40s\u001b[0m 907ms/step - accuracy: 0.9812 - loss: 0.0835 - val_accuracy: 0.9304 - val_loss: 0.2335\n",
            "Epoch 33/50\n",
            "\u001b[1m44/44\u001b[0m \u001b[32m━━━━━━━━━━━━━━━━━━━━\u001b[0m\u001b[37m\u001b[0m \u001b[1m40s\u001b[0m 902ms/step - accuracy: 0.9899 - loss: 0.0656 - val_accuracy: 0.9396 - val_loss: 0.1993\n",
            "Epoch 34/50\n",
            "\u001b[1m44/44\u001b[0m \u001b[32m━━━━━━━━━━━━━━━━━━━━\u001b[0m\u001b[37m\u001b[0m \u001b[1m40s\u001b[0m 903ms/step - accuracy: 0.9956 - loss: 0.0483 - val_accuracy: 0.8937 - val_loss: 0.3751\n",
            "Epoch 35/50\n",
            "\u001b[1m44/44\u001b[0m \u001b[32m━━━━━━━━━━━━━━━━━━━━\u001b[0m\u001b[37m\u001b[0m \u001b[1m39s\u001b[0m 880ms/step - accuracy: 0.9933 - loss: 0.0524 - val_accuracy: 0.8356 - val_loss: 0.5522\n",
            "Epoch 36/50\n",
            "\u001b[1m44/44\u001b[0m \u001b[32m━━━━━━━━━━━━━━━━━━━━\u001b[0m\u001b[37m\u001b[0m \u001b[1m40s\u001b[0m 908ms/step - accuracy: 0.9896 - loss: 0.0658 - val_accuracy: 0.7561 - val_loss: 0.8135\n",
            "Epoch 37/50\n",
            "\u001b[1m44/44\u001b[0m \u001b[32m━━━━━━━━━━━━━━━━━━━━\u001b[0m\u001b[37m\u001b[0m \u001b[1m40s\u001b[0m 892ms/step - accuracy: 0.9842 - loss: 0.0699 - val_accuracy: 0.5948 - val_loss: 1.4057\n",
            "Epoch 38/50\n",
            "\u001b[1m44/44\u001b[0m \u001b[32m━━━━━━━━━━━━━━━━━━━━\u001b[0m\u001b[37m\u001b[0m \u001b[1m41s\u001b[0m 935ms/step - accuracy: 0.9855 - loss: 0.0689 - val_accuracy: 0.8135 - val_loss: 0.6138\n",
            "Epoch 39/50\n",
            "\u001b[1m44/44\u001b[0m \u001b[32m━━━━━━━━━━━━━━━━━━━━\u001b[0m\u001b[37m\u001b[0m \u001b[1m41s\u001b[0m 933ms/step - accuracy: 0.9859 - loss: 0.0672 - val_accuracy: 0.4702 - val_loss: 1.9128\n",
            "Epoch 40/50\n",
            "\u001b[1m44/44\u001b[0m \u001b[32m━━━━━━━━━━━━━━━━━━━━\u001b[0m\u001b[37m\u001b[0m \u001b[1m41s\u001b[0m 918ms/step - accuracy: 0.9924 - loss: 0.0511 - val_accuracy: 0.5826 - val_loss: 1.6177\n",
            "Epoch 41/50\n",
            "\u001b[1m44/44\u001b[0m \u001b[32m━━━━━━━━━━━━━━━━━━━━\u001b[0m\u001b[37m\u001b[0m \u001b[1m40s\u001b[0m 910ms/step - accuracy: 0.9870 - loss: 0.0610 - val_accuracy: 0.8180 - val_loss: 0.5233\n",
            "Epoch 42/50\n",
            "\u001b[1m44/44\u001b[0m \u001b[32m━━━━━━━━━━━━━━━━━━━━\u001b[0m\u001b[37m\u001b[0m \u001b[1m41s\u001b[0m 924ms/step - accuracy: 0.9879 - loss: 0.0568 - val_accuracy: 0.8471 - val_loss: 0.5226\n",
            "Epoch 43/50\n",
            "\u001b[1m44/44\u001b[0m \u001b[32m━━━━━━━━━━━━━━━━━━━━\u001b[0m\u001b[37m\u001b[0m \u001b[1m39s\u001b[0m 886ms/step - accuracy: 0.9957 - loss: 0.0370 - val_accuracy: 0.8096 - val_loss: 0.6618\n",
            "Epoch 44/50\n",
            "\u001b[1m44/44\u001b[0m \u001b[32m━━━━━━━━━━━━━━━━━━━━\u001b[0m\u001b[37m\u001b[0m \u001b[1m40s\u001b[0m 894ms/step - accuracy: 0.9958 - loss: 0.0376 - val_accuracy: 0.7745 - val_loss: 0.6838\n",
            "Epoch 45/50\n",
            "\u001b[1m44/44\u001b[0m \u001b[32m━━━━━━━━━━━━━━━━━━━━\u001b[0m\u001b[37m\u001b[0m \u001b[1m39s\u001b[0m 880ms/step - accuracy: 0.9922 - loss: 0.0433 - val_accuracy: 0.8807 - val_loss: 0.4418\n",
            "Epoch 46/50\n",
            "\u001b[1m44/44\u001b[0m \u001b[32m━━━━━━━━━━━━━━━━━━━━\u001b[0m\u001b[37m\u001b[0m \u001b[1m39s\u001b[0m 878ms/step - accuracy: 0.9813 - loss: 0.0753 - val_accuracy: 0.7928 - val_loss: 0.6791\n",
            "Epoch 47/50\n",
            "\u001b[1m44/44\u001b[0m \u001b[32m━━━━━━━━━━━━━━━━━━━━\u001b[0m\u001b[37m\u001b[0m \u001b[1m39s\u001b[0m 872ms/step - accuracy: 0.9878 - loss: 0.0557 - val_accuracy: 0.8937 - val_loss: 0.3537\n",
            "Epoch 48/50\n",
            "\u001b[1m44/44\u001b[0m \u001b[32m━━━━━━━━━━━━━━━━━━━━\u001b[0m\u001b[37m\u001b[0m \u001b[1m40s\u001b[0m 900ms/step - accuracy: 0.9879 - loss: 0.0537 - val_accuracy: 0.8708 - val_loss: 0.4570\n",
            "Epoch 49/50\n",
            "\u001b[1m44/44\u001b[0m \u001b[32m━━━━━━━━━━━━━━━━━━━━\u001b[0m\u001b[37m\u001b[0m \u001b[1m39s\u001b[0m 881ms/step - accuracy: 0.9921 - loss: 0.0426 - val_accuracy: 0.8983 - val_loss: 0.3623\n",
            "Epoch 50/50\n",
            "\u001b[1m44/44\u001b[0m \u001b[32m━━━━━━━━━━━━━━━━━━━━\u001b[0m\u001b[37m\u001b[0m \u001b[1m39s\u001b[0m 878ms/step - accuracy: 0.9934 - loss: 0.0368 - val_accuracy: 0.9801 - val_loss: 0.0785\n"
          ]
        }
      ]
    },
    {
      "cell_type": "code",
      "source": [
        "#Learning Rate Annealer Alexnet\n",
        "from keras.callbacks import ReduceLROnPlateau\n",
        "lrr= ReduceLROnPlateau(   monitor='val_accuracy',   factor=.01,   patience=3,  min_lr=1e-5)\n",
        "\n",
        "history = resnet50_model.fit(\n",
        "  resnet50_train_ds,\n",
        "  validation_data=resnet50_val_ds,\n",
        "  epochs=epochs,\n",
        "  callbacks=[lrr],\n",
        "  verbose=1,\n",
        ")"
      ],
      "metadata": {
        "id": "0QhkF1cHtPAZ",
        "colab": {
          "base_uri": "https://localhost:8080/"
        },
        "outputId": "e135c8e3-d058-4459-b0bb-d7ecf19e0caa"
      },
      "execution_count": null,
      "outputs": [
        {
          "output_type": "stream",
          "name": "stdout",
          "text": [
            "Epoch 1/50\n",
            "\u001b[1m44/44\u001b[0m \u001b[32m━━━━━━━━━━━━━━━━━━━━\u001b[0m\u001b[37m\u001b[0m \u001b[1m39s\u001b[0m 887ms/step - accuracy: 0.9957 - loss: 0.0272 - val_accuracy: 0.9794 - val_loss: 0.0957 - learning_rate: 0.0010\n",
            "Epoch 2/50\n",
            "\u001b[1m44/44\u001b[0m \u001b[32m━━━━━━━━━━━━━━━━━━━━\u001b[0m\u001b[37m\u001b[0m \u001b[1m39s\u001b[0m 876ms/step - accuracy: 0.9980 - loss: 0.0233 - val_accuracy: 0.9809 - val_loss: 0.0716 - learning_rate: 0.0010\n",
            "Epoch 3/50\n",
            "\u001b[1m44/44\u001b[0m \u001b[32m━━━━━━━━━━━━━━━━━━━━\u001b[0m\u001b[37m\u001b[0m \u001b[1m39s\u001b[0m 879ms/step - accuracy: 0.9990 - loss: 0.0214 - val_accuracy: 0.9916 - val_loss: 0.0413 - learning_rate: 0.0010\n",
            "Epoch 4/50\n",
            "\u001b[1m44/44\u001b[0m \u001b[32m━━━━━━━━━━━━━━━━━━━━\u001b[0m\u001b[37m\u001b[0m \u001b[1m39s\u001b[0m 879ms/step - accuracy: 0.9975 - loss: 0.0227 - val_accuracy: 0.9878 - val_loss: 0.0508 - learning_rate: 0.0010\n",
            "Epoch 5/50\n",
            "\u001b[1m44/44\u001b[0m \u001b[32m━━━━━━━━━━━━━━━━━━━━\u001b[0m\u001b[37m\u001b[0m \u001b[1m40s\u001b[0m 897ms/step - accuracy: 0.9970 - loss: 0.0215 - val_accuracy: 0.9595 - val_loss: 0.1462 - learning_rate: 0.0010\n",
            "Epoch 6/50\n",
            "\u001b[1m44/44\u001b[0m \u001b[32m━━━━━━━━━━━━━━━━━━━━\u001b[0m\u001b[37m\u001b[0m \u001b[1m40s\u001b[0m 901ms/step - accuracy: 0.9938 - loss: 0.0320 - val_accuracy: 0.8853 - val_loss: 0.4162 - learning_rate: 0.0010\n",
            "Epoch 7/50\n",
            "\u001b[1m44/44\u001b[0m \u001b[32m━━━━━━━━━━━━━━━━━━━━\u001b[0m\u001b[37m\u001b[0m \u001b[1m40s\u001b[0m 912ms/step - accuracy: 0.9885 - loss: 0.0476 - val_accuracy: 0.9595 - val_loss: 0.1490 - learning_rate: 1.0000e-05\n",
            "Epoch 8/50\n",
            "\u001b[1m44/44\u001b[0m \u001b[32m━━━━━━━━━━━━━━━━━━━━\u001b[0m\u001b[37m\u001b[0m \u001b[1m39s\u001b[0m 882ms/step - accuracy: 0.9942 - loss: 0.0344 - val_accuracy: 0.9901 - val_loss: 0.0529 - learning_rate: 1.0000e-05\n",
            "Epoch 9/50\n",
            "\u001b[1m44/44\u001b[0m \u001b[32m━━━━━━━━━━━━━━━━━━━━\u001b[0m\u001b[37m\u001b[0m \u001b[1m40s\u001b[0m 903ms/step - accuracy: 0.9969 - loss: 0.0262 - val_accuracy: 0.9962 - val_loss: 0.0288 - learning_rate: 1.0000e-05\n",
            "Epoch 10/50\n",
            "\u001b[1m44/44\u001b[0m \u001b[32m━━━━━━━━━━━━━━━━━━━━\u001b[0m\u001b[37m\u001b[0m \u001b[1m39s\u001b[0m 885ms/step - accuracy: 0.9975 - loss: 0.0253 - val_accuracy: 0.9977 - val_loss: 0.0226 - learning_rate: 1.0000e-05\n",
            "Epoch 11/50\n",
            "\u001b[1m44/44\u001b[0m \u001b[32m━━━━━━━━━━━━━━━━━━━━\u001b[0m\u001b[37m\u001b[0m \u001b[1m39s\u001b[0m 887ms/step - accuracy: 0.9966 - loss: 0.0258 - val_accuracy: 0.9985 - val_loss: 0.0181 - learning_rate: 1.0000e-05\n",
            "Epoch 12/50\n",
            "\u001b[1m44/44\u001b[0m \u001b[32m━━━━━━━━━━━━━━━━━━━━\u001b[0m\u001b[37m\u001b[0m \u001b[1m40s\u001b[0m 904ms/step - accuracy: 0.9973 - loss: 0.0233 - val_accuracy: 0.9985 - val_loss: 0.0163 - learning_rate: 1.0000e-05\n",
            "Epoch 13/50\n",
            "\u001b[1m44/44\u001b[0m \u001b[32m━━━━━━━━━━━━━━━━━━━━\u001b[0m\u001b[37m\u001b[0m \u001b[1m39s\u001b[0m 886ms/step - accuracy: 0.9974 - loss: 0.0235 - val_accuracy: 0.9992 - val_loss: 0.0155 - learning_rate: 1.0000e-05\n",
            "Epoch 14/50\n",
            "\u001b[1m44/44\u001b[0m \u001b[32m━━━━━━━━━━━━━━━━━━━━\u001b[0m\u001b[37m\u001b[0m \u001b[1m39s\u001b[0m 890ms/step - accuracy: 0.9980 - loss: 0.0218 - val_accuracy: 0.9992 - val_loss: 0.0154 - learning_rate: 1.0000e-05\n",
            "Epoch 15/50\n",
            "\u001b[1m44/44\u001b[0m \u001b[32m━━━━━━━━━━━━━━━━━━━━\u001b[0m\u001b[37m\u001b[0m \u001b[1m39s\u001b[0m 887ms/step - accuracy: 0.9984 - loss: 0.0211 - val_accuracy: 0.9992 - val_loss: 0.0153 - learning_rate: 1.0000e-05\n",
            "Epoch 16/50\n",
            "\u001b[1m44/44\u001b[0m \u001b[32m━━━━━━━━━━━━━━━━━━━━\u001b[0m\u001b[37m\u001b[0m \u001b[1m40s\u001b[0m 900ms/step - accuracy: 0.9984 - loss: 0.0214 - val_accuracy: 0.9992 - val_loss: 0.0152 - learning_rate: 1.0000e-05\n",
            "Epoch 17/50\n",
            "\u001b[1m44/44\u001b[0m \u001b[32m━━━━━━━━━━━━━━━━━━━━\u001b[0m\u001b[37m\u001b[0m \u001b[1m40s\u001b[0m 909ms/step - accuracy: 0.9979 - loss: 0.0219 - val_accuracy: 0.9992 - val_loss: 0.0151 - learning_rate: 1.0000e-05\n",
            "Epoch 18/50\n",
            "\u001b[1m44/44\u001b[0m \u001b[32m━━━━━━━━━━━━━━━━━━━━\u001b[0m\u001b[37m\u001b[0m \u001b[1m39s\u001b[0m 891ms/step - accuracy: 0.9989 - loss: 0.0197 - val_accuracy: 0.9992 - val_loss: 0.0150 - learning_rate: 1.0000e-05\n",
            "Epoch 19/50\n",
            "\u001b[1m44/44\u001b[0m \u001b[32m━━━━━━━━━━━━━━━━━━━━\u001b[0m\u001b[37m\u001b[0m \u001b[1m40s\u001b[0m 905ms/step - accuracy: 0.9991 - loss: 0.0193 - val_accuracy: 0.9992 - val_loss: 0.0149 - learning_rate: 1.0000e-05\n",
            "Epoch 20/50\n",
            "\u001b[1m44/44\u001b[0m \u001b[32m━━━━━━━━━━━━━━━━━━━━\u001b[0m\u001b[37m\u001b[0m \u001b[1m41s\u001b[0m 916ms/step - accuracy: 0.9983 - loss: 0.0217 - val_accuracy: 0.9992 - val_loss: 0.0149 - learning_rate: 1.0000e-05\n",
            "Epoch 21/50\n",
            "\u001b[1m44/44\u001b[0m \u001b[32m━━━━━━━━━━━━━━━━━━━━\u001b[0m\u001b[37m\u001b[0m \u001b[1m41s\u001b[0m 915ms/step - accuracy: 0.9991 - loss: 0.0196 - val_accuracy: 0.9992 - val_loss: 0.0149 - learning_rate: 1.0000e-05\n",
            "Epoch 22/50\n",
            "\u001b[1m44/44\u001b[0m \u001b[32m━━━━━━━━━━━━━━━━━━━━\u001b[0m\u001b[37m\u001b[0m \u001b[1m40s\u001b[0m 895ms/step - accuracy: 0.9988 - loss: 0.0196 - val_accuracy: 0.9992 - val_loss: 0.0149 - learning_rate: 1.0000e-05\n",
            "Epoch 23/50\n",
            "\u001b[1m44/44\u001b[0m \u001b[32m━━━━━━━━━━━━━━━━━━━━\u001b[0m\u001b[37m\u001b[0m \u001b[1m40s\u001b[0m 903ms/step - accuracy: 0.9988 - loss: 0.0209 - val_accuracy: 0.9992 - val_loss: 0.0148 - learning_rate: 1.0000e-05\n",
            "Epoch 24/50\n",
            "\u001b[1m44/44\u001b[0m \u001b[32m━━━━━━━━━━━━━━━━━━━━\u001b[0m\u001b[37m\u001b[0m \u001b[1m40s\u001b[0m 904ms/step - accuracy: 0.9992 - loss: 0.0193 - val_accuracy: 0.9992 - val_loss: 0.0148 - learning_rate: 1.0000e-05\n",
            "Epoch 25/50\n",
            "\u001b[1m44/44\u001b[0m \u001b[32m━━━━━━━━━━━━━━━━━━━━\u001b[0m\u001b[37m\u001b[0m \u001b[1m40s\u001b[0m 893ms/step - accuracy: 0.9982 - loss: 0.0197 - val_accuracy: 0.9992 - val_loss: 0.0147 - learning_rate: 1.0000e-05\n",
            "Epoch 26/50\n",
            "\u001b[1m44/44\u001b[0m \u001b[32m━━━━━━━━━━━━━━━━━━━━\u001b[0m\u001b[37m\u001b[0m \u001b[1m40s\u001b[0m 907ms/step - accuracy: 0.9990 - loss: 0.0201 - val_accuracy: 0.9992 - val_loss: 0.0147 - learning_rate: 1.0000e-05\n",
            "Epoch 27/50\n",
            "\u001b[1m44/44\u001b[0m \u001b[32m━━━━━━━━━━━━━━━━━━━━\u001b[0m\u001b[37m\u001b[0m \u001b[1m40s\u001b[0m 902ms/step - accuracy: 0.9996 - loss: 0.0190 - val_accuracy: 0.9992 - val_loss: 0.0147 - learning_rate: 1.0000e-05\n",
            "Epoch 28/50\n",
            "\u001b[1m44/44\u001b[0m \u001b[32m━━━━━━━━━━━━━━━━━━━━\u001b[0m\u001b[37m\u001b[0m \u001b[1m39s\u001b[0m 886ms/step - accuracy: 0.9990 - loss: 0.0193 - val_accuracy: 0.9992 - val_loss: 0.0147 - learning_rate: 1.0000e-05\n",
            "Epoch 29/50\n",
            "\u001b[1m44/44\u001b[0m \u001b[32m━━━━━━━━━━━━━━━━━━━━\u001b[0m\u001b[37m\u001b[0m \u001b[1m40s\u001b[0m 899ms/step - accuracy: 0.9986 - loss: 0.0197 - val_accuracy: 0.9992 - val_loss: 0.0147 - learning_rate: 1.0000e-05\n",
            "Epoch 30/50\n",
            "\u001b[1m44/44\u001b[0m \u001b[32m━━━━━━━━━━━━━━━━━━━━\u001b[0m\u001b[37m\u001b[0m \u001b[1m39s\u001b[0m 873ms/step - accuracy: 0.9989 - loss: 0.0193 - val_accuracy: 0.9992 - val_loss: 0.0146 - learning_rate: 1.0000e-05\n",
            "Epoch 31/50\n",
            "\u001b[1m44/44\u001b[0m \u001b[32m━━━━━━━━━━━━━━━━━━━━\u001b[0m\u001b[37m\u001b[0m \u001b[1m39s\u001b[0m 875ms/step - accuracy: 0.9988 - loss: 0.0196 - val_accuracy: 0.9992 - val_loss: 0.0146 - learning_rate: 1.0000e-05\n",
            "Epoch 32/50\n",
            "\u001b[1m44/44\u001b[0m \u001b[32m━━━━━━━━━━━━━━━━━━━━\u001b[0m\u001b[37m\u001b[0m \u001b[1m40s\u001b[0m 907ms/step - accuracy: 0.9986 - loss: 0.0192 - val_accuracy: 0.9992 - val_loss: 0.0145 - learning_rate: 1.0000e-05\n",
            "Epoch 33/50\n",
            "\u001b[1m44/44\u001b[0m \u001b[32m━━━━━━━━━━━━━━━━━━━━\u001b[0m\u001b[37m\u001b[0m \u001b[1m40s\u001b[0m 907ms/step - accuracy: 0.9991 - loss: 0.0190 - val_accuracy: 0.9992 - val_loss: 0.0144 - learning_rate: 1.0000e-05\n",
            "Epoch 34/50\n",
            "\u001b[1m44/44\u001b[0m \u001b[32m━━━━━━━━━━━━━━━━━━━━\u001b[0m\u001b[37m\u001b[0m \u001b[1m40s\u001b[0m 896ms/step - accuracy: 0.9977 - loss: 0.0207 - val_accuracy: 0.9992 - val_loss: 0.0144 - learning_rate: 1.0000e-05\n",
            "Epoch 35/50\n",
            "\u001b[1m44/44\u001b[0m \u001b[32m━━━━━━━━━━━━━━━━━━━━\u001b[0m\u001b[37m\u001b[0m \u001b[1m40s\u001b[0m 906ms/step - accuracy: 0.9974 - loss: 0.0213 - val_accuracy: 0.9992 - val_loss: 0.0145 - learning_rate: 1.0000e-05\n",
            "Epoch 36/50\n",
            "\u001b[1m44/44\u001b[0m \u001b[32m━━━━━━━━━━━━━━━━━━━━\u001b[0m\u001b[37m\u001b[0m \u001b[1m39s\u001b[0m 890ms/step - accuracy: 0.9986 - loss: 0.0193 - val_accuracy: 0.9992 - val_loss: 0.0145 - learning_rate: 1.0000e-05\n",
            "Epoch 37/50\n",
            "\u001b[1m44/44\u001b[0m \u001b[32m━━━━━━━━━━━━━━━━━━━━\u001b[0m\u001b[37m\u001b[0m \u001b[1m39s\u001b[0m 885ms/step - accuracy: 0.9985 - loss: 0.0190 - val_accuracy: 0.9992 - val_loss: 0.0145 - learning_rate: 1.0000e-05\n",
            "Epoch 38/50\n",
            "\u001b[1m44/44\u001b[0m \u001b[32m━━━━━━━━━━━━━━━━━━━━\u001b[0m\u001b[37m\u001b[0m \u001b[1m39s\u001b[0m 886ms/step - accuracy: 0.9983 - loss: 0.0189 - val_accuracy: 0.9992 - val_loss: 0.0145 - learning_rate: 1.0000e-05\n",
            "Epoch 39/50\n",
            "\u001b[1m44/44\u001b[0m \u001b[32m━━━━━━━━━━━━━━━━━━━━\u001b[0m\u001b[37m\u001b[0m \u001b[1m39s\u001b[0m 890ms/step - accuracy: 0.9989 - loss: 0.0185 - val_accuracy: 0.9992 - val_loss: 0.0145 - learning_rate: 1.0000e-05\n",
            "Epoch 40/50\n",
            "\u001b[1m44/44\u001b[0m \u001b[32m━━━━━━━━━━━━━━━━━━━━\u001b[0m\u001b[37m\u001b[0m \u001b[1m40s\u001b[0m 906ms/step - accuracy: 0.9987 - loss: 0.0189 - val_accuracy: 0.9992 - val_loss: 0.0145 - learning_rate: 1.0000e-05\n",
            "Epoch 41/50\n",
            "\u001b[1m44/44\u001b[0m \u001b[32m━━━━━━━━━━━━━━━━━━━━\u001b[0m\u001b[37m\u001b[0m \u001b[1m40s\u001b[0m 889ms/step - accuracy: 0.9987 - loss: 0.0189 - val_accuracy: 0.9992 - val_loss: 0.0145 - learning_rate: 1.0000e-05\n",
            "Epoch 42/50\n",
            "\u001b[1m44/44\u001b[0m \u001b[32m━━━━━━━━━━━━━━━━━━━━\u001b[0m\u001b[37m\u001b[0m \u001b[1m38s\u001b[0m 855ms/step - accuracy: 0.9984 - loss: 0.0181 - val_accuracy: 0.9992 - val_loss: 0.0145 - learning_rate: 1.0000e-05\n",
            "Epoch 43/50\n",
            "\u001b[1m44/44\u001b[0m \u001b[32m━━━━━━━━━━━━━━━━━━━━\u001b[0m\u001b[37m\u001b[0m \u001b[1m39s\u001b[0m 873ms/step - accuracy: 0.9985 - loss: 0.0186 - val_accuracy: 0.9992 - val_loss: 0.0145 - learning_rate: 1.0000e-05\n",
            "Epoch 44/50\n",
            "\u001b[1m44/44\u001b[0m \u001b[32m━━━━━━━━━━━━━━━━━━━━\u001b[0m\u001b[37m\u001b[0m \u001b[1m40s\u001b[0m 897ms/step - accuracy: 0.9988 - loss: 0.0186 - val_accuracy: 0.9992 - val_loss: 0.0144 - learning_rate: 1.0000e-05\n",
            "Epoch 45/50\n",
            "\u001b[1m44/44\u001b[0m \u001b[32m━━━━━━━━━━━━━━━━━━━━\u001b[0m\u001b[37m\u001b[0m \u001b[1m40s\u001b[0m 903ms/step - accuracy: 0.9989 - loss: 0.0169 - val_accuracy: 0.9992 - val_loss: 0.0144 - learning_rate: 1.0000e-05\n",
            "Epoch 46/50\n",
            "\u001b[1m44/44\u001b[0m \u001b[32m━━━━━━━━━━━━━━━━━━━━\u001b[0m\u001b[37m\u001b[0m \u001b[1m39s\u001b[0m 879ms/step - accuracy: 0.9987 - loss: 0.0187 - val_accuracy: 0.9992 - val_loss: 0.0144 - learning_rate: 1.0000e-05\n",
            "Epoch 47/50\n",
            "\u001b[1m44/44\u001b[0m \u001b[32m━━━━━━━━━━━━━━━━━━━━\u001b[0m\u001b[37m\u001b[0m \u001b[1m38s\u001b[0m 859ms/step - accuracy: 0.9989 - loss: 0.0176 - val_accuracy: 0.9992 - val_loss: 0.0144 - learning_rate: 1.0000e-05\n",
            "Epoch 48/50\n",
            "\u001b[1m44/44\u001b[0m \u001b[32m━━━━━━━━━━━━━━━━━━━━\u001b[0m\u001b[37m\u001b[0m \u001b[1m39s\u001b[0m 870ms/step - accuracy: 0.9989 - loss: 0.0191 - val_accuracy: 0.9992 - val_loss: 0.0143 - learning_rate: 1.0000e-05\n",
            "Epoch 49/50\n",
            "\u001b[1m44/44\u001b[0m \u001b[32m━━━━━━━━━━━━━━━━━━━━\u001b[0m\u001b[37m\u001b[0m \u001b[1m39s\u001b[0m 866ms/step - accuracy: 0.9988 - loss: 0.0184 - val_accuracy: 0.9992 - val_loss: 0.0143 - learning_rate: 1.0000e-05\n",
            "Epoch 50/50\n",
            "\u001b[1m44/44\u001b[0m \u001b[32m━━━━━━━━━━━━━━━━━━━━\u001b[0m\u001b[37m\u001b[0m \u001b[1m40s\u001b[0m 895ms/step - accuracy: 0.9992 - loss: 0.0184 - val_accuracy: 0.9992 - val_loss: 0.0143 - learning_rate: 1.0000e-05\n"
          ]
        }
      ]
    },
    {
      "cell_type": "code",
      "source": [
        "resnet50_loss, resnet50_acc = resnet50_model.evaluate(resnet50_test_ds)"
      ],
      "metadata": {
        "id": "rYlWdmwt6fnq",
        "colab": {
          "base_uri": "https://localhost:8080/"
        },
        "outputId": "52e20e11-7bfb-4c2a-e8c5-331783739de3"
      },
      "execution_count": null,
      "outputs": [
        {
          "output_type": "stream",
          "name": "stdout",
          "text": [
            "\u001b[1m44/44\u001b[0m \u001b[32m━━━━━━━━━━━━━━━━━━━━\u001b[0m\u001b[37m\u001b[0m \u001b[1m33s\u001b[0m 755ms/step - accuracy: 0.9986 - loss: 0.0162\n"
          ]
        }
      ]
    },
    {
      "cell_type": "code",
      "source": [
        "resnet50_y_pred=np.argmax(resnet50_model.predict(resnet50_test_img), axis=-1)\n",
        "resnet50_con_mat = tf.math.confusion_matrix(labels=resnet50_test_labels, predictions=resnet50_y_pred).numpy()\n",
        "\n",
        "resnet50_con_mat_norm = np.around(resnet50_con_mat.astype('float') / resnet50_con_mat.sum(axis=1)[:, np.newaxis], decimals=2)\n",
        "\n",
        "resnet50_con_mat_df = pd.DataFrame(resnet50_con_mat_norm,\n",
        "                     index = class_names,\n",
        "                     columns = class_names)\n",
        "\n",
        "figure = plt.figure(figsize=(10, 10))\n",
        "sns.heatmap(resnet50_con_mat_df, annot=True,cmap=plt.cm.Blues)\n",
        "plt.tight_layout()\n",
        "plt.ylabel('True label')\n",
        "plt.xlabel('Predicted label')\n",
        "plt.show()"
      ],
      "metadata": {
        "id": "qWeAYt7D7VBY",
        "colab": {
          "base_uri": "https://localhost:8080/",
          "height": 1000
        },
        "outputId": "ffb4b054-d1ef-4a47-a2de-9883d40b2a23"
      },
      "execution_count": null,
      "outputs": [
        {
          "output_type": "stream",
          "name": "stdout",
          "text": [
            "\u001b[1m5/5\u001b[0m \u001b[32m━━━━━━━━━━━━━━━━━━━━\u001b[0m\u001b[37m\u001b[0m \u001b[1m8s\u001b[0m 1s/step\n"
          ]
        },
        {
          "output_type": "display_data",
          "data": {
            "text/plain": [
              "<Figure size 1000x1000 with 2 Axes>"
            ],
            "image/png": "[encoded data removed]"
          },
          "metadata": {}
        }
      ]
    },
    {
      "cell_type": "code",
      "source": [
        "resnet50_y_pred = resnet50_model.predict(resnet50_test_ds)\n",
        "resnet50_predicted_categories = np.argmax(resnet50_y_pred, axis = 1)\n",
        "\n",
        "resnet50_true_categories = tf.concat([y for x, y in resnet50_test_ds], axis = 0).numpy() # convert to np array\n",
        "\n",
        "print(classification_report(resnet50_true_categories, resnet50_predicted_categories))"
      ],
      "metadata": {
        "id": "AtZXucx57cXJ",
        "colab": {
          "base_uri": "https://localhost:8080/"
        },
        "outputId": "31ff2c21-a2d2-4c83-f14c-fbb33946ac9c"
      },
      "execution_count": null,
      "outputs": [
        {
          "output_type": "stream",
          "name": "stdout",
          "text": [
            "\u001b[1m44/44\u001b[0m \u001b[32m━━━━━━━━━━━━━━━━━━━━\u001b[0m\u001b[37m\u001b[0m \u001b[1m36s\u001b[0m 725ms/step\n",
            "              precision    recall  f1-score   support\n",
            "\n",
            "           0       0.19      0.19      0.19      1298\n",
            "           1       0.20      0.20      0.20      1315\n",
            "           2       0.19      0.19      0.19      1325\n",
            "           3       0.21      0.21      0.21      1305\n",
            "           4       0.18      0.18      0.18      1301\n",
            "\n",
            "    accuracy                           0.19      6544\n",
            "   macro avg       0.19      0.19      0.19      6544\n",
            "weighted avg       0.19      0.19      0.19      6544\n",
            "\n"
          ]
        }
      ]
    }
  ]
}