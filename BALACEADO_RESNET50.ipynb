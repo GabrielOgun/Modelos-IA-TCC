{
  "nbformat": 4,
  "nbformat_minor": 0,
  "metadata": {
    "colab": {
      "provenance": [],
      "machine_shape": "hm",
      "gpuType": "T4"
    },
    "kernelspec": {
      "name": "python3",
      "display_name": "Python 3"
    },
    "language_info": {
      "name": "python"
    },
    "accelerator": "GPU"
  },
  "cells": [
    {
      "cell_type": "markdown",
      "source": [
        "importando drive"
      ],
      "metadata": {
        "id": "sS7yrDxFHVbn"
      }
    },
    {
      "cell_type": "code",
      "source": [
        "from pydrive2.auth import GoogleAuth\n",
        "from pydrive2.drive import GoogleDrive\n",
        "from google.colab import auth\n",
        "from oauth2client.client import GoogleCredentials\n",
        "from google.colab import drive\n",
        "drive.mount('/content/drive')"
      ],
      "metadata": {
        "colab": {
          "base_uri": "https://localhost:8080/"
        },
        "id": "UZ6snv1SdWAq",
        "outputId": "3fbc1374-c1b6-41e0-faaa-ff0ad4892161"
      },
      "execution_count": null,
      "outputs": [
        {
          "output_type": "stream",
          "name": "stdout",
          "text": [
            "Mounted at /content/drive\n"
          ]
        }
      ]
    },
    {
      "cell_type": "code",
      "source": [
        "auth.authenticate_user()\n",
        "gauth = GoogleAuth()\n",
        "gauth.credentials = GoogleCredentials.get_application_default()\n",
        "drive = GoogleDrive(gauth)"
      ],
      "metadata": {
        "id": "PHVWAKTSGWFu"
      },
      "execution_count": null,
      "outputs": []
    },
    {
      "cell_type": "code",
      "source": [
        "import matplotlib.pyplot as plt\n",
        "import numpy as np\n",
        "import os\n",
        "import PIL\n",
        "import tensorflow as tf\n",
        "import pandas as pd\n",
        "import seaborn as sns\n",
        "import pathlib\n",
        "\n",
        "from tensorflow import keras\n",
        "from tensorflow.keras import layers\n",
        "from tensorflow.keras.models import Sequential\n",
        "from tensorflow.keras.layers import Conv2D, MaxPool2D # Updated import statements\n",
        "from tensorflow.keras.preprocessing.image import ImageDataGenerator\n",
        "from sklearn.metrics import classification_report, confusion_matrix\n",
        "from keras.callbacks import ModelCheckpoint, ReduceLROnPlateau\n",
        "from tensorflow.keras import regularizers\n",
        "from keras import metrics"
      ],
      "metadata": {
        "id": "-KLPePQyD1kJ"
      },
      "execution_count": null,
      "outputs": []
    },
    {
      "cell_type": "code",
      "source": [
        "data_dir = pathlib.Path(\"/content/drive/MyDrive/TCC_DOCS/dataset_balanceado\")\n",
        "print(data_dir)"
      ],
      "metadata": {
        "colab": {
          "base_uri": "https://localhost:8080/"
        },
        "id": "5XqugofvIsbk",
        "outputId": "5575ee6e-4619-48ef-f191-8c858f02473a"
      },
      "execution_count": null,
      "outputs": [
        {
          "output_type": "stream",
          "name": "stdout",
          "text": [
            "/content/drive/MyDrive/TCC_DOCS/dataset_balanceado\n"
          ]
        }
      ]
    },
    {
      "cell_type": "code",
      "source": [
        "#resnet50"
      ],
      "metadata": {
        "id": "bW_FZu_aJXss"
      },
      "execution_count": null,
      "outputs": []
    },
    {
      "cell_type": "code",
      "source": [
        "resnet50_img_size = 100\n",
        "resnet50_batch_size = 150\n",
        "\n",
        "resnet50_train_ds = tf.keras.preprocessing.image_dataset_from_directory(\n",
        "    data_dir,\n",
        "    seed=123,\n",
        "    image_size=(resnet50_img_size, resnet50_img_size),\n",
        "    batch_size=resnet50_batch_size)\n",
        "\n",
        "resnet50_val_ds = tf.keras.preprocessing.image_dataset_from_directory(\n",
        "    data_dir,\n",
        "    validation_split=0.2,\n",
        "    subset=\"validation\",\n",
        "    seed=123,\n",
        "    image_size=(resnet50_img_size,resnet50_img_size),\n",
        "    batch_size=resnet50_batch_size)\n",
        "\n",
        "resnet50_test_ds = tf.keras.preprocessing.image_dataset_from_directory(\n",
        "    data_dir,\n",
        "    seed=123,\n",
        "    image_size=(resnet50_img_size,resnet50_img_size),\n",
        "    batch_size=resnet50_batch_size)\n",
        "\n",
        "class_names = resnet50_test_ds.class_names"
      ],
      "metadata": {
        "colab": {
          "base_uri": "https://localhost:8080/"
        },
        "id": "Lltwd-11JbRz",
        "outputId": "4122810a-b75a-4a10-ddb7-a2f34b6388f4"
      },
      "execution_count": null,
      "outputs": [
        {
          "output_type": "stream",
          "name": "stdout",
          "text": [
            "Found 6544 files belonging to 5 classes.\n",
            "Found 6544 files belonging to 5 classes.\n",
            "Using 1308 files for validation.\n",
            "Found 6544 files belonging to 5 classes.\n"
          ]
        }
      ]
    },
    {
      "cell_type": "code",
      "source": [
        "for image_batch, labels_batch in resnet50_train_ds:\n",
        "  resnet50_train_img = image_batch\n",
        "  resnet50_train_labels = labels_batch\n",
        "  break\n",
        "for image_batch, labels_batch in resnet50_val_ds:\n",
        "  resnet50_val_img = image_batch\n",
        "  resnet50_val_labels = labels_batch\n",
        "  break\n",
        "for image_batch, labels_batch in resnet50_test_ds:\n",
        "  resnet50_test_img = image_batch\n",
        "  resnet50_test_labels = labels_batch\n",
        "  break"
      ],
      "metadata": {
        "id": "hg9bVF4mLnLY"
      },
      "execution_count": null,
      "outputs": []
    },
    {
      "cell_type": "code",
      "source": [
        "AUTOTUNE = tf.data.AUTOTUNE\n",
        "\n",
        "resnet50_train_ds = resnet50_train_ds.cache().shuffle(1000).prefetch(buffer_size=AUTOTUNE)\n",
        "resnet50_val_ds = resnet50_val_ds.cache().prefetch(buffer_size=AUTOTUNE)\n",
        "resnet50_test_ds = resnet50_test_ds.cache().prefetch(buffer_size=AUTOTUNE)"
      ],
      "metadata": {
        "id": "3ERpblfqMsiC"
      },
      "execution_count": null,
      "outputs": []
    },
    {
      "cell_type": "code",
      "source": [
        "data_augmentation = tf.keras.Sequential(\n",
        "    [\n",
        "        layers.RandomFlip(\"horizontal\", input_shape=(resnet50_img_size, resnet50_img_size, 3)),\n",
        "        layers.RandomRotation(0.2),\n",
        "        layers.RandomZoom(0.2),\n",
        "    ]\n",
        ")"
      ],
      "metadata": {
        "id": "ohdIoAOeM1_M",
        "colab": {
          "base_uri": "https://localhost:8080/"
        },
        "outputId": "cf77c57a-6bab-432d-84f1-2cbe67256b39"
      },
      "execution_count": null,
      "outputs": [
        {
          "output_type": "stream",
          "name": "stderr",
          "text": [
            "/usr/local/lib/python3.10/dist-packages/keras/src/layers/preprocessing/tf_data_layer.py:19: UserWarning: Do not pass an `input_shape`/`input_dim` argument to a layer. When using Sequential models, prefer using an `Input(shape)` object as the first layer in the model instead.\n",
            "  super().__init__(**kwargs)\n"
          ]
        }
      ]
    },
    {
      "cell_type": "code",
      "source": [
        "#Restnet50\n",
        "img_shape = (resnet50_img_size,resnet50_img_size,3)\n",
        "Resnet50_model = tf.keras.applications.ResNet50(\n",
        "    include_top=False,\n",
        "    weights=\"imagenet\",\n",
        "    input_shape=img_shape,\n",
        "    pooling='avg',\n",
        "    classes=5,\n",
        ")\n",
        "prediction_layer = tf.keras.layers.Dense(5,activation='relu',bias_regularizer=regularizers.l2(1e-4))"
      ],
      "metadata": {
        "colab": {
          "base_uri": "https://localhost:8080/"
        },
        "id": "zbCa5GuEM5FQ",
        "outputId": "8707832b-4c94-4823-89c5-3ac191bac108"
      },
      "execution_count": null,
      "outputs": [
        {
          "output_type": "stream",
          "name": "stdout",
          "text": [
            "Downloading data from https://storage.googleapis.com/tensorflow/keras-applications/resnet/resnet50_weights_tf_dim_ordering_tf_kernels_notop.h5\n",
            "\u001b[1m94765736/94765736\u001b[0m \u001b[32m━━━━━━━━━━━━━━━━━━━━\u001b[0m\u001b[37m\u001b[0m \u001b[1m0s\u001b[0m 0us/step\n"
          ]
        }
      ]
    },
    {
      "cell_type": "code",
      "source": [
        "num_classes = 5\n",
        "resnet50_model = Sequential([\n",
        "    data_augmentation,\n",
        "    Resnet50_model,\n",
        "    prediction_layer,\n",
        "    layers.Flatten(),\n",
        "    layers.BatchNormalization(),\n",
        "    layers.Activation('softmax'),\n",
        "])"
      ],
      "metadata": {
        "id": "wpEUrOHTM-dz"
      },
      "execution_count": null,
      "outputs": []
    },
    {
      "cell_type": "code",
      "source": [
        "resnet50_model.compile(optimizer='adam',loss=tf.keras.losses.SparseCategoricalCrossentropy(from_logits=True),metrics=['accuracy'])"
      ],
      "metadata": {
        "id": "kEH0skElNBEY"
      },
      "execution_count": null,
      "outputs": []
    },
    {
      "cell_type": "code",
      "source": [
        "epochs = 50\n",
        "history = resnet50_model.fit(\n",
        "  resnet50_train_ds,\n",
        "  validation_data=resnet50_val_ds,\n",
        "  epochs=epochs\n",
        ")"
      ],
      "metadata": {
        "colab": {
          "base_uri": "https://localhost:8080/"
        },
        "id": "IzIbFTbpNDfg",
        "outputId": "3f79ffb6-0122-4409-845c-b1ee64f32372"
      },
      "execution_count": null,
      "outputs": [
        {
          "output_type": "stream",
          "name": "stdout",
          "text": [
            "Epoch 1/50\n"
          ]
        },
        {
          "output_type": "stream",
          "name": "stderr",
          "text": [
            "/usr/local/lib/python3.10/dist-packages/keras/src/backend/tensorflow/nn.py:609: UserWarning: \"`sparse_categorical_crossentropy` received `from_logits=True`, but the `output` argument was produced by a Softmax activation and thus does not represent logits. Was this intended?\n",
            "  output, from_logits = _get_logits(\n"
          ]
        },
        {
          "output_type": "stream",
          "name": "stdout",
          "text": [
            "\u001b[1m44/44\u001b[0m \u001b[32m━━━━━━━━━━━━━━━━━━━━\u001b[0m\u001b[37m\u001b[0m \u001b[1m256s\u001b[0m 854ms/step - accuracy: 0.5154 - loss: 1.2453 - val_accuracy: 0.2034 - val_loss: 1.6096\n",
            "Epoch 2/50\n",
            "\u001b[1m44/44\u001b[0m \u001b[32m━━━━━━━━━━━━━━━━━━━━\u001b[0m\u001b[37m\u001b[0m \u001b[1m25s\u001b[0m 562ms/step - accuracy: 0.7105 - loss: 0.8274 - val_accuracy: 0.2561 - val_loss: 1.6440\n",
            "Epoch 3/50\n",
            "\u001b[1m44/44\u001b[0m \u001b[32m━━━━━━━━━━━━━━━━━━━━\u001b[0m\u001b[37m\u001b[0m \u001b[1m41s\u001b[0m 565ms/step - accuracy: 0.7437 - loss: 0.7547 - val_accuracy: 0.5046 - val_loss: 1.3913\n",
            "Epoch 4/50\n",
            "\u001b[1m44/44\u001b[0m \u001b[32m━━━━━━━━━━━━━━━━━━━━\u001b[0m\u001b[37m\u001b[0m \u001b[1m25s\u001b[0m 570ms/step - accuracy: 0.7717 - loss: 0.6867 - val_accuracy: 0.4610 - val_loss: 1.4104\n",
            "Epoch 5/50\n",
            "\u001b[1m44/44\u001b[0m \u001b[32m━━━━━━━━━━━━━━━━━━━━\u001b[0m\u001b[37m\u001b[0m \u001b[1m25s\u001b[0m 576ms/step - accuracy: 0.7786 - loss: 0.6618 - val_accuracy: 0.6346 - val_loss: 1.0180\n",
            "Epoch 6/50\n",
            "\u001b[1m44/44\u001b[0m \u001b[32m━━━━━━━━━━━━━━━━━━━━\u001b[0m\u001b[37m\u001b[0m \u001b[1m25s\u001b[0m 579ms/step - accuracy: 0.7981 - loss: 0.6174 - val_accuracy: 0.6300 - val_loss: 1.0053\n",
            "Epoch 7/50\n",
            "\u001b[1m44/44\u001b[0m \u001b[32m━━━━━━━━━━━━━━━━━━━━\u001b[0m\u001b[37m\u001b[0m \u001b[1m26s\u001b[0m 582ms/step - accuracy: 0.7971 - loss: 0.5993 - val_accuracy: 0.6812 - val_loss: 0.9415\n",
            "Epoch 8/50\n",
            "\u001b[1m44/44\u001b[0m \u001b[32m━━━━━━━━━━━━━━━━━━━━\u001b[0m\u001b[37m\u001b[0m \u001b[1m26s\u001b[0m 585ms/step - accuracy: 0.8079 - loss: 0.5773 - val_accuracy: 0.5787 - val_loss: 1.2054\n",
            "Epoch 9/50\n",
            "\u001b[1m44/44\u001b[0m \u001b[32m━━━━━━━━━━━━━━━━━━━━\u001b[0m\u001b[37m\u001b[0m \u001b[1m26s\u001b[0m 587ms/step - accuracy: 0.8285 - loss: 0.5337 - val_accuracy: 0.5765 - val_loss: 1.2922\n",
            "Epoch 10/50\n",
            "\u001b[1m44/44\u001b[0m \u001b[32m━━━━━━━━━━━━━━━━━━━━\u001b[0m\u001b[37m\u001b[0m \u001b[1m26s\u001b[0m 587ms/step - accuracy: 0.8294 - loss: 0.5297 - val_accuracy: 0.5459 - val_loss: 1.2401\n",
            "Epoch 11/50\n",
            "\u001b[1m44/44\u001b[0m \u001b[32m━━━━━━━━━━━━━━━━━━━━\u001b[0m\u001b[37m\u001b[0m \u001b[1m26s\u001b[0m 589ms/step - accuracy: 0.8434 - loss: 0.4951 - val_accuracy: 0.4946 - val_loss: 1.4745\n",
            "Epoch 12/50\n",
            "\u001b[1m44/44\u001b[0m \u001b[32m━━━━━━━━━━━━━━━━━━━━\u001b[0m\u001b[37m\u001b[0m \u001b[1m26s\u001b[0m 591ms/step - accuracy: 0.8524 - loss: 0.4556 - val_accuracy: 0.6927 - val_loss: 0.8405\n",
            "Epoch 13/50\n",
            "\u001b[1m44/44\u001b[0m \u001b[32m━━━━━━━━━━━━━━━━━━━━\u001b[0m\u001b[37m\u001b[0m \u001b[1m26s\u001b[0m 592ms/step - accuracy: 0.8523 - loss: 0.4595 - val_accuracy: 0.6751 - val_loss: 0.9055\n",
            "Epoch 14/50\n",
            "\u001b[1m44/44\u001b[0m \u001b[32m━━━━━━━━━━━━━━━━━━━━\u001b[0m\u001b[37m\u001b[0m \u001b[1m26s\u001b[0m 591ms/step - accuracy: 0.8611 - loss: 0.4263 - val_accuracy: 0.7171 - val_loss: 0.8125\n",
            "Epoch 15/50\n",
            "\u001b[1m44/44\u001b[0m \u001b[32m━━━━━━━━━━━━━━━━━━━━\u001b[0m\u001b[37m\u001b[0m \u001b[1m26s\u001b[0m 593ms/step - accuracy: 0.8699 - loss: 0.4133 - val_accuracy: 0.7378 - val_loss: 0.7405\n",
            "Epoch 16/50\n",
            "\u001b[1m44/44\u001b[0m \u001b[32m━━━━━━━━━━━━━━━━━━━━\u001b[0m\u001b[37m\u001b[0m \u001b[1m26s\u001b[0m 594ms/step - accuracy: 0.8739 - loss: 0.3998 - val_accuracy: 0.7072 - val_loss: 0.8114\n",
            "Epoch 17/50\n",
            "\u001b[1m44/44\u001b[0m \u001b[32m━━━━━━━━━━━━━━━━━━━━\u001b[0m\u001b[37m\u001b[0m \u001b[1m26s\u001b[0m 594ms/step - accuracy: 0.8885 - loss: 0.3636 - val_accuracy: 0.5222 - val_loss: 1.3188\n",
            "Epoch 18/50\n",
            "\u001b[1m44/44\u001b[0m \u001b[32m━━━━━━━━━━━━━━━━━━━━\u001b[0m\u001b[37m\u001b[0m \u001b[1m26s\u001b[0m 594ms/step - accuracy: 0.8944 - loss: 0.3534 - val_accuracy: 0.5933 - val_loss: 1.1690\n",
            "Epoch 19/50\n",
            "\u001b[1m44/44\u001b[0m \u001b[32m━━━━━━━━━━━━━━━━━━━━\u001b[0m\u001b[37m\u001b[0m \u001b[1m26s\u001b[0m 595ms/step - accuracy: 0.8806 - loss: 0.3672 - val_accuracy: 0.6078 - val_loss: 1.2731\n",
            "Epoch 20/50\n",
            "\u001b[1m44/44\u001b[0m \u001b[32m━━━━━━━━━━━━━━━━━━━━\u001b[0m\u001b[37m\u001b[0m \u001b[1m26s\u001b[0m 593ms/step - accuracy: 0.8847 - loss: 0.3587 - val_accuracy: 0.6193 - val_loss: 1.1075\n",
            "Epoch 21/50\n",
            "\u001b[1m44/44\u001b[0m \u001b[32m━━━━━━━━━━━━━━━━━━━━\u001b[0m\u001b[37m\u001b[0m \u001b[1m26s\u001b[0m 593ms/step - accuracy: 0.9083 - loss: 0.3117 - val_accuracy: 0.7011 - val_loss: 0.8536\n",
            "Epoch 22/50\n",
            "\u001b[1m44/44\u001b[0m \u001b[32m━━━━━━━━━━━━━━━━━━━━\u001b[0m\u001b[37m\u001b[0m \u001b[1m26s\u001b[0m 595ms/step - accuracy: 0.9087 - loss: 0.3046 - val_accuracy: 0.6575 - val_loss: 0.9875\n",
            "Epoch 23/50\n",
            "\u001b[1m44/44\u001b[0m \u001b[32m━━━━━━━━━━━━━━━━━━━━\u001b[0m\u001b[37m\u001b[0m \u001b[1m26s\u001b[0m 593ms/step - accuracy: 0.9103 - loss: 0.2812 - val_accuracy: 0.6988 - val_loss: 0.9584\n",
            "Epoch 24/50\n",
            "\u001b[1m44/44\u001b[0m \u001b[32m━━━━━━━━━━━━━━━━━━━━\u001b[0m\u001b[37m\u001b[0m \u001b[1m26s\u001b[0m 593ms/step - accuracy: 0.9040 - loss: 0.2985 - val_accuracy: 0.6865 - val_loss: 0.9960\n",
            "Epoch 25/50\n",
            "\u001b[1m44/44\u001b[0m \u001b[32m━━━━━━━━━━━━━━━━━━━━\u001b[0m\u001b[37m\u001b[0m \u001b[1m26s\u001b[0m 593ms/step - accuracy: 0.9215 - loss: 0.2680 - val_accuracy: 0.7531 - val_loss: 0.7932\n",
            "Epoch 26/50\n",
            "\u001b[1m44/44\u001b[0m \u001b[32m━━━━━━━━━━━━━━━━━━━━\u001b[0m\u001b[37m\u001b[0m \u001b[1m26s\u001b[0m 594ms/step - accuracy: 0.9301 - loss: 0.2377 - val_accuracy: 0.6667 - val_loss: 1.0386\n",
            "Epoch 27/50\n",
            "\u001b[1m44/44\u001b[0m \u001b[32m━━━━━━━━━━━━━━━━━━━━\u001b[0m\u001b[37m\u001b[0m \u001b[1m26s\u001b[0m 594ms/step - accuracy: 0.9310 - loss: 0.2341 - val_accuracy: 0.7714 - val_loss: 0.7332\n",
            "Epoch 28/50\n",
            "\u001b[1m44/44\u001b[0m \u001b[32m━━━━━━━━━━━━━━━━━━━━\u001b[0m\u001b[37m\u001b[0m \u001b[1m26s\u001b[0m 595ms/step - accuracy: 0.9332 - loss: 0.2324 - val_accuracy: 0.7156 - val_loss: 0.8658\n",
            "Epoch 29/50\n",
            "\u001b[1m44/44\u001b[0m \u001b[32m━━━━━━━━━━━━━━━━━━━━\u001b[0m\u001b[37m\u001b[0m \u001b[1m26s\u001b[0m 594ms/step - accuracy: 0.9318 - loss: 0.2387 - val_accuracy: 0.6223 - val_loss: 1.1683\n",
            "Epoch 30/50\n",
            "\u001b[1m44/44\u001b[0m \u001b[32m━━━━━━━━━━━━━━━━━━━━\u001b[0m\u001b[37m\u001b[0m \u001b[1m26s\u001b[0m 593ms/step - accuracy: 0.9361 - loss: 0.2287 - val_accuracy: 0.7018 - val_loss: 0.8986\n",
            "Epoch 31/50\n",
            "\u001b[1m44/44\u001b[0m \u001b[32m━━━━━━━━━━━━━━━━━━━━\u001b[0m\u001b[37m\u001b[0m \u001b[1m26s\u001b[0m 594ms/step - accuracy: 0.9416 - loss: 0.1993 - val_accuracy: 0.6154 - val_loss: 1.2406\n",
            "Epoch 32/50\n",
            "\u001b[1m44/44\u001b[0m \u001b[32m━━━━━━━━━━━━━━━━━━━━\u001b[0m\u001b[37m\u001b[0m \u001b[1m26s\u001b[0m 593ms/step - accuracy: 0.9326 - loss: 0.2224 - val_accuracy: 0.7653 - val_loss: 0.6988\n",
            "Epoch 33/50\n",
            "\u001b[1m44/44\u001b[0m \u001b[32m━━━━━━━━━━━━━━━━━━━━\u001b[0m\u001b[37m\u001b[0m \u001b[1m26s\u001b[0m 593ms/step - accuracy: 0.9432 - loss: 0.1824 - val_accuracy: 0.8150 - val_loss: 0.5570\n",
            "Epoch 34/50\n",
            "\u001b[1m44/44\u001b[0m \u001b[32m━━━━━━━━━━━━━━━━━━━━\u001b[0m\u001b[37m\u001b[0m \u001b[1m26s\u001b[0m 595ms/step - accuracy: 0.9410 - loss: 0.1997 - val_accuracy: 0.6697 - val_loss: 1.0845\n",
            "Epoch 35/50\n",
            "\u001b[1m44/44\u001b[0m \u001b[32m━━━━━━━━━━━━━━━━━━━━\u001b[0m\u001b[37m\u001b[0m \u001b[1m26s\u001b[0m 594ms/step - accuracy: 0.9544 - loss: 0.1621 - val_accuracy: 0.6651 - val_loss: 1.1692\n",
            "Epoch 36/50\n",
            "\u001b[1m44/44\u001b[0m \u001b[32m━━━━━━━━━━━━━━━━━━━━\u001b[0m\u001b[37m\u001b[0m \u001b[1m26s\u001b[0m 592ms/step - accuracy: 0.9523 - loss: 0.1671 - val_accuracy: 0.8410 - val_loss: 0.5162\n",
            "Epoch 37/50\n",
            "\u001b[1m44/44\u001b[0m \u001b[32m━━━━━━━━━━━━━━━━━━━━\u001b[0m\u001b[37m\u001b[0m \u001b[1m26s\u001b[0m 594ms/step - accuracy: 0.9495 - loss: 0.1736 - val_accuracy: 0.7003 - val_loss: 0.9531\n",
            "Epoch 38/50\n",
            "\u001b[1m44/44\u001b[0m \u001b[32m━━━━━━━━━━━━━━━━━━━━\u001b[0m\u001b[37m\u001b[0m \u001b[1m26s\u001b[0m 594ms/step - accuracy: 0.9603 - loss: 0.1431 - val_accuracy: 0.8983 - val_loss: 0.3146\n",
            "Epoch 39/50\n",
            "\u001b[1m44/44\u001b[0m \u001b[32m━━━━━━━━━━━━━━━━━━━━\u001b[0m\u001b[37m\u001b[0m \u001b[1m26s\u001b[0m 595ms/step - accuracy: 0.9549 - loss: 0.1527 - val_accuracy: 0.8830 - val_loss: 0.3757\n",
            "Epoch 40/50\n",
            "\u001b[1m44/44\u001b[0m \u001b[32m━━━━━━━━━━━━━━━━━━━━\u001b[0m\u001b[37m\u001b[0m \u001b[1m26s\u001b[0m 594ms/step - accuracy: 0.9551 - loss: 0.1574 - val_accuracy: 0.8028 - val_loss: 0.6284\n",
            "Epoch 41/50\n",
            "\u001b[1m44/44\u001b[0m \u001b[32m━━━━━━━━━━━━━━━━━━━━\u001b[0m\u001b[37m\u001b[0m \u001b[1m26s\u001b[0m 593ms/step - accuracy: 0.9598 - loss: 0.1457 - val_accuracy: 0.6498 - val_loss: 1.2689\n",
            "Epoch 42/50\n",
            "\u001b[1m44/44\u001b[0m \u001b[32m━━━━━━━━━━━━━━━━━━━━\u001b[0m\u001b[37m\u001b[0m \u001b[1m26s\u001b[0m 593ms/step - accuracy: 0.9580 - loss: 0.1523 - val_accuracy: 0.7523 - val_loss: 0.8145\n",
            "Epoch 43/50\n",
            "\u001b[1m44/44\u001b[0m \u001b[32m━━━━━━━━━━━━━━━━━━━━\u001b[0m\u001b[37m\u001b[0m \u001b[1m26s\u001b[0m 595ms/step - accuracy: 0.9547 - loss: 0.1511 - val_accuracy: 0.8188 - val_loss: 0.5726\n",
            "Epoch 44/50\n",
            "\u001b[1m44/44\u001b[0m \u001b[32m━━━━━━━━━━━━━━━━━━━━\u001b[0m\u001b[37m\u001b[0m \u001b[1m26s\u001b[0m 593ms/step - accuracy: 0.9610 - loss: 0.1309 - val_accuracy: 0.7966 - val_loss: 0.6376\n",
            "Epoch 45/50\n",
            "\u001b[1m44/44\u001b[0m \u001b[32m━━━━━━━━━━━━━━━━━━━━\u001b[0m\u001b[37m\u001b[0m \u001b[1m26s\u001b[0m 593ms/step - accuracy: 0.9674 - loss: 0.1187 - val_accuracy: 0.8219 - val_loss: 0.6340\n",
            "Epoch 46/50\n",
            "\u001b[1m44/44\u001b[0m \u001b[32m━━━━━━━━━━━━━━━━━━━━\u001b[0m\u001b[37m\u001b[0m \u001b[1m26s\u001b[0m 595ms/step - accuracy: 0.9579 - loss: 0.1452 - val_accuracy: 0.8119 - val_loss: 0.6144\n",
            "Epoch 47/50\n",
            "\u001b[1m44/44\u001b[0m \u001b[32m━━━━━━━━━━━━━━━━━━━━\u001b[0m\u001b[37m\u001b[0m \u001b[1m26s\u001b[0m 593ms/step - accuracy: 0.9550 - loss: 0.1495 - val_accuracy: 0.6865 - val_loss: 1.1556\n",
            "Epoch 48/50\n",
            "\u001b[1m44/44\u001b[0m \u001b[32m━━━━━━━━━━━━━━━━━━━━\u001b[0m\u001b[37m\u001b[0m \u001b[1m26s\u001b[0m 592ms/step - accuracy: 0.9693 - loss: 0.1133 - val_accuracy: 0.8410 - val_loss: 0.5121\n",
            "Epoch 49/50\n",
            "\u001b[1m44/44\u001b[0m \u001b[32m━━━━━━━━━━━━━━━━━━━━\u001b[0m\u001b[37m\u001b[0m \u001b[1m26s\u001b[0m 593ms/step - accuracy: 0.9722 - loss: 0.0990 - val_accuracy: 0.6460 - val_loss: 1.4213\n",
            "Epoch 50/50\n",
            "\u001b[1m44/44\u001b[0m \u001b[32m━━━━━━━━━━━━━━━━━━━━\u001b[0m\u001b[37m\u001b[0m \u001b[1m26s\u001b[0m 594ms/step - accuracy: 0.9626 - loss: 0.1270 - val_accuracy: 0.6743 - val_loss: 1.0531\n"
          ]
        }
      ]
    },
    {
      "cell_type": "code",
      "source": [
        "#Learning Rate Annealer Alexnet\n",
        "from keras.callbacks import ReduceLROnPlateau\n",
        "lrr= ReduceLROnPlateau(   monitor='val_accuracy',   factor=.01,   patience=3,  min_lr=1e-5)\n",
        "\n",
        "history = resnet50_model.fit(\n",
        "  resnet50_train_ds,\n",
        "  validation_data=resnet50_val_ds,\n",
        "  epochs=epochs,\n",
        "  callbacks=[lrr],\n",
        "  verbose=1,\n",
        ")"
      ],
      "metadata": {
        "id": "0QhkF1cHtPAZ",
        "colab": {
          "base_uri": "https://localhost:8080/"
        },
        "outputId": "d3cd8d46-c852-4e06-9e60-17744bda449b"
      },
      "execution_count": null,
      "outputs": [
        {
          "output_type": "stream",
          "name": "stdout",
          "text": [
            "Epoch 1/50\n",
            "\u001b[1m44/44\u001b[0m \u001b[32m━━━━━━━━━━━━━━━━━━━━\u001b[0m\u001b[37m\u001b[0m \u001b[1m26s\u001b[0m 593ms/step - accuracy: 0.9706 - loss: 0.1076 - val_accuracy: 0.8081 - val_loss: 0.6537 - learning_rate: 0.0010\n",
            "Epoch 2/50\n",
            "\u001b[1m44/44\u001b[0m \u001b[32m━━━━━━━━━━━━━━━━━━━━\u001b[0m\u001b[37m\u001b[0m \u001b[1m26s\u001b[0m 592ms/step - accuracy: 0.9734 - loss: 0.0979 - val_accuracy: 0.8081 - val_loss: 0.6021 - learning_rate: 0.0010\n",
            "Epoch 3/50\n",
            "\u001b[1m44/44\u001b[0m \u001b[32m━━━━━━━━━━━━━━━━━━━━\u001b[0m\u001b[37m\u001b[0m \u001b[1m26s\u001b[0m 592ms/step - accuracy: 0.9731 - loss: 0.0991 - val_accuracy: 0.8196 - val_loss: 0.6594 - learning_rate: 0.0010\n",
            "Epoch 4/50\n",
            "\u001b[1m44/44\u001b[0m \u001b[32m━━━━━━━━━━━━━━━━━━━━\u001b[0m\u001b[37m\u001b[0m \u001b[1m26s\u001b[0m 592ms/step - accuracy: 0.9706 - loss: 0.1044 - val_accuracy: 0.6506 - val_loss: 1.2273 - learning_rate: 0.0010\n",
            "Epoch 5/50\n",
            "\u001b[1m44/44\u001b[0m \u001b[32m━━━━━━━━━━━━━━━━━━━━\u001b[0m\u001b[37m\u001b[0m \u001b[1m26s\u001b[0m 594ms/step - accuracy: 0.9737 - loss: 0.0919 - val_accuracy: 0.8379 - val_loss: 0.5549 - learning_rate: 0.0010\n",
            "Epoch 6/50\n",
            "\u001b[1m44/44\u001b[0m \u001b[32m━━━━━━━━━━━━━━━━━━━━\u001b[0m\u001b[37m\u001b[0m \u001b[1m26s\u001b[0m 592ms/step - accuracy: 0.9726 - loss: 0.0997 - val_accuracy: 0.8379 - val_loss: 0.5395 - learning_rate: 0.0010\n",
            "Epoch 7/50\n",
            "\u001b[1m44/44\u001b[0m \u001b[32m━━━━━━━━━━━━━━━━━━━━\u001b[0m\u001b[37m\u001b[0m \u001b[1m26s\u001b[0m 592ms/step - accuracy: 0.9733 - loss: 0.0979 - val_accuracy: 0.7324 - val_loss: 0.9421 - learning_rate: 0.0010\n",
            "Epoch 8/50\n",
            "\u001b[1m44/44\u001b[0m \u001b[32m━━━━━━━━━━━━━━━━━━━━\u001b[0m\u001b[37m\u001b[0m \u001b[1m26s\u001b[0m 595ms/step - accuracy: 0.9800 - loss: 0.0729 - val_accuracy: 0.8127 - val_loss: 0.6227 - learning_rate: 0.0010\n",
            "Epoch 9/50\n",
            "\u001b[1m44/44\u001b[0m \u001b[32m━━━━━━━━━━━━━━━━━━━━\u001b[0m\u001b[37m\u001b[0m \u001b[1m26s\u001b[0m 593ms/step - accuracy: 0.9821 - loss: 0.0742 - val_accuracy: 0.8922 - val_loss: 0.3367 - learning_rate: 1.0000e-05\n",
            "Epoch 10/50\n",
            "\u001b[1m44/44\u001b[0m \u001b[32m━━━━━━━━━━━━━━━━━━━━\u001b[0m\u001b[37m\u001b[0m \u001b[1m26s\u001b[0m 592ms/step - accuracy: 0.9841 - loss: 0.0632 - val_accuracy: 0.9442 - val_loss: 0.1874 - learning_rate: 1.0000e-05\n",
            "Epoch 11/50\n",
            "\u001b[1m44/44\u001b[0m \u001b[32m━━━━━━━━━━━━━━━━━━━━\u001b[0m\u001b[37m\u001b[0m \u001b[1m26s\u001b[0m 594ms/step - accuracy: 0.9882 - loss: 0.0544 - val_accuracy: 0.9625 - val_loss: 0.1324 - learning_rate: 1.0000e-05\n",
            "Epoch 12/50\n",
            "\u001b[1m44/44\u001b[0m \u001b[32m━━━━━━━━━━━━━━━━━━━━\u001b[0m\u001b[37m\u001b[0m \u001b[1m26s\u001b[0m 593ms/step - accuracy: 0.9915 - loss: 0.0467 - val_accuracy: 0.9702 - val_loss: 0.1099 - learning_rate: 1.0000e-05\n",
            "Epoch 13/50\n",
            "\u001b[1m44/44\u001b[0m \u001b[32m━━━━━━━━━━━━━━━━━━━━\u001b[0m\u001b[37m\u001b[0m \u001b[1m26s\u001b[0m 592ms/step - accuracy: 0.9916 - loss: 0.0436 - val_accuracy: 0.9709 - val_loss: 0.1010 - learning_rate: 1.0000e-05\n",
            "Epoch 14/50\n",
            "\u001b[1m44/44\u001b[0m \u001b[32m━━━━━━━━━━━━━━━━━━━━\u001b[0m\u001b[37m\u001b[0m \u001b[1m26s\u001b[0m 592ms/step - accuracy: 0.9891 - loss: 0.0457 - val_accuracy: 0.9732 - val_loss: 0.0982 - learning_rate: 1.0000e-05\n",
            "Epoch 15/50\n",
            "\u001b[1m44/44\u001b[0m \u001b[32m━━━━━━━━━━━━━━━━━━━━\u001b[0m\u001b[37m\u001b[0m \u001b[1m26s\u001b[0m 593ms/step - accuracy: 0.9908 - loss: 0.0449 - val_accuracy: 0.9755 - val_loss: 0.0944 - learning_rate: 1.0000e-05\n",
            "Epoch 16/50\n",
            "\u001b[1m44/44\u001b[0m \u001b[32m━━━━━━━━━━━━━━━━━━━━\u001b[0m\u001b[37m\u001b[0m \u001b[1m26s\u001b[0m 594ms/step - accuracy: 0.9928 - loss: 0.0416 - val_accuracy: 0.9771 - val_loss: 0.0939 - learning_rate: 1.0000e-05\n",
            "Epoch 17/50\n",
            "\u001b[1m44/44\u001b[0m \u001b[32m━━━━━━━━━━━━━━━━━━━━\u001b[0m\u001b[37m\u001b[0m \u001b[1m26s\u001b[0m 594ms/step - accuracy: 0.9887 - loss: 0.0501 - val_accuracy: 0.9778 - val_loss: 0.0902 - learning_rate: 1.0000e-05\n",
            "Epoch 18/50\n",
            "\u001b[1m44/44\u001b[0m \u001b[32m━━━━━━━━━━━━━━━━━━━━\u001b[0m\u001b[37m\u001b[0m \u001b[1m26s\u001b[0m 590ms/step - accuracy: 0.9942 - loss: 0.0378 - val_accuracy: 0.9778 - val_loss: 0.0910 - learning_rate: 1.0000e-05\n",
            "Epoch 19/50\n",
            "\u001b[1m44/44\u001b[0m \u001b[32m━━━━━━━━━━━━━━━━━━━━\u001b[0m\u001b[37m\u001b[0m \u001b[1m26s\u001b[0m 593ms/step - accuracy: 0.9948 - loss: 0.0405 - val_accuracy: 0.9786 - val_loss: 0.0883 - learning_rate: 1.0000e-05\n",
            "Epoch 20/50\n",
            "\u001b[1m44/44\u001b[0m \u001b[32m━━━━━━━━━━━━━━━━━━━━\u001b[0m\u001b[37m\u001b[0m \u001b[1m26s\u001b[0m 594ms/step - accuracy: 0.9911 - loss: 0.0420 - val_accuracy: 0.9786 - val_loss: 0.0894 - learning_rate: 1.0000e-05\n",
            "Epoch 21/50\n",
            "\u001b[1m44/44\u001b[0m \u001b[32m━━━━━━━━━━━━━━━━━━━━\u001b[0m\u001b[37m\u001b[0m \u001b[1m26s\u001b[0m 593ms/step - accuracy: 0.9947 - loss: 0.0348 - val_accuracy: 0.9794 - val_loss: 0.0900 - learning_rate: 1.0000e-05\n",
            "Epoch 22/50\n",
            "\u001b[1m44/44\u001b[0m \u001b[32m━━━━━━━━━━━━━━━━━━━━\u001b[0m\u001b[37m\u001b[0m \u001b[1m26s\u001b[0m 592ms/step - accuracy: 0.9932 - loss: 0.0380 - val_accuracy: 0.9794 - val_loss: 0.0854 - learning_rate: 1.0000e-05\n",
            "Epoch 23/50\n",
            "\u001b[1m44/44\u001b[0m \u001b[32m━━━━━━━━━━━━━━━━━━━━\u001b[0m\u001b[37m\u001b[0m \u001b[1m26s\u001b[0m 592ms/step - accuracy: 0.9939 - loss: 0.0354 - val_accuracy: 0.9786 - val_loss: 0.0828 - learning_rate: 1.0000e-05\n",
            "Epoch 24/50\n",
            "\u001b[1m44/44\u001b[0m \u001b[32m━━━━━━━━━━━━━━━━━━━━\u001b[0m\u001b[37m\u001b[0m \u001b[1m26s\u001b[0m 593ms/step - accuracy: 0.9934 - loss: 0.0382 - val_accuracy: 0.9794 - val_loss: 0.0832 - learning_rate: 1.0000e-05\n",
            "Epoch 25/50\n",
            "\u001b[1m44/44\u001b[0m \u001b[32m━━━━━━━━━━━━━━━━━━━━\u001b[0m\u001b[37m\u001b[0m \u001b[1m26s\u001b[0m 593ms/step - accuracy: 0.9960 - loss: 0.0323 - val_accuracy: 0.9794 - val_loss: 0.0821 - learning_rate: 1.0000e-05\n",
            "Epoch 26/50\n",
            "\u001b[1m44/44\u001b[0m \u001b[32m━━━━━━━━━━━━━━━━━━━━\u001b[0m\u001b[37m\u001b[0m \u001b[1m26s\u001b[0m 593ms/step - accuracy: 0.9930 - loss: 0.0391 - val_accuracy: 0.9786 - val_loss: 0.0849 - learning_rate: 1.0000e-05\n",
            "Epoch 27/50\n",
            "\u001b[1m44/44\u001b[0m \u001b[32m━━━━━━━━━━━━━━━━━━━━\u001b[0m\u001b[37m\u001b[0m \u001b[1m26s\u001b[0m 592ms/step - accuracy: 0.9951 - loss: 0.0322 - val_accuracy: 0.9786 - val_loss: 0.0841 - learning_rate: 1.0000e-05\n",
            "Epoch 28/50\n",
            "\u001b[1m44/44\u001b[0m \u001b[32m━━━━━━━━━━━━━━━━━━━━\u001b[0m\u001b[37m\u001b[0m \u001b[1m26s\u001b[0m 593ms/step - accuracy: 0.9958 - loss: 0.0357 - val_accuracy: 0.9786 - val_loss: 0.0846 - learning_rate: 1.0000e-05\n",
            "Epoch 29/50\n",
            "\u001b[1m44/44\u001b[0m \u001b[32m━━━━━━━━━━━━━━━━━━━━\u001b[0m\u001b[37m\u001b[0m \u001b[1m26s\u001b[0m 594ms/step - accuracy: 0.9952 - loss: 0.0329 - val_accuracy: 0.9786 - val_loss: 0.0866 - learning_rate: 1.0000e-05\n",
            "Epoch 30/50\n",
            "\u001b[1m44/44\u001b[0m \u001b[32m━━━━━━━━━━━━━━━━━━━━\u001b[0m\u001b[37m\u001b[0m \u001b[1m26s\u001b[0m 592ms/step - accuracy: 0.9960 - loss: 0.0329 - val_accuracy: 0.9778 - val_loss: 0.0900 - learning_rate: 1.0000e-05\n",
            "Epoch 31/50\n",
            "\u001b[1m44/44\u001b[0m \u001b[32m━━━━━━━━━━━━━━━━━━━━\u001b[0m\u001b[37m\u001b[0m \u001b[1m26s\u001b[0m 592ms/step - accuracy: 0.9926 - loss: 0.0393 - val_accuracy: 0.9771 - val_loss: 0.0941 - learning_rate: 1.0000e-05\n",
            "Epoch 32/50\n",
            "\u001b[1m44/44\u001b[0m \u001b[32m━━━━━━━━━━━━━━━━━━━━\u001b[0m\u001b[37m\u001b[0m \u001b[1m26s\u001b[0m 598ms/step - accuracy: 0.9943 - loss: 0.0344 - val_accuracy: 0.9771 - val_loss: 0.0898 - learning_rate: 1.0000e-05\n",
            "Epoch 33/50\n",
            "\u001b[1m44/44\u001b[0m \u001b[32m━━━━━━━━━━━━━━━━━━━━\u001b[0m\u001b[37m\u001b[0m \u001b[1m26s\u001b[0m 593ms/step - accuracy: 0.9970 - loss: 0.0298 - val_accuracy: 0.9763 - val_loss: 0.0959 - learning_rate: 1.0000e-05\n",
            "Epoch 34/50\n",
            "\u001b[1m44/44\u001b[0m \u001b[32m━━━━━━━━━━━━━━━━━━━━\u001b[0m\u001b[37m\u001b[0m \u001b[1m26s\u001b[0m 594ms/step - accuracy: 0.9957 - loss: 0.0330 - val_accuracy: 0.9786 - val_loss: 0.0892 - learning_rate: 1.0000e-05\n",
            "Epoch 35/50\n",
            "\u001b[1m44/44\u001b[0m \u001b[32m━━━━━━━━━━━━━━━━━━━━\u001b[0m\u001b[37m\u001b[0m \u001b[1m26s\u001b[0m 592ms/step - accuracy: 0.9951 - loss: 0.0332 - val_accuracy: 0.9801 - val_loss: 0.0855 - learning_rate: 1.0000e-05\n",
            "Epoch 36/50\n",
            "\u001b[1m44/44\u001b[0m \u001b[32m━━━━━━━━━━━━━━━━━━━━\u001b[0m\u001b[37m\u001b[0m \u001b[1m26s\u001b[0m 592ms/step - accuracy: 0.9960 - loss: 0.0329 - val_accuracy: 0.9794 - val_loss: 0.0840 - learning_rate: 1.0000e-05\n",
            "Epoch 37/50\n",
            "\u001b[1m44/44\u001b[0m \u001b[32m━━━━━━━━━━━━━━━━━━━━\u001b[0m\u001b[37m\u001b[0m \u001b[1m26s\u001b[0m 593ms/step - accuracy: 0.9953 - loss: 0.0326 - val_accuracy: 0.9801 - val_loss: 0.0850 - learning_rate: 1.0000e-05\n",
            "Epoch 38/50\n",
            "\u001b[1m44/44\u001b[0m \u001b[32m━━━━━━━━━━━━━━━━━━━━\u001b[0m\u001b[37m\u001b[0m \u001b[1m26s\u001b[0m 593ms/step - accuracy: 0.9953 - loss: 0.0329 - val_accuracy: 0.9801 - val_loss: 0.0848 - learning_rate: 1.0000e-05\n",
            "Epoch 39/50\n",
            "\u001b[1m44/44\u001b[0m \u001b[32m━━━━━━━━━━━━━━━━━━━━\u001b[0m\u001b[37m\u001b[0m \u001b[1m26s\u001b[0m 592ms/step - accuracy: 0.9962 - loss: 0.0314 - val_accuracy: 0.9801 - val_loss: 0.0848 - learning_rate: 1.0000e-05\n",
            "Epoch 40/50\n",
            "\u001b[1m44/44\u001b[0m \u001b[32m━━━━━━━━━━━━━━━━━━━━\u001b[0m\u001b[37m\u001b[0m \u001b[1m26s\u001b[0m 591ms/step - accuracy: 0.9965 - loss: 0.0293 - val_accuracy: 0.9801 - val_loss: 0.0841 - learning_rate: 1.0000e-05\n",
            "Epoch 41/50\n",
            "\u001b[1m44/44\u001b[0m \u001b[32m━━━━━━━━━━━━━━━━━━━━\u001b[0m\u001b[37m\u001b[0m \u001b[1m26s\u001b[0m 593ms/step - accuracy: 0.9965 - loss: 0.0298 - val_accuracy: 0.9794 - val_loss: 0.0881 - learning_rate: 1.0000e-05\n",
            "Epoch 42/50\n",
            "\u001b[1m44/44\u001b[0m \u001b[32m━━━━━━━━━━━━━━━━━━━━\u001b[0m\u001b[37m\u001b[0m \u001b[1m26s\u001b[0m 592ms/step - accuracy: 0.9944 - loss: 0.0346 - val_accuracy: 0.9794 - val_loss: 0.0878 - learning_rate: 1.0000e-05\n",
            "Epoch 43/50\n",
            "\u001b[1m44/44\u001b[0m \u001b[32m━━━━━━━━━━━━━━━━━━━━\u001b[0m\u001b[37m\u001b[0m \u001b[1m26s\u001b[0m 590ms/step - accuracy: 0.9956 - loss: 0.0321 - val_accuracy: 0.9778 - val_loss: 0.0891 - learning_rate: 1.0000e-05\n",
            "Epoch 44/50\n",
            "\u001b[1m44/44\u001b[0m \u001b[32m━━━━━━━━━━━━━━━━━━━━\u001b[0m\u001b[37m\u001b[0m \u001b[1m26s\u001b[0m 592ms/step - accuracy: 0.9950 - loss: 0.0350 - val_accuracy: 0.9794 - val_loss: 0.0860 - learning_rate: 1.0000e-05\n",
            "Epoch 45/50\n",
            "\u001b[1m44/44\u001b[0m \u001b[32m━━━━━━━━━━━━━━━━━━━━\u001b[0m\u001b[37m\u001b[0m \u001b[1m26s\u001b[0m 592ms/step - accuracy: 0.9966 - loss: 0.0298 - val_accuracy: 0.9801 - val_loss: 0.0843 - learning_rate: 1.0000e-05\n",
            "Epoch 46/50\n",
            "\u001b[1m44/44\u001b[0m \u001b[32m━━━━━━━━━━━━━━━━━━━━\u001b[0m\u001b[37m\u001b[0m \u001b[1m26s\u001b[0m 592ms/step - accuracy: 0.9953 - loss: 0.0316 - val_accuracy: 0.9809 - val_loss: 0.0781 - learning_rate: 1.0000e-05\n",
            "Epoch 47/50\n",
            "\u001b[1m44/44\u001b[0m \u001b[32m━━━━━━━━━━━━━━━━━━━━\u001b[0m\u001b[37m\u001b[0m \u001b[1m26s\u001b[0m 592ms/step - accuracy: 0.9966 - loss: 0.0294 - val_accuracy: 0.9809 - val_loss: 0.0800 - learning_rate: 1.0000e-05\n",
            "Epoch 48/50\n",
            "\u001b[1m44/44\u001b[0m \u001b[32m━━━━━━━━━━━━━━━━━━━━\u001b[0m\u001b[37m\u001b[0m \u001b[1m26s\u001b[0m 593ms/step - accuracy: 0.9935 - loss: 0.0328 - val_accuracy: 0.9809 - val_loss: 0.0786 - learning_rate: 1.0000e-05\n",
            "Epoch 49/50\n",
            "\u001b[1m44/44\u001b[0m \u001b[32m━━━━━━━━━━━━━━━━━━━━\u001b[0m\u001b[37m\u001b[0m \u001b[1m26s\u001b[0m 593ms/step - accuracy: 0.9966 - loss: 0.0284 - val_accuracy: 0.9801 - val_loss: 0.0804 - learning_rate: 1.0000e-05\n",
            "Epoch 50/50\n",
            "\u001b[1m44/44\u001b[0m \u001b[32m━━━━━━━━━━━━━━━━━━━━\u001b[0m\u001b[37m\u001b[0m \u001b[1m26s\u001b[0m 594ms/step - accuracy: 0.9962 - loss: 0.0303 - val_accuracy: 0.9809 - val_loss: 0.0828 - learning_rate: 1.0000e-05\n"
          ]
        }
      ]
    },
    {
      "cell_type": "code",
      "source": [
        "resnet50_loss, resnet50_acc = resnet50_model.evaluate(resnet50_test_ds)"
      ],
      "metadata": {
        "id": "rYlWdmwt6fnq",
        "colab": {
          "base_uri": "https://localhost:8080/"
        },
        "outputId": "4717a934-f716-4c6a-d9fb-6163ee88295b"
      },
      "execution_count": null,
      "outputs": [
        {
          "output_type": "stream",
          "name": "stdout",
          "text": [
            "\u001b[1m44/44\u001b[0m \u001b[32m━━━━━━━━━━━━━━━━━━━━\u001b[0m\u001b[37m\u001b[0m \u001b[1m36s\u001b[0m 813ms/step - accuracy: 0.9795 - loss: 0.0770\n"
          ]
        }
      ]
    },
    {
      "cell_type": "code",
      "source": [
        "resnet50_y_pred=np.argmax(resnet50_model.predict(resnet50_test_img), axis=-1)\n",
        "resnet50_con_mat = tf.math.confusion_matrix(labels=resnet50_test_labels, predictions=resnet50_y_pred).numpy()\n",
        "\n",
        "resnet50_con_mat_norm = np.around(resnet50_con_mat.astype('float') / resnet50_con_mat.sum(axis=1)[:, np.newaxis], decimals=2)\n",
        "\n",
        "resnet50_con_mat_df = pd.DataFrame(resnet50_con_mat_norm,\n",
        "                     index = class_names,\n",
        "                     columns = class_names)\n",
        "\n",
        "figure = plt.figure(figsize=(10, 10))\n",
        "sns.heatmap(resnet50_con_mat_df, annot=True,cmap=plt.cm.Blues)\n",
        "plt.tight_layout()\n",
        "plt.ylabel('True label')\n",
        "plt.xlabel('Predicted label')\n",
        "plt.show()"
      ],
      "metadata": {
        "id": "qWeAYt7D7VBY",
        "colab": {
          "base_uri": "https://localhost:8080/",
          "height": 1000
        },
        "outputId": "f2bc015d-f2d2-4100-fe78-2157472454a0"
      },
      "execution_count": null,
      "outputs": [
        {
          "output_type": "stream",
          "name": "stdout",
          "text": [
            "\u001b[1m5/5\u001b[0m \u001b[32m━━━━━━━━━━━━━━━━━━━━\u001b[0m\u001b[37m\u001b[0m \u001b[1m5s\u001b[0m 675ms/step\n"
          ]
        },
        {
          "output_type": "display_data",
          "data": {
            "text/plain": [
              "<Figure size 1000x1000 with 2 Axes>"
            ],
            "image/png": "[encoded data removed]"
          },
          "metadata": {}
        }
      ]
    },
    {
      "cell_type": "code",
      "source": [
        "resnet50_y_pred = resnet50_model.predict(resnet50_test_ds)\n",
        "resnet50_predicted_categories = np.argmax(resnet50_y_pred, axis = 1)\n",
        "\n",
        "resnet50_true_categories = tf.concat([y for x, y in resnet50_test_ds], axis = 0).numpy() # convert to np array\n",
        "\n",
        "print(classification_report(resnet50_true_categories, resnet50_predicted_categories))"
      ],
      "metadata": {
        "id": "AtZXucx57cXJ",
        "colab": {
          "base_uri": "https://localhost:8080/"
        },
        "outputId": "9d785c45-ae96-496b-b083-abd801cb20b6"
      },
      "execution_count": null,
      "outputs": [
        {
          "output_type": "stream",
          "name": "stdout",
          "text": [
            "\u001b[1m44/44\u001b[0m \u001b[32m━━━━━━━━━━━━━━━━━━━━\u001b[0m\u001b[37m\u001b[0m \u001b[1m9s\u001b[0m 173ms/step\n",
            "              precision    recall  f1-score   support\n",
            "\n",
            "           0       0.98      0.98      0.98      1298\n",
            "           1       0.99      0.96      0.97      1315\n",
            "           2       0.97      0.99      0.98      1325\n",
            "           3       0.97      0.98      0.98      1305\n",
            "           4       0.99      0.98      0.98      1301\n",
            "\n",
            "    accuracy                           0.98      6544\n",
            "   macro avg       0.98      0.98      0.98      6544\n",
            "weighted avg       0.98      0.98      0.98      6544\n",
            "\n"
          ]
        }
      ]
    }
  ]
}