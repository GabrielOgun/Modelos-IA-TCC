{
  "nbformat": 4,
  "nbformat_minor": 0,
  "metadata": {
    "colab": {
      "provenance": [],
      "machine_shape": "hm",
      "gpuType": "L4"
    },
    "kernelspec": {
      "name": "python3",
      "display_name": "Python 3"
    },
    "language_info": {
      "name": "python"
    },
    "accelerator": "GPU"
  },
  "cells": [
    {
      "cell_type": "code",
      "execution_count": null,
      "metadata": {
        "colab": {
          "base_uri": "https://localhost:8080/"
        },
        "id": "_A1vpGrrsW1m",
        "outputId": "7953c5dc-cc99-46d7-c34f-13422bef765b"
      },
      "outputs": [
        {
          "output_type": "stream",
          "name": "stdout",
          "text": [
            "Mounted at /content/drive\n"
          ]
        }
      ],
      "source": [
        "#importando drive com imagens\n",
        "from pydrive2.auth import GoogleAuth\n",
        "from pydrive2.drive import GoogleDrive\n",
        "from google.colab import auth\n",
        "from oauth2client.client import GoogleCredentials\n",
        "from google.colab import drive\n",
        "drive.mount('/content/drive')"
      ]
    },
    {
      "cell_type": "code",
      "source": [
        "auth.authenticate_user()\n",
        "gauth = GoogleAuth()\n",
        "gauth.credentials = GoogleCredentials.get_application_default()\n",
        "drive = GoogleDrive(gauth)"
      ],
      "metadata": {
        "id": "PoLWTwvaskfc"
      },
      "execution_count": null,
      "outputs": []
    },
    {
      "cell_type": "code",
      "source": [
        "import matplotlib.pyplot as plt\n",
        "import numpy as np\n",
        "import os\n",
        "import PIL\n",
        "import tensorflow as tf\n",
        "import pandas as pd\n",
        "import seaborn as sns\n",
        "import pathlib\n",
        "\n",
        "\n",
        "from tensorflow import keras\n",
        "from tensorflow.keras import layers\n",
        "from tensorflow.keras.models import Sequential\n",
        "from tensorflow.keras.layers import Conv2D, MaxPool2D # Updated import statements\n",
        "from tensorflow.keras.preprocessing.image import ImageDataGenerator\n",
        "from sklearn.metrics import classification_report, confusion_matrix\n",
        "from keras.callbacks import ModelCheckpoint, ReduceLROnPlateau\n",
        "from tensorflow.keras import regularizers\n",
        "from keras import metrics"
      ],
      "metadata": {
        "id": "vyJ8WTkntzCP"
      },
      "execution_count": null,
      "outputs": []
    },
    {
      "cell_type": "code",
      "source": [
        "data_dir = pathlib.Path(\"/content/drive/MyDrive/TCC_DOCS/images\")\n",
        "print(data_dir)"
      ],
      "metadata": {
        "colab": {
          "base_uri": "https://localhost:8080/"
        },
        "id": "RjplTL5qt9gz",
        "outputId": "033b8fb1-9d87-41f0-ef91-6593265998e5"
      },
      "execution_count": null,
      "outputs": [
        {
          "output_type": "stream",
          "name": "stdout",
          "text": [
            "/content/drive/MyDrive/TCC_DOCS/images\n"
          ]
        }
      ]
    },
    {
      "cell_type": "code",
      "source": [
        "#tamanho de imagem\n",
        "vgg16_img_size = 100\n",
        "#número de exemplos que serão processados juntos em uma única iteração do modelo durante o treinamento\n",
        "vgg16_batch_size = 150\n",
        "\n",
        "vgg16_train_ds = tf.keras.preprocessing.image_dataset_from_directory(\n",
        "    data_dir,\n",
        "    seed=123,\n",
        "    image_size=(vgg16_img_size, vgg16_img_size),\n",
        "    batch_size=vgg16_batch_size)\n",
        "\n",
        "vgg16_val_ds = tf.keras.preprocessing.image_dataset_from_directory(\n",
        "    data_dir,\n",
        "    validation_split=0.2,\n",
        "    subset=\"validation\",\n",
        "    seed=123,\n",
        "    image_size=(vgg16_img_size,vgg16_img_size),\n",
        "    batch_size=vgg16_batch_size)\n",
        "\n",
        "vgg16_test_ds = tf.keras.preprocessing.image_dataset_from_directory(\n",
        "    data_dir,\n",
        "    seed=123,\n",
        "    image_size=(vgg16_img_size,vgg16_img_size),\n",
        "    batch_size=vgg16_batch_size)\n",
        "\n",
        "class_names = vgg16_test_ds.class_names"
      ],
      "metadata": {
        "id": "94tfHvhMuhKH",
        "colab": {
          "base_uri": "https://localhost:8080/"
        },
        "outputId": "9af9cde0-af8b-4a40-ecb4-6cd8f06845fa"
      },
      "execution_count": null,
      "outputs": [
        {
          "output_type": "stream",
          "name": "stdout",
          "text": [
            "Found 47813 files belonging to 5 classes.\n",
            "Found 47813 files belonging to 5 classes.\n",
            "Using 9562 files for validation.\n",
            "Found 47813 files belonging to 5 classes.\n"
          ]
        }
      ]
    },
    {
      "cell_type": "code",
      "source": [
        "for image_batch, labels_batch in vgg16_train_ds:\n",
        "  vgg16_train_img = image_batch\n",
        "  vgg16_train_labels = labels_batch\n",
        "  break\n",
        "for image_batch, labels_batch in vgg16_val_ds:\n",
        "  vgg16_val_img = image_batch\n",
        "  vgg16_val_labels = labels_batch\n",
        "  break\n",
        "for image_batch, labels_batch in vgg16_test_ds:\n",
        "  vgg16_test_img = image_batch\n",
        "  vgg16_test_labels = labels_batch\n",
        "  break"
      ],
      "metadata": {
        "id": "9qFlfr3UwVIh"
      },
      "execution_count": null,
      "outputs": []
    },
    {
      "cell_type": "code",
      "source": [
        "# ajusta automaticamente o número de threads para o pré-processamento dos dados. melhorar a performance e a eficiência do pipeline de dados.\n",
        "AUTOTUNE = tf.data.experimental.AUTOTUNE\n",
        "\n",
        "vgg16_train_ds = vgg16_train_ds.cache().shuffle(1000).prefetch(buffer_size=AUTOTUNE)\n",
        "vgg16_val_ds = vgg16_val_ds.cache().prefetch(buffer_size=AUTOTUNE)\n",
        "vgg16_test_ds = vgg16_test_ds.cache().prefetch(buffer_size=AUTOTUNE)"
      ],
      "metadata": {
        "id": "_K9GNOjGwWhl"
      },
      "execution_count": null,
      "outputs": []
    },
    {
      "cell_type": "code",
      "source": [],
      "metadata": {
        "id": "wMjYkUP8wZJJ"
      },
      "execution_count": null,
      "outputs": []
    },
    {
      "cell_type": "code",
      "source": [
        "# VGG16\n",
        "img_shape = (vgg16_img_size,vgg16_img_size,3)\n",
        "VGG16_model = tf.keras.applications.VGG16(input_shape=img_shape,include_top=False,weights='imagenet')"
      ],
      "metadata": {
        "id": "aQ00eWRzwbZI",
        "colab": {
          "base_uri": "https://localhost:8080/"
        },
        "outputId": "ba8bce69-081a-4781-8b0c-88e35730815e"
      },
      "execution_count": null,
      "outputs": [
        {
          "output_type": "stream",
          "name": "stdout",
          "text": [
            "Downloading data from https://storage.googleapis.com/tensorflow/keras-applications/vgg16/vgg16_weights_tf_dim_ordering_tf_kernels_notop.h5\n",
            "\u001b[1m58889256/58889256\u001b[0m \u001b[32m━━━━━━━━━━━━━━━━━━━━\u001b[0m\u001b[37m\u001b[0m \u001b[1m0s\u001b[0m 0us/step\n"
          ]
        }
      ]
    },
    {
      "cell_type": "code",
      "source": [
        "VGG16_model.trainable=False\n",
        "global_average_layer = tf.keras.layers.GlobalAveragePooling2D()\n",
        "prediction_layer = tf.keras.layers.Dense(5,activation='relu',bias_regularizer=regularizers.l2(1e-4))"
      ],
      "metadata": {
        "id": "Ix6Q7shBwdlj"
      },
      "execution_count": null,
      "outputs": []
    },
    {
      "cell_type": "code",
      "source": [
        "num_classes = 5\n",
        "vgg16_model = Sequential([\n",
        "    VGG16_model,\n",
        "    prediction_layer,\n",
        "    global_average_layer,\n",
        "    layers.Flatten(),\n",
        "    layers.BatchNormalization(),\n",
        "    layers.Activation('softmax'),\n",
        "])"
      ],
      "metadata": {
        "id": "m7sJOltIwlI7"
      },
      "execution_count": null,
      "outputs": []
    },
    {
      "cell_type": "code",
      "source": [],
      "metadata": {
        "id": "dSH7NCPUwmid",
        "colab": {
          "base_uri": "https://localhost:8080/",
          "height": 287
        },
        "outputId": "cda56315-ee06-4887-fd53-8a0a46853da8"
      },
      "execution_count": null,
      "outputs": [
        {
          "output_type": "error",
          "ename": "ValueError",
          "evalue": "Undefined shapes are not supported.",
          "traceback": [
            "\u001b[0;31m---------------------------------------------------------------------------\u001b[0m",
            "\u001b[0;31mValueError\u001b[0m                                Traceback (most recent call last)",
            "\u001b[0;32m<ipython-input-24-3dae85dfe7bd>\u001b[0m in \u001b[0;36m<cell line: 1>\u001b[0;34m()\u001b[0m\n\u001b[0;32m----> 1\u001b[0;31m \u001b[0mvgg16_model\u001b[0m\u001b[0;34m.\u001b[0m\u001b[0msummary\u001b[0m\u001b[0;34m(\u001b[0m\u001b[0;34m)\u001b[0m\u001b[0;34m\u001b[0m\u001b[0;34m\u001b[0m\u001b[0m\n\u001b[0m",
            "\u001b[0;32m/usr/local/lib/python3.10/dist-packages/keras/src/utils/traceback_utils.py\u001b[0m in \u001b[0;36merror_handler\u001b[0;34m(*args, **kwargs)\u001b[0m\n\u001b[1;32m    120\u001b[0m             \u001b[0;31m# To get the full stack trace, call:\u001b[0m\u001b[0;34m\u001b[0m\u001b[0;34m\u001b[0m\u001b[0m\n\u001b[1;32m    121\u001b[0m             \u001b[0;31m# `keras.config.disable_traceback_filtering()`\u001b[0m\u001b[0;34m\u001b[0m\u001b[0;34m\u001b[0m\u001b[0m\n\u001b[0;32m--> 122\u001b[0;31m             \u001b[0;32mraise\u001b[0m \u001b[0me\u001b[0m\u001b[0;34m.\u001b[0m\u001b[0mwith_traceback\u001b[0m\u001b[0;34m(\u001b[0m\u001b[0mfiltered_tb\u001b[0m\u001b[0;34m)\u001b[0m \u001b[0;32mfrom\u001b[0m \u001b[0;32mNone\u001b[0m\u001b[0;34m\u001b[0m\u001b[0;34m\u001b[0m\u001b[0m\n\u001b[0m\u001b[1;32m    123\u001b[0m         \u001b[0;32mfinally\u001b[0m\u001b[0;34m:\u001b[0m\u001b[0;34m\u001b[0m\u001b[0;34m\u001b[0m\u001b[0m\n\u001b[1;32m    124\u001b[0m             \u001b[0;32mdel\u001b[0m \u001b[0mfiltered_tb\u001b[0m\u001b[0;34m\u001b[0m\u001b[0;34m\u001b[0m\u001b[0m\n",
            "\u001b[0;32m/usr/local/lib/python3.10/dist-packages/optree/ops.py\u001b[0m in \u001b[0;36mtree_map\u001b[0;34m(func, tree, is_leaf, none_is_leaf, namespace, *rests)\u001b[0m\n\u001b[1;32m    745\u001b[0m     \u001b[0mleaves\u001b[0m\u001b[0;34m,\u001b[0m \u001b[0mtreespec\u001b[0m \u001b[0;34m=\u001b[0m \u001b[0m_C\u001b[0m\u001b[0;34m.\u001b[0m\u001b[0mflatten\u001b[0m\u001b[0;34m(\u001b[0m\u001b[0mtree\u001b[0m\u001b[0;34m,\u001b[0m \u001b[0mis_leaf\u001b[0m\u001b[0;34m,\u001b[0m \u001b[0mnone_is_leaf\u001b[0m\u001b[0;34m,\u001b[0m \u001b[0mnamespace\u001b[0m\u001b[0;34m)\u001b[0m\u001b[0;34m\u001b[0m\u001b[0;34m\u001b[0m\u001b[0m\n\u001b[1;32m    746\u001b[0m     \u001b[0mflat_args\u001b[0m \u001b[0;34m=\u001b[0m \u001b[0;34m[\u001b[0m\u001b[0mleaves\u001b[0m\u001b[0;34m]\u001b[0m \u001b[0;34m+\u001b[0m \u001b[0;34m[\u001b[0m\u001b[0mtreespec\u001b[0m\u001b[0;34m.\u001b[0m\u001b[0mflatten_up_to\u001b[0m\u001b[0;34m(\u001b[0m\u001b[0mr\u001b[0m\u001b[0;34m)\u001b[0m \u001b[0;32mfor\u001b[0m \u001b[0mr\u001b[0m \u001b[0;32min\u001b[0m \u001b[0mrests\u001b[0m\u001b[0;34m]\u001b[0m\u001b[0;34m\u001b[0m\u001b[0;34m\u001b[0m\u001b[0m\n\u001b[0;32m--> 747\u001b[0;31m     \u001b[0;32mreturn\u001b[0m \u001b[0mtreespec\u001b[0m\u001b[0;34m.\u001b[0m\u001b[0munflatten\u001b[0m\u001b[0;34m(\u001b[0m\u001b[0mmap\u001b[0m\u001b[0;34m(\u001b[0m\u001b[0mfunc\u001b[0m\u001b[0;34m,\u001b[0m \u001b[0;34m*\u001b[0m\u001b[0mflat_args\u001b[0m\u001b[0;34m)\u001b[0m\u001b[0;34m)\u001b[0m\u001b[0;34m\u001b[0m\u001b[0;34m\u001b[0m\u001b[0m\n\u001b[0m\u001b[1;32m    748\u001b[0m \u001b[0;34m\u001b[0m\u001b[0m\n\u001b[1;32m    749\u001b[0m \u001b[0;34m\u001b[0m\u001b[0m\n",
            "\u001b[0;31mValueError\u001b[0m: Undefined shapes are not supported."
          ]
        }
      ]
    },
    {
      "cell_type": "code",
      "source": [
        "vgg16_model.compile(optimizer='adam',loss=tf.keras.losses.SparseCategoricalCrossentropy(from_logits=True),metrics=['accuracy'])"
      ],
      "metadata": {
        "id": "q_i70u6ewodt"
      },
      "execution_count": null,
      "outputs": []
    },
    {
      "cell_type": "code",
      "source": [
        "epochs = 50\n",
        "history = vgg16_model.fit(\n",
        "  vgg16_train_ds,\n",
        "  validation_data=vgg16_val_ds,\n",
        "  epochs=epochs\n",
        ")"
      ],
      "metadata": {
        "id": "ZEVgRIgQwoyf",
        "colab": {
          "base_uri": "https://localhost:8080/"
        },
        "outputId": "6fa04d0c-c34b-4350-88df-fbef89b26f25"
      },
      "execution_count": null,
      "outputs": [
        {
          "output_type": "stream",
          "name": "stdout",
          "text": [
            "Epoch 1/50\n"
          ]
        },
        {
          "output_type": "stream",
          "name": "stderr",
          "text": [
            "/usr/local/lib/python3.10/dist-packages/keras/src/backend/tensorflow/nn.py:609: UserWarning: \"`sparse_categorical_crossentropy` received `from_logits=True`, but the `output` argument was produced by a Softmax activation and thus does not represent logits. Was this intended?\n",
            "  output, from_logits = _get_logits(\n"
          ]
        },
        {
          "output_type": "stream",
          "name": "stdout",
          "text": [
            "\u001b[1m319/319\u001b[0m \u001b[32m━━━━━━━━━━━━━━━━━━━━\u001b[0m\u001b[37m\u001b[0m \u001b[1m1734s\u001b[0m 196ms/step - accuracy: 0.4504 - loss: 1.4837 - val_accuracy: 0.7273 - val_loss: 0.9615\n",
            "Epoch 2/50\n",
            "\u001b[1m319/319\u001b[0m \u001b[32m━━━━━━━━━━━━━━━━━━━━\u001b[0m\u001b[37m\u001b[0m \u001b[1m25s\u001b[0m 79ms/step - accuracy: 0.7100 - loss: 0.9905 - val_accuracy: 0.7469 - val_loss: 0.8469\n",
            "Epoch 3/50\n",
            "\u001b[1m319/319\u001b[0m \u001b[32m━━━━━━━━━━━━━━━━━━━━\u001b[0m\u001b[37m\u001b[0m \u001b[1m25s\u001b[0m 80ms/step - accuracy: 0.7486 - loss: 0.8417 - val_accuracy: 0.7556 - val_loss: 0.7930\n",
            "Epoch 4/50\n",
            "\u001b[1m319/319\u001b[0m \u001b[32m━━━━━━━━━━━━━━━━━━━━\u001b[0m\u001b[37m\u001b[0m \u001b[1m25s\u001b[0m 79ms/step - accuracy: 0.7625 - loss: 0.7579 - val_accuracy: 0.7732 - val_loss: 0.7121\n",
            "Epoch 5/50\n",
            "\u001b[1m319/319\u001b[0m \u001b[32m━━━━━━━━━━━━━━━━━━━━\u001b[0m\u001b[37m\u001b[0m \u001b[1m25s\u001b[0m 79ms/step - accuracy: 0.7687 - loss: 0.7053 - val_accuracy: 0.7772 - val_loss: 0.6707\n",
            "Epoch 6/50\n",
            "\u001b[1m319/319\u001b[0m \u001b[32m━━━━━━━━━━━━━━━━━━━━\u001b[0m\u001b[37m\u001b[0m \u001b[1m25s\u001b[0m 79ms/step - accuracy: 0.7693 - loss: 0.6750 - val_accuracy: 0.7821 - val_loss: 0.6446\n",
            "Epoch 7/50\n",
            "\u001b[1m319/319\u001b[0m \u001b[32m━━━━━━━━━━━━━━━━━━━━\u001b[0m\u001b[37m\u001b[0m \u001b[1m25s\u001b[0m 79ms/step - accuracy: 0.7780 - loss: 0.6434 - val_accuracy: 0.7773 - val_loss: 0.6450\n",
            "Epoch 8/50\n",
            "\u001b[1m319/319\u001b[0m \u001b[32m━━━━━━━━━━━━━━━━━━━━\u001b[0m\u001b[37m\u001b[0m \u001b[1m25s\u001b[0m 79ms/step - accuracy: 0.7751 - loss: 0.6326 - val_accuracy: 0.7821 - val_loss: 0.6215\n",
            "Epoch 9/50\n",
            "\u001b[1m319/319\u001b[0m \u001b[32m━━━━━━━━━━━━━━━━━━━━\u001b[0m\u001b[37m\u001b[0m \u001b[1m25s\u001b[0m 79ms/step - accuracy: 0.7799 - loss: 0.6172 - val_accuracy: 0.7808 - val_loss: 0.6127\n",
            "Epoch 10/50\n",
            "\u001b[1m319/319\u001b[0m \u001b[32m━━━━━━━━━━━━━━━━━━━━\u001b[0m\u001b[37m\u001b[0m \u001b[1m25s\u001b[0m 79ms/step - accuracy: 0.7771 - loss: 0.6146 - val_accuracy: 0.7849 - val_loss: 0.6037\n",
            "Epoch 11/50\n",
            "\u001b[1m319/319\u001b[0m \u001b[32m━━━━━━━━━━━━━━━━━━━━\u001b[0m\u001b[37m\u001b[0m \u001b[1m25s\u001b[0m 79ms/step - accuracy: 0.7791 - loss: 0.6102 - val_accuracy: 0.7848 - val_loss: 0.5973\n",
            "Epoch 12/50\n",
            "\u001b[1m319/319\u001b[0m \u001b[32m━━━━━━━━━━━━━━━━━━━━\u001b[0m\u001b[37m\u001b[0m \u001b[1m25s\u001b[0m 79ms/step - accuracy: 0.7770 - loss: 0.6082 - val_accuracy: 0.7834 - val_loss: 0.5936\n",
            "Epoch 13/50\n",
            "\u001b[1m319/319\u001b[0m \u001b[32m━━━━━━━━━━━━━━━━━━━━\u001b[0m\u001b[37m\u001b[0m \u001b[1m25s\u001b[0m 79ms/step - accuracy: 0.7816 - loss: 0.6020 - val_accuracy: 0.7824 - val_loss: 0.5912\n",
            "Epoch 14/50\n",
            "\u001b[1m319/319\u001b[0m \u001b[32m━━━━━━━━━━━━━━━━━━━━\u001b[0m\u001b[37m\u001b[0m \u001b[1m25s\u001b[0m 79ms/step - accuracy: 0.7791 - loss: 0.5991 - val_accuracy: 0.7862 - val_loss: 0.5887\n",
            "Epoch 15/50\n",
            "\u001b[1m319/319\u001b[0m \u001b[32m━━━━━━━━━━━━━━━━━━━━\u001b[0m\u001b[37m\u001b[0m \u001b[1m25s\u001b[0m 79ms/step - accuracy: 0.7808 - loss: 0.5948 - val_accuracy: 0.7876 - val_loss: 0.5838\n",
            "Epoch 16/50\n",
            "\u001b[1m319/319\u001b[0m \u001b[32m━━━━━━━━━━━━━━━━━━━━\u001b[0m\u001b[37m\u001b[0m \u001b[1m25s\u001b[0m 79ms/step - accuracy: 0.7801 - loss: 0.5925 - val_accuracy: 0.7861 - val_loss: 0.5882\n",
            "Epoch 17/50\n",
            "\u001b[1m319/319\u001b[0m \u001b[32m━━━━━━━━━━━━━━━━━━━━\u001b[0m\u001b[37m\u001b[0m \u001b[1m25s\u001b[0m 79ms/step - accuracy: 0.7816 - loss: 0.5906 - val_accuracy: 0.7851 - val_loss: 0.5827\n",
            "Epoch 18/50\n",
            "\u001b[1m319/319\u001b[0m \u001b[32m━━━━━━━━━━━━━━━━━━━━\u001b[0m\u001b[37m\u001b[0m \u001b[1m25s\u001b[0m 79ms/step - accuracy: 0.7786 - loss: 0.5900 - val_accuracy: 0.7861 - val_loss: 0.5819\n",
            "Epoch 19/50\n",
            "\u001b[1m319/319\u001b[0m \u001b[32m━━━━━━━━━━━━━━━━━━━━\u001b[0m\u001b[37m\u001b[0m \u001b[1m25s\u001b[0m 79ms/step - accuracy: 0.7794 - loss: 0.5915 - val_accuracy: 0.7867 - val_loss: 0.5763\n",
            "Epoch 20/50\n",
            "\u001b[1m319/319\u001b[0m \u001b[32m━━━━━━━━━━━━━━━━━━━━\u001b[0m\u001b[37m\u001b[0m \u001b[1m25s\u001b[0m 79ms/step - accuracy: 0.7807 - loss: 0.5894 - val_accuracy: 0.7856 - val_loss: 0.5790\n",
            "Epoch 21/50\n",
            "\u001b[1m319/319\u001b[0m \u001b[32m━━━━━━━━━━━━━━━━━━━━\u001b[0m\u001b[37m\u001b[0m \u001b[1m25s\u001b[0m 79ms/step - accuracy: 0.7810 - loss: 0.5920 - val_accuracy: 0.7869 - val_loss: 0.5763\n",
            "Epoch 22/50\n",
            "\u001b[1m319/319\u001b[0m \u001b[32m━━━━━━━━━━━━━━━━━━━━\u001b[0m\u001b[37m\u001b[0m \u001b[1m25s\u001b[0m 79ms/step - accuracy: 0.7818 - loss: 0.5833 - val_accuracy: 0.7881 - val_loss: 0.5780\n",
            "Epoch 23/50\n",
            "\u001b[1m319/319\u001b[0m \u001b[32m━━━━━━━━━━━━━━━━━━━━\u001b[0m\u001b[37m\u001b[0m \u001b[1m25s\u001b[0m 79ms/step - accuracy: 0.7827 - loss: 0.5835 - val_accuracy: 0.7843 - val_loss: 0.5866\n",
            "Epoch 24/50\n",
            "\u001b[1m319/319\u001b[0m \u001b[32m━━━━━━━━━━━━━━━━━━━━\u001b[0m\u001b[37m\u001b[0m \u001b[1m25s\u001b[0m 79ms/step - accuracy: 0.7784 - loss: 0.5874 - val_accuracy: 0.7875 - val_loss: 0.5752\n",
            "Epoch 25/50\n",
            "\u001b[1m319/319\u001b[0m \u001b[32m━━━━━━━━━━━━━━━━━━━━\u001b[0m\u001b[37m\u001b[0m \u001b[1m25s\u001b[0m 79ms/step - accuracy: 0.7792 - loss: 0.5892 - val_accuracy: 0.7869 - val_loss: 0.5723\n",
            "Epoch 26/50\n",
            "\u001b[1m319/319\u001b[0m \u001b[32m━━━━━━━━━━━━━━━━━━━━\u001b[0m\u001b[37m\u001b[0m \u001b[1m25s\u001b[0m 79ms/step - accuracy: 0.7824 - loss: 0.5823 - val_accuracy: 0.7874 - val_loss: 0.5746\n",
            "Epoch 27/50\n",
            "\u001b[1m319/319\u001b[0m \u001b[32m━━━━━━━━━━━━━━━━━━━━\u001b[0m\u001b[37m\u001b[0m \u001b[1m25s\u001b[0m 79ms/step - accuracy: 0.7823 - loss: 0.5858 - val_accuracy: 0.7859 - val_loss: 0.5748\n",
            "Epoch 28/50\n",
            "\u001b[1m319/319\u001b[0m \u001b[32m━━━━━━━━━━━━━━━━━━━━\u001b[0m\u001b[37m\u001b[0m \u001b[1m25s\u001b[0m 79ms/step - accuracy: 0.7817 - loss: 0.5799 - val_accuracy: 0.7854 - val_loss: 0.5721\n",
            "Epoch 29/50\n",
            "\u001b[1m319/319\u001b[0m \u001b[32m━━━━━━━━━━━━━━━━━━━━\u001b[0m\u001b[37m\u001b[0m \u001b[1m25s\u001b[0m 79ms/step - accuracy: 0.7834 - loss: 0.5802 - val_accuracy: 0.7862 - val_loss: 0.5746\n",
            "Epoch 30/50\n",
            "\u001b[1m319/319\u001b[0m \u001b[32m━━━━━━━━━━━━━━━━━━━━\u001b[0m\u001b[37m\u001b[0m \u001b[1m25s\u001b[0m 79ms/step - accuracy: 0.7836 - loss: 0.5790 - val_accuracy: 0.7873 - val_loss: 0.5754\n",
            "Epoch 31/50\n",
            "\u001b[1m319/319\u001b[0m \u001b[32m━━━━━━━━━━━━━━━━━━━━\u001b[0m\u001b[37m\u001b[0m \u001b[1m25s\u001b[0m 79ms/step - accuracy: 0.7800 - loss: 0.5849 - val_accuracy: 0.7862 - val_loss: 0.5721\n",
            "Epoch 32/50\n",
            "\u001b[1m319/319\u001b[0m \u001b[32m━━━━━━━━━━━━━━━━━━━━\u001b[0m\u001b[37m\u001b[0m \u001b[1m25s\u001b[0m 79ms/step - accuracy: 0.7826 - loss: 0.5766 - val_accuracy: 0.7857 - val_loss: 0.5702\n",
            "Epoch 33/50\n",
            "\u001b[1m319/319\u001b[0m \u001b[32m━━━━━━━━━━━━━━━━━━━━\u001b[0m\u001b[37m\u001b[0m \u001b[1m25s\u001b[0m 79ms/step - accuracy: 0.7821 - loss: 0.5787 - val_accuracy: 0.7870 - val_loss: 0.5714\n",
            "Epoch 34/50\n",
            "\u001b[1m319/319\u001b[0m \u001b[32m━━━━━━━━━━━━━━━━━━━━\u001b[0m\u001b[37m\u001b[0m \u001b[1m25s\u001b[0m 79ms/step - accuracy: 0.7808 - loss: 0.5848 - val_accuracy: 0.7887 - val_loss: 0.5686\n",
            "Epoch 35/50\n",
            "\u001b[1m319/319\u001b[0m \u001b[32m━━━━━━━━━━━━━━━━━━━━\u001b[0m\u001b[37m\u001b[0m \u001b[1m25s\u001b[0m 79ms/step - accuracy: 0.7815 - loss: 0.5833 - val_accuracy: 0.7863 - val_loss: 0.5714\n",
            "Epoch 36/50\n",
            "\u001b[1m319/319\u001b[0m \u001b[32m━━━━━━━━━━━━━━━━━━━━\u001b[0m\u001b[37m\u001b[0m \u001b[1m25s\u001b[0m 79ms/step - accuracy: 0.7861 - loss: 0.5728 - val_accuracy: 0.7866 - val_loss: 0.5719\n",
            "Epoch 37/50\n",
            "\u001b[1m319/319\u001b[0m \u001b[32m━━━━━━━━━━━━━━━━━━━━\u001b[0m\u001b[37m\u001b[0m \u001b[1m25s\u001b[0m 79ms/step - accuracy: 0.7835 - loss: 0.5806 - val_accuracy: 0.7853 - val_loss: 0.5701\n",
            "Epoch 38/50\n",
            "\u001b[1m319/319\u001b[0m \u001b[32m━━━━━━━━━━━━━━━━━━━━\u001b[0m\u001b[37m\u001b[0m \u001b[1m25s\u001b[0m 79ms/step - accuracy: 0.7795 - loss: 0.5844 - val_accuracy: 0.7891 - val_loss: 0.5720\n",
            "Epoch 39/50\n",
            "\u001b[1m319/319\u001b[0m \u001b[32m━━━━━━━━━━━━━━━━━━━━\u001b[0m\u001b[37m\u001b[0m \u001b[1m25s\u001b[0m 79ms/step - accuracy: 0.7827 - loss: 0.5822 - val_accuracy: 0.7862 - val_loss: 0.5711\n",
            "Epoch 40/50\n",
            "\u001b[1m319/319\u001b[0m \u001b[32m━━━━━━━━━━━━━━━━━━━━\u001b[0m\u001b[37m\u001b[0m \u001b[1m25s\u001b[0m 79ms/step - accuracy: 0.7846 - loss: 0.5740 - val_accuracy: 0.7871 - val_loss: 0.5693\n",
            "Epoch 41/50\n",
            "\u001b[1m319/319\u001b[0m \u001b[32m━━━━━━━━━━━━━━━━━━━━\u001b[0m\u001b[37m\u001b[0m \u001b[1m25s\u001b[0m 79ms/step - accuracy: 0.7814 - loss: 0.5827 - val_accuracy: 0.7878 - val_loss: 0.5682\n",
            "Epoch 42/50\n",
            "\u001b[1m319/319\u001b[0m \u001b[32m━━━━━━━━━━━━━━━━━━━━\u001b[0m\u001b[37m\u001b[0m \u001b[1m25s\u001b[0m 79ms/step - accuracy: 0.7829 - loss: 0.5798 - val_accuracy: 0.7878 - val_loss: 0.5696\n",
            "Epoch 43/50\n",
            "\u001b[1m319/319\u001b[0m \u001b[32m━━━━━━━━━━━━━━━━━━━━\u001b[0m\u001b[37m\u001b[0m \u001b[1m25s\u001b[0m 79ms/step - accuracy: 0.7816 - loss: 0.5784 - val_accuracy: 0.7878 - val_loss: 0.5703\n",
            "Epoch 44/50\n",
            "\u001b[1m319/319\u001b[0m \u001b[32m━━━━━━━━━━━━━━━━━━━━\u001b[0m\u001b[37m\u001b[0m \u001b[1m25s\u001b[0m 79ms/step - accuracy: 0.7845 - loss: 0.5759 - val_accuracy: 0.7881 - val_loss: 0.5680\n",
            "Epoch 45/50\n",
            "\u001b[1m319/319\u001b[0m \u001b[32m━━━━━━━━━━━━━━━━━━━━\u001b[0m\u001b[37m\u001b[0m \u001b[1m25s\u001b[0m 79ms/step - accuracy: 0.7820 - loss: 0.5834 - val_accuracy: 0.7849 - val_loss: 0.5716\n",
            "Epoch 46/50\n",
            "\u001b[1m319/319\u001b[0m \u001b[32m━━━━━━━━━━━━━━━━━━━━\u001b[0m\u001b[37m\u001b[0m \u001b[1m25s\u001b[0m 79ms/step - accuracy: 0.7846 - loss: 0.5778 - val_accuracy: 0.7877 - val_loss: 0.5675\n",
            "Epoch 47/50\n",
            "\u001b[1m319/319\u001b[0m \u001b[32m━━━━━━━━━━━━━━━━━━━━\u001b[0m\u001b[37m\u001b[0m \u001b[1m25s\u001b[0m 79ms/step - accuracy: 0.7860 - loss: 0.5738 - val_accuracy: 0.7852 - val_loss: 0.5686\n",
            "Epoch 48/50\n",
            "\u001b[1m319/319\u001b[0m \u001b[32m━━━━━━━━━━━━━━━━━━━━\u001b[0m\u001b[37m\u001b[0m \u001b[1m25s\u001b[0m 79ms/step - accuracy: 0.7831 - loss: 0.5772 - val_accuracy: 0.7891 - val_loss: 0.5672\n",
            "Epoch 49/50\n",
            "\u001b[1m319/319\u001b[0m \u001b[32m━━━━━━━━━━━━━━━━━━━━\u001b[0m\u001b[37m\u001b[0m \u001b[1m25s\u001b[0m 79ms/step - accuracy: 0.7811 - loss: 0.5856 - val_accuracy: 0.7870 - val_loss: 0.5690\n",
            "Epoch 50/50\n",
            "\u001b[1m319/319\u001b[0m \u001b[32m━━━━━━━━━━━━━━━━━━━━\u001b[0m\u001b[37m\u001b[0m \u001b[1m25s\u001b[0m 79ms/step - accuracy: 0.7844 - loss: 0.5758 - val_accuracy: 0.7853 - val_loss: 0.5699\n"
          ]
        }
      ]
    },
    {
      "cell_type": "code",
      "source": [
        "vgg16_loss, vgg16_acc = vgg16_model.evaluate(vgg16_test_ds)"
      ],
      "metadata": {
        "id": "11QgDIzJwqYj",
        "colab": {
          "base_uri": "https://localhost:8080/"
        },
        "outputId": "334fd3c3-5931-4f30-a247-7f733b844ef9"
      },
      "execution_count": null,
      "outputs": [
        {
          "output_type": "stream",
          "name": "stdout",
          "text": [
            "\u001b[1m319/319\u001b[0m \u001b[32m━━━━━━━━━━━━━━━━━━━━\u001b[0m\u001b[37m\u001b[0m \u001b[1m127s\u001b[0m 397ms/step - accuracy: 0.7911 - loss: 0.5612\n"
          ]
        }
      ]
    },
    {
      "cell_type": "code",
      "source": [
        "vgg16_y_pred=np.argmax(vgg16_model.predict(vgg16_test_img), axis=-1)\n",
        "vgg16_con_mat = tf.math.confusion_matrix(labels=vgg16_test_labels, predictions=vgg16_y_pred).numpy()"
      ],
      "metadata": {
        "id": "wmmgyNUAw_GS",
        "colab": {
          "base_uri": "https://localhost:8080/"
        },
        "outputId": "3c768c5e-b898-4bbe-b63f-e72277c8bc57"
      },
      "execution_count": null,
      "outputs": [
        {
          "output_type": "stream",
          "name": "stdout",
          "text": [
            "\u001b[1m5/5\u001b[0m \u001b[32m━━━━━━━━━━━━━━━━━━━━\u001b[0m\u001b[37m\u001b[0m \u001b[1m7s\u001b[0m 829ms/step\n"
          ]
        }
      ]
    },
    {
      "cell_type": "code",
      "source": [
        "vgg16_con_mat_norm = np.around(vgg16_con_mat.astype('float') / vgg16_con_mat.sum(axis=1)[:, np.newaxis], decimals=2)\n",
        "\n",
        "vgg16_con_mat_df = pd.DataFrame(vgg16_con_mat_norm,\n",
        "                     index = class_names,\n",
        "                     columns = class_names)"
      ],
      "metadata": {
        "id": "adAaWV7gxAf4"
      },
      "execution_count": null,
      "outputs": []
    },
    {
      "cell_type": "code",
      "source": [
        "figure = plt.figure(figsize=(10, 10))\n",
        "sns.heatmap(vgg16_con_mat_df, annot=True,cmap=plt.cm.Blues)\n",
        "plt.tight_layout()\n",
        "plt.ylabel('True label')\n",
        "plt.xlabel('Predicted label')\n",
        "plt.show()"
      ],
      "metadata": {
        "id": "Zs-H8MtqxAzM",
        "colab": {
          "base_uri": "https://localhost:8080/",
          "height": 1000
        },
        "outputId": "823211f2-f15f-46e3-e1aa-529da5a54365"
      },
      "execution_count": null,
      "outputs": [
        {
          "output_type": "display_data",
          "data": {
            "text/plain": [
              "<Figure size 1000x1000 with 2 Axes>"
            ],
            "image/png": "[encoded data removed]"
          },
          "metadata": {}
        }
      ]
    },
    {
      "cell_type": "code",
      "source": [
        "vgg16_y_pred = vgg16_model.predict(vgg16_test_ds)\n",
        "vgg16_predicted_categories = np.argmax(vgg16_y_pred, axis = 1)"
      ],
      "metadata": {
        "id": "-kdcN5HtxDB6",
        "colab": {
          "base_uri": "https://localhost:8080/"
        },
        "outputId": "ba21ca30-64b8-4888-d5cc-38ff150e06f0"
      },
      "execution_count": null,
      "outputs": [
        {
          "output_type": "stream",
          "name": "stdout",
          "text": [
            "\u001b[1m319/319\u001b[0m \u001b[32m━━━━━━━━━━━━━━━━━━━━\u001b[0m\u001b[37m\u001b[0m \u001b[1m22s\u001b[0m 67ms/step\n"
          ]
        }
      ]
    },
    {
      "cell_type": "code",
      "source": [
        "vgg16_true_categories = tf.concat([y for x, y in vgg16_test_ds], axis = 0).numpy() # convert to np array"
      ],
      "metadata": {
        "id": "c881vYDaxDZv"
      },
      "execution_count": null,
      "outputs": []
    },
    {
      "cell_type": "code",
      "source": [
        "print(classification_report(vgg16_true_categories, vgg16_predicted_categories))"
      ],
      "metadata": {
        "id": "2pz3QlzsxEiG",
        "colab": {
          "base_uri": "https://localhost:8080/"
        },
        "outputId": "d392feea-3ffd-4d5e-ca7b-9ae4ec0faa18"
      },
      "execution_count": null,
      "outputs": [
        {
          "output_type": "stream",
          "name": "stdout",
          "text": [
            "              precision    recall  f1-score   support\n",
            "\n",
            "           0       0.57      0.64      0.60      4767\n",
            "           1       0.64      0.45      0.53      7226\n",
            "           2       0.85      0.94      0.89     32614\n",
            "           3       0.53      0.18      0.27      1905\n",
            "           4       0.43      0.29      0.35      1301\n",
            "\n",
            "    accuracy                           0.79     47813\n",
            "   macro avg       0.60      0.50      0.53     47813\n",
            "weighted avg       0.77      0.79      0.77     47813\n",
            "\n"
          ]
        }
      ]
    }
  ]
}